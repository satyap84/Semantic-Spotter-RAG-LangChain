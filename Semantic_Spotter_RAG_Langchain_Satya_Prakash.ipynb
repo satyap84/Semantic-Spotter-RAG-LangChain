{
  "cells": [
    {
      "cell_type": "markdown",
      "metadata": {
        "id": "egoNtM1UIt4Z"
      },
      "source": [
        "# **Semantic Spotter Project Submission by Satya Prakash - C58 Batch**\n",
        "\n",
        "# Option 1: Build a RAG System - RAG Based Chatbot implemented using Langchain to search information in Life Insurance Document.\n",
        "## Overview\n",
        "This project builds a Retrieval-Augmented Generation (RAG) chatbot using LangChain to effectively answer user queries baseThis project builds a Retrieval-Augmented Generation (RAG) chatbot using LangChain to automate the process of extracting and answering questions based on life insurance policies. The system combines document processing, vector-based retrieval, caching, and generative AI to efficiently generate concise answers. LangChain simplifies the integration of these components by providing a modular framework to connect document loaders, vector databases, language models, and custom chains.\n",
        "\n",
        "The chatbot extracts information from policy documents, stores it in ChromaDB (a vector store), and uses OpenAI’s GPT-3.5-turbo to generate answers. With LangChain’s retrieval and caching mechanisms, the system can optimize responses for both complex queries and repeated questions.\n",
        "\n",
        "## Problem Statement\n",
        "Insurance documents are long, complex, and challenging to navigate. Customers or employees seeking specific policy details (such as benefits or claims procedures) often struggle to find the relevant sections quickly. Searching through large PDFs manually is time-consuming and prone to errors, leading to frustration for both internal staff and customers.\n",
        "\n",
        "The goal of this project is to automate the retrieval and question-answering process using RAG-based techniques. The system needs to:\n",
        "\n",
        "- Extract relevant sections from insurance documents.\n",
        "- Provide accurate and concise answers to user queries.\n",
        "- Optimize response time by leveraging a caching mechanism for repeated queries.\n",
        "- Use generative AI (GPT-3.5) to answer complex, context-dependent questions.\n",
        "- Ensure that answers are well-cited, linking back to specific sections or pages from the source documents.\n",
        "\n",
        "## Architecture\n",
        "The following is the design of the system:\n",
        "\n",
        "1. PDF Processing and Document Chunking:\n",
        "  - Use LangChain’s PyPDFLoader to extract text from insurance policy PDFs.\n",
        "  - Chunk large documents into manageable pieces to ensure relevant information is indexed correctly.\n",
        "2. Embedding and Vector Store Setup:\n",
        "  - Generate text embeddings using OpenAI’s text-embedding-ada-002 model.\n",
        "  - Store these embeddings in a persistent Chroma vector database for efficient retrieval.\n",
        "3. Retrieval and Caching:\n",
        "  - Implement a retriever that searches for relevant sections based on user queries using similarity search.\n",
        "  - Incorporate a cache mechanism to store frequent queries and minimize redundant computation.\n",
        "4. Prompt Engineering and Response Generation:\n",
        "  - Use LLMChain to connect the retrieved information with a structured prompt for GPT-3.5-turbo.\n",
        "  - Ensure the generated responses are concise, informative, and cited, including references to specific policy names and pages.\n",
        "5. User-Friendly Query Handling:\n",
        "  - Provide clear and actionable answers to user questions (e.g., \"What are the policy benefits for accidental death?\").\n",
        "  - Support both first-time queries and cached queries to enhance the user experience."
      ]
    },
    {
      "cell_type": "markdown",
      "metadata": {
        "id": "ghrNO9TjM_mS"
      },
      "source": [
        "## 1. Install and Import the Required Libraries"
      ]
    },
    {
      "cell_type": "code",
      "execution_count": 1,
      "metadata": {
        "colab": {
          "base_uri": "https://localhost:8080/"
        },
        "id": "8PsPVtxoSY_V",
        "outputId": "4c52180f-43b5-43e5-f806-df8336756bfc"
      },
      "outputs": [
        {
          "output_type": "stream",
          "name": "stdout",
          "text": [
            "Collecting langchain\n",
            "  Downloading langchain-0.3.4-py3-none-any.whl.metadata (7.1 kB)\n",
            "Collecting openai\n",
            "  Downloading openai-1.52.1-py3-none-any.whl.metadata (24 kB)\n",
            "Collecting pdfplumber\n",
            "  Downloading pdfplumber-0.11.4-py3-none-any.whl.metadata (41 kB)\n",
            "\u001b[2K     \u001b[90m━━━━━━━━━━━━━━━━━━━━━━━━━━━━━━━━━━━━━━━━\u001b[0m \u001b[32m42.0/42.0 kB\u001b[0m \u001b[31m2.6 MB/s\u001b[0m eta \u001b[36m0:00:00\u001b[0m\n",
            "\u001b[?25hCollecting sentence-transformers\n",
            "  Downloading sentence_transformers-3.2.1-py3-none-any.whl.metadata (10 kB)\n",
            "Collecting tiktoken\n",
            "  Downloading tiktoken-0.8.0-cp310-cp310-manylinux_2_17_x86_64.manylinux2014_x86_64.whl.metadata (6.6 kB)\n",
            "Collecting pypdf\n",
            "  Downloading pypdf-5.0.1-py3-none-any.whl.metadata (7.4 kB)\n",
            "Collecting langchain-community\n",
            "  Downloading langchain_community-0.3.3-py3-none-any.whl.metadata (2.8 kB)\n",
            "Requirement already satisfied: PyYAML>=5.3 in /usr/local/lib/python3.10/dist-packages (from langchain) (6.0.2)\n",
            "Requirement already satisfied: SQLAlchemy<3,>=1.4 in /usr/local/lib/python3.10/dist-packages (from langchain) (2.0.36)\n",
            "Requirement already satisfied: aiohttp<4.0.0,>=3.8.3 in /usr/local/lib/python3.10/dist-packages (from langchain) (3.10.10)\n",
            "Requirement already satisfied: async-timeout<5.0.0,>=4.0.0 in /usr/local/lib/python3.10/dist-packages (from langchain) (4.0.3)\n",
            "Collecting langchain-core<0.4.0,>=0.3.12 (from langchain)\n",
            "  Downloading langchain_core-0.3.12-py3-none-any.whl.metadata (6.3 kB)\n",
            "Collecting langchain-text-splitters<0.4.0,>=0.3.0 (from langchain)\n",
            "  Downloading langchain_text_splitters-0.3.0-py3-none-any.whl.metadata (2.3 kB)\n",
            "Collecting langsmith<0.2.0,>=0.1.17 (from langchain)\n",
            "  Downloading langsmith-0.1.137-py3-none-any.whl.metadata (13 kB)\n",
            "Requirement already satisfied: numpy<2,>=1 in /usr/local/lib/python3.10/dist-packages (from langchain) (1.26.4)\n",
            "Requirement already satisfied: pydantic<3.0.0,>=2.7.4 in /usr/local/lib/python3.10/dist-packages (from langchain) (2.9.2)\n",
            "Requirement already satisfied: requests<3,>=2 in /usr/local/lib/python3.10/dist-packages (from langchain) (2.32.3)\n",
            "Requirement already satisfied: tenacity!=8.4.0,<10,>=8.1.0 in /usr/local/lib/python3.10/dist-packages (from langchain) (9.0.0)\n",
            "Requirement already satisfied: anyio<5,>=3.5.0 in /usr/local/lib/python3.10/dist-packages (from openai) (3.7.1)\n",
            "Requirement already satisfied: distro<2,>=1.7.0 in /usr/lib/python3/dist-packages (from openai) (1.7.0)\n",
            "Collecting httpx<1,>=0.23.0 (from openai)\n",
            "  Downloading httpx-0.27.2-py3-none-any.whl.metadata (7.1 kB)\n",
            "Collecting jiter<1,>=0.4.0 (from openai)\n",
            "  Downloading jiter-0.6.1-cp310-cp310-manylinux_2_17_x86_64.manylinux2014_x86_64.whl.metadata (5.2 kB)\n",
            "Requirement already satisfied: sniffio in /usr/local/lib/python3.10/dist-packages (from openai) (1.3.1)\n",
            "Requirement already satisfied: tqdm>4 in /usr/local/lib/python3.10/dist-packages (from openai) (4.66.5)\n",
            "Requirement already satisfied: typing-extensions<5,>=4.11 in /usr/local/lib/python3.10/dist-packages (from openai) (4.12.2)\n",
            "Collecting pdfminer.six==20231228 (from pdfplumber)\n",
            "  Downloading pdfminer.six-20231228-py3-none-any.whl.metadata (4.2 kB)\n",
            "Requirement already satisfied: Pillow>=9.1 in /usr/local/lib/python3.10/dist-packages (from pdfplumber) (10.4.0)\n",
            "Collecting pypdfium2>=4.18.0 (from pdfplumber)\n",
            "  Downloading pypdfium2-4.30.0-py3-none-manylinux_2_17_x86_64.manylinux2014_x86_64.whl.metadata (48 kB)\n",
            "\u001b[2K     \u001b[90m━━━━━━━━━━━━━━━━━━━━━━━━━━━━━━━━━━━━━━━━\u001b[0m \u001b[32m48.5/48.5 kB\u001b[0m \u001b[31m2.7 MB/s\u001b[0m eta \u001b[36m0:00:00\u001b[0m\n",
            "\u001b[?25hRequirement already satisfied: charset-normalizer>=2.0.0 in /usr/local/lib/python3.10/dist-packages (from pdfminer.six==20231228->pdfplumber) (3.4.0)\n",
            "Requirement already satisfied: cryptography>=36.0.0 in /usr/local/lib/python3.10/dist-packages (from pdfminer.six==20231228->pdfplumber) (43.0.1)\n",
            "Requirement already satisfied: transformers<5.0.0,>=4.41.0 in /usr/local/lib/python3.10/dist-packages (from sentence-transformers) (4.44.2)\n",
            "Requirement already satisfied: torch>=1.11.0 in /usr/local/lib/python3.10/dist-packages (from sentence-transformers) (2.4.1+cu121)\n",
            "Requirement already satisfied: scikit-learn in /usr/local/lib/python3.10/dist-packages (from sentence-transformers) (1.5.2)\n",
            "Requirement already satisfied: scipy in /usr/local/lib/python3.10/dist-packages (from sentence-transformers) (1.13.1)\n",
            "Requirement already satisfied: huggingface-hub>=0.20.0 in /usr/local/lib/python3.10/dist-packages (from sentence-transformers) (0.24.7)\n",
            "Requirement already satisfied: regex>=2022.1.18 in /usr/local/lib/python3.10/dist-packages (from tiktoken) (2024.9.11)\n",
            "Collecting dataclasses-json<0.7,>=0.5.7 (from langchain-community)\n",
            "  Downloading dataclasses_json-0.6.7-py3-none-any.whl.metadata (25 kB)\n",
            "Collecting pydantic-settings<3.0.0,>=2.4.0 (from langchain-community)\n",
            "  Downloading pydantic_settings-2.6.0-py3-none-any.whl.metadata (3.5 kB)\n",
            "Requirement already satisfied: aiohappyeyeballs>=2.3.0 in /usr/local/lib/python3.10/dist-packages (from aiohttp<4.0.0,>=3.8.3->langchain) (2.4.3)\n",
            "Requirement already satisfied: aiosignal>=1.1.2 in /usr/local/lib/python3.10/dist-packages (from aiohttp<4.0.0,>=3.8.3->langchain) (1.3.1)\n",
            "Requirement already satisfied: attrs>=17.3.0 in /usr/local/lib/python3.10/dist-packages (from aiohttp<4.0.0,>=3.8.3->langchain) (24.2.0)\n",
            "Requirement already satisfied: frozenlist>=1.1.1 in /usr/local/lib/python3.10/dist-packages (from aiohttp<4.0.0,>=3.8.3->langchain) (1.4.1)\n",
            "Requirement already satisfied: multidict<7.0,>=4.5 in /usr/local/lib/python3.10/dist-packages (from aiohttp<4.0.0,>=3.8.3->langchain) (6.1.0)\n",
            "Requirement already satisfied: yarl<2.0,>=1.12.0 in /usr/local/lib/python3.10/dist-packages (from aiohttp<4.0.0,>=3.8.3->langchain) (1.15.4)\n",
            "Requirement already satisfied: idna>=2.8 in /usr/local/lib/python3.10/dist-packages (from anyio<5,>=3.5.0->openai) (3.10)\n",
            "Requirement already satisfied: exceptiongroup in /usr/local/lib/python3.10/dist-packages (from anyio<5,>=3.5.0->openai) (1.2.2)\n",
            "Collecting marshmallow<4.0.0,>=3.18.0 (from dataclasses-json<0.7,>=0.5.7->langchain-community)\n",
            "  Downloading marshmallow-3.23.0-py3-none-any.whl.metadata (7.6 kB)\n",
            "Collecting typing-inspect<1,>=0.4.0 (from dataclasses-json<0.7,>=0.5.7->langchain-community)\n",
            "  Downloading typing_inspect-0.9.0-py3-none-any.whl.metadata (1.5 kB)\n",
            "Requirement already satisfied: certifi in /usr/local/lib/python3.10/dist-packages (from httpx<1,>=0.23.0->openai) (2024.8.30)\n",
            "Collecting httpcore==1.* (from httpx<1,>=0.23.0->openai)\n",
            "  Downloading httpcore-1.0.6-py3-none-any.whl.metadata (21 kB)\n",
            "Collecting h11<0.15,>=0.13 (from httpcore==1.*->httpx<1,>=0.23.0->openai)\n",
            "  Downloading h11-0.14.0-py3-none-any.whl.metadata (8.2 kB)\n",
            "Requirement already satisfied: filelock in /usr/local/lib/python3.10/dist-packages (from huggingface-hub>=0.20.0->sentence-transformers) (3.16.1)\n",
            "Requirement already satisfied: fsspec>=2023.5.0 in /usr/local/lib/python3.10/dist-packages (from huggingface-hub>=0.20.0->sentence-transformers) (2024.6.1)\n",
            "Requirement already satisfied: packaging>=20.9 in /usr/local/lib/python3.10/dist-packages (from huggingface-hub>=0.20.0->sentence-transformers) (24.1)\n",
            "Collecting jsonpatch<2.0,>=1.33 (from langchain-core<0.4.0,>=0.3.12->langchain)\n",
            "  Downloading jsonpatch-1.33-py2.py3-none-any.whl.metadata (3.0 kB)\n",
            "Collecting orjson<4.0.0,>=3.9.14 (from langsmith<0.2.0,>=0.1.17->langchain)\n",
            "  Downloading orjson-3.10.10-cp310-cp310-manylinux_2_17_x86_64.manylinux2014_x86_64.whl.metadata (50 kB)\n",
            "\u001b[2K     \u001b[90m━━━━━━━━━━━━━━━━━━━━━━━━━━━━━━━━━━━━━━━━\u001b[0m \u001b[32m50.6/50.6 kB\u001b[0m \u001b[31m3.3 MB/s\u001b[0m eta \u001b[36m0:00:00\u001b[0m\n",
            "\u001b[?25hCollecting requests-toolbelt<2.0.0,>=1.0.0 (from langsmith<0.2.0,>=0.1.17->langchain)\n",
            "  Downloading requests_toolbelt-1.0.0-py2.py3-none-any.whl.metadata (14 kB)\n",
            "Requirement already satisfied: annotated-types>=0.6.0 in /usr/local/lib/python3.10/dist-packages (from pydantic<3.0.0,>=2.7.4->langchain) (0.7.0)\n",
            "Requirement already satisfied: pydantic-core==2.23.4 in /usr/local/lib/python3.10/dist-packages (from pydantic<3.0.0,>=2.7.4->langchain) (2.23.4)\n",
            "Collecting python-dotenv>=0.21.0 (from pydantic-settings<3.0.0,>=2.4.0->langchain-community)\n",
            "  Downloading python_dotenv-1.0.1-py3-none-any.whl.metadata (23 kB)\n",
            "Requirement already satisfied: urllib3<3,>=1.21.1 in /usr/local/lib/python3.10/dist-packages (from requests<3,>=2->langchain) (2.2.3)\n",
            "Requirement already satisfied: greenlet!=0.4.17 in /usr/local/lib/python3.10/dist-packages (from SQLAlchemy<3,>=1.4->langchain) (3.1.1)\n",
            "Requirement already satisfied: sympy in /usr/local/lib/python3.10/dist-packages (from torch>=1.11.0->sentence-transformers) (1.13.3)\n",
            "Requirement already satisfied: networkx in /usr/local/lib/python3.10/dist-packages (from torch>=1.11.0->sentence-transformers) (3.4.1)\n",
            "Requirement already satisfied: jinja2 in /usr/local/lib/python3.10/dist-packages (from torch>=1.11.0->sentence-transformers) (3.1.4)\n",
            "Requirement already satisfied: safetensors>=0.4.1 in /usr/local/lib/python3.10/dist-packages (from transformers<5.0.0,>=4.41.0->sentence-transformers) (0.4.5)\n",
            "Requirement already satisfied: tokenizers<0.20,>=0.19 in /usr/local/lib/python3.10/dist-packages (from transformers<5.0.0,>=4.41.0->sentence-transformers) (0.19.1)\n",
            "Requirement already satisfied: joblib>=1.2.0 in /usr/local/lib/python3.10/dist-packages (from scikit-learn->sentence-transformers) (1.4.2)\n",
            "Requirement already satisfied: threadpoolctl>=3.1.0 in /usr/local/lib/python3.10/dist-packages (from scikit-learn->sentence-transformers) (3.5.0)\n",
            "Requirement already satisfied: cffi>=1.12 in /usr/local/lib/python3.10/dist-packages (from cryptography>=36.0.0->pdfminer.six==20231228->pdfplumber) (1.17.1)\n",
            "Collecting jsonpointer>=1.9 (from jsonpatch<2.0,>=1.33->langchain-core<0.4.0,>=0.3.12->langchain)\n",
            "  Downloading jsonpointer-3.0.0-py2.py3-none-any.whl.metadata (2.3 kB)\n",
            "Collecting mypy-extensions>=0.3.0 (from typing-inspect<1,>=0.4.0->dataclasses-json<0.7,>=0.5.7->langchain-community)\n",
            "  Downloading mypy_extensions-1.0.0-py3-none-any.whl.metadata (1.1 kB)\n",
            "Requirement already satisfied: propcache>=0.2.0 in /usr/local/lib/python3.10/dist-packages (from yarl<2.0,>=1.12.0->aiohttp<4.0.0,>=3.8.3->langchain) (0.2.0)\n",
            "Requirement already satisfied: MarkupSafe>=2.0 in /usr/local/lib/python3.10/dist-packages (from jinja2->torch>=1.11.0->sentence-transformers) (3.0.2)\n",
            "Requirement already satisfied: mpmath<1.4,>=1.1.0 in /usr/local/lib/python3.10/dist-packages (from sympy->torch>=1.11.0->sentence-transformers) (1.3.0)\n",
            "Requirement already satisfied: pycparser in /usr/local/lib/python3.10/dist-packages (from cffi>=1.12->cryptography>=36.0.0->pdfminer.six==20231228->pdfplumber) (2.22)\n",
            "Downloading langchain-0.3.4-py3-none-any.whl (1.0 MB)\n",
            "\u001b[2K   \u001b[90m━━━━━━━━━━━━━━━━━━━━━━━━━━━━━━━━━━━━━━━━\u001b[0m \u001b[32m1.0/1.0 MB\u001b[0m \u001b[31m22.3 MB/s\u001b[0m eta \u001b[36m0:00:00\u001b[0m\n",
            "\u001b[?25hDownloading openai-1.52.1-py3-none-any.whl (386 kB)\n",
            "\u001b[2K   \u001b[90m━━━━━━━━━━━━━━━━━━━━━━━━━━━━━━━━━━━━━━━━\u001b[0m \u001b[32m386.9/386.9 kB\u001b[0m \u001b[31m28.6 MB/s\u001b[0m eta \u001b[36m0:00:00\u001b[0m\n",
            "\u001b[?25hDownloading pdfplumber-0.11.4-py3-none-any.whl (59 kB)\n",
            "\u001b[2K   \u001b[90m━━━━━━━━━━━━━━━━━━━━━━━━━━━━━━━━━━━━━━━━\u001b[0m \u001b[32m59.2/59.2 kB\u001b[0m \u001b[31m5.4 MB/s\u001b[0m eta \u001b[36m0:00:00\u001b[0m\n",
            "\u001b[?25hDownloading pdfminer.six-20231228-py3-none-any.whl (5.6 MB)\n",
            "\u001b[2K   \u001b[90m━━━━━━━━━━━━━━━━━━━━━━━━━━━━━━━━━━━━━━━━\u001b[0m \u001b[32m5.6/5.6 MB\u001b[0m \u001b[31m59.0 MB/s\u001b[0m eta \u001b[36m0:00:00\u001b[0m\n",
            "\u001b[?25hDownloading sentence_transformers-3.2.1-py3-none-any.whl (255 kB)\n",
            "\u001b[2K   \u001b[90m━━━━━━━━━━━━━━━━━━━━━━━━━━━━━━━━━━━━━━━━\u001b[0m \u001b[32m255.8/255.8 kB\u001b[0m \u001b[31m18.0 MB/s\u001b[0m eta \u001b[36m0:00:00\u001b[0m\n",
            "\u001b[?25hDownloading tiktoken-0.8.0-cp310-cp310-manylinux_2_17_x86_64.manylinux2014_x86_64.whl (1.2 MB)\n",
            "\u001b[2K   \u001b[90m━━━━━━━━━━━━━━━━━━━━━━━━━━━━━━━━━━━━━━━━\u001b[0m \u001b[32m1.2/1.2 MB\u001b[0m \u001b[31m37.2 MB/s\u001b[0m eta \u001b[36m0:00:00\u001b[0m\n",
            "\u001b[?25hDownloading pypdf-5.0.1-py3-none-any.whl (294 kB)\n",
            "\u001b[2K   \u001b[90m━━━━━━━━━━━━━━━━━━━━━━━━━━━━━━━━━━━━━━━━\u001b[0m \u001b[32m294.5/294.5 kB\u001b[0m \u001b[31m20.6 MB/s\u001b[0m eta \u001b[36m0:00:00\u001b[0m\n",
            "\u001b[?25hDownloading langchain_community-0.3.3-py3-none-any.whl (2.4 MB)\n",
            "\u001b[2K   \u001b[90m━━━━━━━━━━━━━━━━━━━━━━━━━━━━━━━━━━━━━━━━\u001b[0m \u001b[32m2.4/2.4 MB\u001b[0m \u001b[31m64.1 MB/s\u001b[0m eta \u001b[36m0:00:00\u001b[0m\n",
            "\u001b[?25hDownloading dataclasses_json-0.6.7-py3-none-any.whl (28 kB)\n",
            "Downloading httpx-0.27.2-py3-none-any.whl (76 kB)\n",
            "\u001b[2K   \u001b[90m━━━━━━━━━━━━━━━━━━━━━━━━━━━━━━━━━━━━━━━━\u001b[0m \u001b[32m76.4/76.4 kB\u001b[0m \u001b[31m6.7 MB/s\u001b[0m eta \u001b[36m0:00:00\u001b[0m\n",
            "\u001b[?25hDownloading httpcore-1.0.6-py3-none-any.whl (78 kB)\n",
            "\u001b[2K   \u001b[90m━━━━━━━━━━━━━━━━━━━━━━━━━━━━━━━━━━━━━━━━\u001b[0m \u001b[32m78.0/78.0 kB\u001b[0m \u001b[31m5.1 MB/s\u001b[0m eta \u001b[36m0:00:00\u001b[0m\n",
            "\u001b[?25hDownloading jiter-0.6.1-cp310-cp310-manylinux_2_17_x86_64.manylinux2014_x86_64.whl (325 kB)\n",
            "\u001b[2K   \u001b[90m━━━━━━━━━━━━━━━━━━━━━━━━━━━━━━━━━━━━━━━━\u001b[0m \u001b[32m325.2/325.2 kB\u001b[0m \u001b[31m18.7 MB/s\u001b[0m eta \u001b[36m0:00:00\u001b[0m\n",
            "\u001b[?25hDownloading langchain_core-0.3.12-py3-none-any.whl (407 kB)\n",
            "\u001b[2K   \u001b[90m━━━━━━━━━━━━━━━━━━━━━━━━━━━━━━━━━━━━━━━━\u001b[0m \u001b[32m407.7/407.7 kB\u001b[0m \u001b[31m24.1 MB/s\u001b[0m eta \u001b[36m0:00:00\u001b[0m\n",
            "\u001b[?25hDownloading langchain_text_splitters-0.3.0-py3-none-any.whl (25 kB)\n",
            "Downloading langsmith-0.1.137-py3-none-any.whl (296 kB)\n",
            "\u001b[2K   \u001b[90m━━━━━━━━━━━━━━━━━━━━━━━━━━━━━━━━━━━━━━━━\u001b[0m \u001b[32m296.9/296.9 kB\u001b[0m \u001b[31m20.1 MB/s\u001b[0m eta \u001b[36m0:00:00\u001b[0m\n",
            "\u001b[?25hDownloading pydantic_settings-2.6.0-py3-none-any.whl (28 kB)\n",
            "Downloading pypdfium2-4.30.0-py3-none-manylinux_2_17_x86_64.manylinux2014_x86_64.whl (2.8 MB)\n",
            "\u001b[2K   \u001b[90m━━━━━━━━━━━━━━━━━━━━━━━━━━━━━━━━━━━━━━━━\u001b[0m \u001b[32m2.8/2.8 MB\u001b[0m \u001b[31m55.5 MB/s\u001b[0m eta \u001b[36m0:00:00\u001b[0m\n",
            "\u001b[?25hDownloading jsonpatch-1.33-py2.py3-none-any.whl (12 kB)\n",
            "Downloading marshmallow-3.23.0-py3-none-any.whl (49 kB)\n",
            "\u001b[2K   \u001b[90m━━━━━━━━━━━━━━━━━━━━━━━━━━━━━━━━━━━━━━━━\u001b[0m \u001b[32m49.5/49.5 kB\u001b[0m \u001b[31m4.0 MB/s\u001b[0m eta \u001b[36m0:00:00\u001b[0m\n",
            "\u001b[?25hDownloading orjson-3.10.10-cp310-cp310-manylinux_2_17_x86_64.manylinux2014_x86_64.whl (144 kB)\n",
            "\u001b[2K   \u001b[90m━━━━━━━━━━━━━━━━━━━━━━━━━━━━━━━━━━━━━━━━\u001b[0m \u001b[32m144.5/144.5 kB\u001b[0m \u001b[31m12.8 MB/s\u001b[0m eta \u001b[36m0:00:00\u001b[0m\n",
            "\u001b[?25hDownloading python_dotenv-1.0.1-py3-none-any.whl (19 kB)\n",
            "Downloading requests_toolbelt-1.0.0-py2.py3-none-any.whl (54 kB)\n",
            "\u001b[2K   \u001b[90m━━━━━━━━━━━━━━━━━━━━━━━━━━━━━━━━━━━━━━━━\u001b[0m \u001b[32m54.5/54.5 kB\u001b[0m \u001b[31m3.9 MB/s\u001b[0m eta \u001b[36m0:00:00\u001b[0m\n",
            "\u001b[?25hDownloading typing_inspect-0.9.0-py3-none-any.whl (8.8 kB)\n",
            "Downloading h11-0.14.0-py3-none-any.whl (58 kB)\n",
            "\u001b[2K   \u001b[90m━━━━━━━━━━━━━━━━━━━━━━━━━━━━━━━━━━━━━━━━\u001b[0m \u001b[32m58.3/58.3 kB\u001b[0m \u001b[31m5.2 MB/s\u001b[0m eta \u001b[36m0:00:00\u001b[0m\n",
            "\u001b[?25hDownloading jsonpointer-3.0.0-py2.py3-none-any.whl (7.6 kB)\n",
            "Downloading mypy_extensions-1.0.0-py3-none-any.whl (4.7 kB)\n",
            "Installing collected packages: python-dotenv, pypdfium2, pypdf, orjson, mypy-extensions, marshmallow, jsonpointer, jiter, h11, typing-inspect, tiktoken, requests-toolbelt, jsonpatch, httpcore, pydantic-settings, pdfminer.six, httpx, dataclasses-json, pdfplumber, openai, langsmith, sentence-transformers, langchain-core, langchain-text-splitters, langchain, langchain-community\n",
            "Successfully installed dataclasses-json-0.6.7 h11-0.14.0 httpcore-1.0.6 httpx-0.27.2 jiter-0.6.1 jsonpatch-1.33 jsonpointer-3.0.0 langchain-0.3.4 langchain-community-0.3.3 langchain-core-0.3.12 langchain-text-splitters-0.3.0 langsmith-0.1.137 marshmallow-3.23.0 mypy-extensions-1.0.0 openai-1.52.1 orjson-3.10.10 pdfminer.six-20231228 pdfplumber-0.11.4 pydantic-settings-2.6.0 pypdf-5.0.1 pypdfium2-4.30.0 python-dotenv-1.0.1 requests-toolbelt-1.0.0 sentence-transformers-3.2.1 tiktoken-0.8.0 typing-inspect-0.9.0\n"
          ]
        }
      ],
      "source": [
        "# Install all the required libraries\n",
        "\n",
        "!pip install langchain openai pdfplumber sentence-transformers tiktoken pypdf langchain-community"
      ]
    },
    {
      "cell_type": "code",
      "execution_count": 2,
      "metadata": {
        "colab": {
          "base_uri": "https://localhost:8080/"
        },
        "id": "60IOHXLroBNc",
        "outputId": "db51f3e9-351c-46f2-e12a-bda43a8c47f1"
      },
      "outputs": [
        {
          "output_type": "stream",
          "name": "stdout",
          "text": [
            "Collecting chromaDB==0.5.3\n",
            "  Downloading chromadb-0.5.3-py3-none-any.whl.metadata (6.8 kB)\n",
            "Collecting build>=1.0.3 (from chromaDB==0.5.3)\n",
            "  Downloading build-1.2.2.post1-py3-none-any.whl.metadata (6.5 kB)\n",
            "Requirement already satisfied: requests>=2.28 in /usr/local/lib/python3.10/dist-packages (from chromaDB==0.5.3) (2.32.3)\n",
            "Requirement already satisfied: pydantic>=1.9 in /usr/local/lib/python3.10/dist-packages (from chromaDB==0.5.3) (2.9.2)\n",
            "Collecting chroma-hnswlib==0.7.3 (from chromaDB==0.5.3)\n",
            "  Downloading chroma_hnswlib-0.7.3-cp310-cp310-manylinux_2_17_x86_64.manylinux2014_x86_64.whl.metadata (252 bytes)\n",
            "Collecting fastapi>=0.95.2 (from chromaDB==0.5.3)\n",
            "  Downloading fastapi-0.115.3-py3-none-any.whl.metadata (27 kB)\n",
            "Collecting uvicorn>=0.18.3 (from uvicorn[standard]>=0.18.3->chromaDB==0.5.3)\n",
            "  Downloading uvicorn-0.32.0-py3-none-any.whl.metadata (6.6 kB)\n",
            "Requirement already satisfied: numpy<2.0.0,>=1.22.5 in /usr/local/lib/python3.10/dist-packages (from chromaDB==0.5.3) (1.26.4)\n",
            "Collecting posthog>=2.4.0 (from chromaDB==0.5.3)\n",
            "  Downloading posthog-3.7.0-py2.py3-none-any.whl.metadata (2.0 kB)\n",
            "Requirement already satisfied: typing-extensions>=4.5.0 in /usr/local/lib/python3.10/dist-packages (from chromaDB==0.5.3) (4.12.2)\n",
            "Collecting onnxruntime>=1.14.1 (from chromaDB==0.5.3)\n",
            "  Downloading onnxruntime-1.19.2-cp310-cp310-manylinux_2_27_x86_64.manylinux_2_28_x86_64.whl.metadata (4.5 kB)\n",
            "Requirement already satisfied: opentelemetry-api>=1.2.0 in /usr/local/lib/python3.10/dist-packages (from chromaDB==0.5.3) (1.16.0)\n",
            "Collecting opentelemetry-exporter-otlp-proto-grpc>=1.2.0 (from chromaDB==0.5.3)\n",
            "  Downloading opentelemetry_exporter_otlp_proto_grpc-1.27.0-py3-none-any.whl.metadata (2.3 kB)\n",
            "Collecting opentelemetry-instrumentation-fastapi>=0.41b0 (from chromaDB==0.5.3)\n",
            "  Downloading opentelemetry_instrumentation_fastapi-0.48b0-py3-none-any.whl.metadata (2.1 kB)\n",
            "Requirement already satisfied: opentelemetry-sdk>=1.2.0 in /usr/local/lib/python3.10/dist-packages (from chromaDB==0.5.3) (1.16.0)\n",
            "Requirement already satisfied: tokenizers>=0.13.2 in /usr/local/lib/python3.10/dist-packages (from chromaDB==0.5.3) (0.19.1)\n",
            "Collecting pypika>=0.48.9 (from chromaDB==0.5.3)\n",
            "  Downloading PyPika-0.48.9.tar.gz (67 kB)\n",
            "\u001b[2K     \u001b[90m━━━━━━━━━━━━━━━━━━━━━━━━━━━━━━━━━━━━━━━━\u001b[0m \u001b[32m67.3/67.3 kB\u001b[0m \u001b[31m5.9 MB/s\u001b[0m eta \u001b[36m0:00:00\u001b[0m\n",
            "\u001b[?25h  Installing build dependencies ... \u001b[?25l\u001b[?25hdone\n",
            "  Getting requirements to build wheel ... \u001b[?25l\u001b[?25hdone\n",
            "  Preparing metadata (pyproject.toml) ... \u001b[?25l\u001b[?25hdone\n",
            "Requirement already satisfied: tqdm>=4.65.0 in /usr/local/lib/python3.10/dist-packages (from chromaDB==0.5.3) (4.66.5)\n",
            "Collecting overrides>=7.3.1 (from chromaDB==0.5.3)\n",
            "  Downloading overrides-7.7.0-py3-none-any.whl.metadata (5.8 kB)\n",
            "Requirement already satisfied: importlib-resources in /usr/local/lib/python3.10/dist-packages (from chromaDB==0.5.3) (6.4.5)\n",
            "Requirement already satisfied: grpcio>=1.58.0 in /usr/local/lib/python3.10/dist-packages (from chromaDB==0.5.3) (1.64.1)\n",
            "Collecting bcrypt>=4.0.1 (from chromaDB==0.5.3)\n",
            "  Downloading bcrypt-4.2.0-cp39-abi3-manylinux_2_28_x86_64.whl.metadata (9.6 kB)\n",
            "Requirement already satisfied: typer>=0.9.0 in /usr/local/lib/python3.10/dist-packages (from chromaDB==0.5.3) (0.12.5)\n",
            "Collecting kubernetes>=28.1.0 (from chromaDB==0.5.3)\n",
            "  Downloading kubernetes-31.0.0-py2.py3-none-any.whl.metadata (1.5 kB)\n",
            "Requirement already satisfied: tenacity>=8.2.3 in /usr/local/lib/python3.10/dist-packages (from chromaDB==0.5.3) (9.0.0)\n",
            "Requirement already satisfied: PyYAML>=6.0.0 in /usr/local/lib/python3.10/dist-packages (from chromaDB==0.5.3) (6.0.2)\n",
            "Collecting mmh3>=4.0.1 (from chromaDB==0.5.3)\n",
            "  Downloading mmh3-5.0.1-cp310-cp310-manylinux_2_5_x86_64.manylinux1_x86_64.manylinux_2_17_x86_64.manylinux2014_x86_64.whl.metadata (14 kB)\n",
            "Requirement already satisfied: orjson>=3.9.12 in /usr/local/lib/python3.10/dist-packages (from chromaDB==0.5.3) (3.10.10)\n",
            "Requirement already satisfied: httpx>=0.27.0 in /usr/local/lib/python3.10/dist-packages (from chromaDB==0.5.3) (0.27.2)\n",
            "Requirement already satisfied: packaging>=19.1 in /usr/local/lib/python3.10/dist-packages (from build>=1.0.3->chromaDB==0.5.3) (24.1)\n",
            "Collecting pyproject_hooks (from build>=1.0.3->chromaDB==0.5.3)\n",
            "  Downloading pyproject_hooks-1.2.0-py3-none-any.whl.metadata (1.3 kB)\n",
            "Requirement already satisfied: tomli>=1.1.0 in /usr/local/lib/python3.10/dist-packages (from build>=1.0.3->chromaDB==0.5.3) (2.0.2)\n",
            "Collecting starlette<0.42.0,>=0.40.0 (from fastapi>=0.95.2->chromaDB==0.5.3)\n",
            "  Downloading starlette-0.41.0-py3-none-any.whl.metadata (6.0 kB)\n",
            "Requirement already satisfied: anyio in /usr/local/lib/python3.10/dist-packages (from httpx>=0.27.0->chromaDB==0.5.3) (3.7.1)\n",
            "Requirement already satisfied: certifi in /usr/local/lib/python3.10/dist-packages (from httpx>=0.27.0->chromaDB==0.5.3) (2024.8.30)\n",
            "Requirement already satisfied: httpcore==1.* in /usr/local/lib/python3.10/dist-packages (from httpx>=0.27.0->chromaDB==0.5.3) (1.0.6)\n",
            "Requirement already satisfied: idna in /usr/local/lib/python3.10/dist-packages (from httpx>=0.27.0->chromaDB==0.5.3) (3.10)\n",
            "Requirement already satisfied: sniffio in /usr/local/lib/python3.10/dist-packages (from httpx>=0.27.0->chromaDB==0.5.3) (1.3.1)\n",
            "Requirement already satisfied: h11<0.15,>=0.13 in /usr/local/lib/python3.10/dist-packages (from httpcore==1.*->httpx>=0.27.0->chromaDB==0.5.3) (0.14.0)\n",
            "Requirement already satisfied: six>=1.9.0 in /usr/local/lib/python3.10/dist-packages (from kubernetes>=28.1.0->chromaDB==0.5.3) (1.16.0)\n",
            "Requirement already satisfied: python-dateutil>=2.5.3 in /usr/local/lib/python3.10/dist-packages (from kubernetes>=28.1.0->chromaDB==0.5.3) (2.8.2)\n",
            "Requirement already satisfied: google-auth>=1.0.1 in /usr/local/lib/python3.10/dist-packages (from kubernetes>=28.1.0->chromaDB==0.5.3) (2.27.0)\n",
            "Requirement already satisfied: websocket-client!=0.40.0,!=0.41.*,!=0.42.*,>=0.32.0 in /usr/local/lib/python3.10/dist-packages (from kubernetes>=28.1.0->chromaDB==0.5.3) (1.8.0)\n",
            "Requirement already satisfied: requests-oauthlib in /usr/local/lib/python3.10/dist-packages (from kubernetes>=28.1.0->chromaDB==0.5.3) (1.3.1)\n",
            "Requirement already satisfied: oauthlib>=3.2.2 in /usr/local/lib/python3.10/dist-packages (from kubernetes>=28.1.0->chromaDB==0.5.3) (3.2.2)\n",
            "Requirement already satisfied: urllib3>=1.24.2 in /usr/local/lib/python3.10/dist-packages (from kubernetes>=28.1.0->chromaDB==0.5.3) (2.2.3)\n",
            "Collecting durationpy>=0.7 (from kubernetes>=28.1.0->chromaDB==0.5.3)\n",
            "  Downloading durationpy-0.9-py3-none-any.whl.metadata (338 bytes)\n",
            "Collecting coloredlogs (from onnxruntime>=1.14.1->chromaDB==0.5.3)\n",
            "  Downloading coloredlogs-15.0.1-py2.py3-none-any.whl.metadata (12 kB)\n",
            "Requirement already satisfied: flatbuffers in /usr/local/lib/python3.10/dist-packages (from onnxruntime>=1.14.1->chromaDB==0.5.3) (24.3.25)\n",
            "Requirement already satisfied: protobuf in /usr/local/lib/python3.10/dist-packages (from onnxruntime>=1.14.1->chromaDB==0.5.3) (3.20.3)\n",
            "Requirement already satisfied: sympy in /usr/local/lib/python3.10/dist-packages (from onnxruntime>=1.14.1->chromaDB==0.5.3) (1.13.3)\n",
            "Requirement already satisfied: deprecated>=1.2.6 in /usr/local/lib/python3.10/dist-packages (from opentelemetry-api>=1.2.0->chromaDB==0.5.3) (1.2.14)\n",
            "Requirement already satisfied: setuptools>=16.0 in /usr/local/lib/python3.10/dist-packages (from opentelemetry-api>=1.2.0->chromaDB==0.5.3) (75.1.0)\n",
            "Requirement already satisfied: googleapis-common-protos~=1.52 in /usr/local/lib/python3.10/dist-packages (from opentelemetry-exporter-otlp-proto-grpc>=1.2.0->chromaDB==0.5.3) (1.65.0)\n",
            "Collecting opentelemetry-exporter-otlp-proto-common==1.27.0 (from opentelemetry-exporter-otlp-proto-grpc>=1.2.0->chromaDB==0.5.3)\n",
            "  Downloading opentelemetry_exporter_otlp_proto_common-1.27.0-py3-none-any.whl.metadata (1.8 kB)\n",
            "Collecting opentelemetry-proto==1.27.0 (from opentelemetry-exporter-otlp-proto-grpc>=1.2.0->chromaDB==0.5.3)\n",
            "  Downloading opentelemetry_proto-1.27.0-py3-none-any.whl.metadata (2.3 kB)\n",
            "Collecting opentelemetry-sdk>=1.2.0 (from chromaDB==0.5.3)\n",
            "  Downloading opentelemetry_sdk-1.27.0-py3-none-any.whl.metadata (1.5 kB)\n",
            "Collecting opentelemetry-instrumentation-asgi==0.48b0 (from opentelemetry-instrumentation-fastapi>=0.41b0->chromaDB==0.5.3)\n",
            "  Downloading opentelemetry_instrumentation_asgi-0.48b0-py3-none-any.whl.metadata (2.0 kB)\n",
            "Collecting opentelemetry-instrumentation==0.48b0 (from opentelemetry-instrumentation-fastapi>=0.41b0->chromaDB==0.5.3)\n",
            "  Downloading opentelemetry_instrumentation-0.48b0-py3-none-any.whl.metadata (6.1 kB)\n",
            "Collecting opentelemetry-semantic-conventions==0.48b0 (from opentelemetry-instrumentation-fastapi>=0.41b0->chromaDB==0.5.3)\n",
            "  Downloading opentelemetry_semantic_conventions-0.48b0-py3-none-any.whl.metadata (2.4 kB)\n",
            "Collecting opentelemetry-util-http==0.48b0 (from opentelemetry-instrumentation-fastapi>=0.41b0->chromaDB==0.5.3)\n",
            "  Downloading opentelemetry_util_http-0.48b0-py3-none-any.whl.metadata (2.5 kB)\n",
            "Requirement already satisfied: wrapt<2.0.0,>=1.0.0 in /usr/local/lib/python3.10/dist-packages (from opentelemetry-instrumentation==0.48b0->opentelemetry-instrumentation-fastapi>=0.41b0->chromaDB==0.5.3) (1.16.0)\n",
            "Collecting asgiref~=3.0 (from opentelemetry-instrumentation-asgi==0.48b0->opentelemetry-instrumentation-fastapi>=0.41b0->chromaDB==0.5.3)\n",
            "  Downloading asgiref-3.8.1-py3-none-any.whl.metadata (9.3 kB)\n",
            "Collecting opentelemetry-api>=1.2.0 (from chromaDB==0.5.3)\n",
            "  Downloading opentelemetry_api-1.27.0-py3-none-any.whl.metadata (1.4 kB)\n",
            "Collecting importlib-metadata<=8.4.0,>=6.0 (from opentelemetry-api>=1.2.0->chromaDB==0.5.3)\n",
            "  Downloading importlib_metadata-8.4.0-py3-none-any.whl.metadata (4.7 kB)\n",
            "Collecting monotonic>=1.5 (from posthog>=2.4.0->chromaDB==0.5.3)\n",
            "  Downloading monotonic-1.6-py2.py3-none-any.whl.metadata (1.5 kB)\n",
            "Collecting backoff>=1.10.0 (from posthog>=2.4.0->chromaDB==0.5.3)\n",
            "  Downloading backoff-2.2.1-py3-none-any.whl.metadata (14 kB)\n",
            "Requirement already satisfied: annotated-types>=0.6.0 in /usr/local/lib/python3.10/dist-packages (from pydantic>=1.9->chromaDB==0.5.3) (0.7.0)\n",
            "Requirement already satisfied: pydantic-core==2.23.4 in /usr/local/lib/python3.10/dist-packages (from pydantic>=1.9->chromaDB==0.5.3) (2.23.4)\n",
            "Requirement already satisfied: charset-normalizer<4,>=2 in /usr/local/lib/python3.10/dist-packages (from requests>=2.28->chromaDB==0.5.3) (3.4.0)\n",
            "Requirement already satisfied: huggingface-hub<1.0,>=0.16.4 in /usr/local/lib/python3.10/dist-packages (from tokenizers>=0.13.2->chromaDB==0.5.3) (0.24.7)\n",
            "Requirement already satisfied: click>=8.0.0 in /usr/local/lib/python3.10/dist-packages (from typer>=0.9.0->chromaDB==0.5.3) (8.1.7)\n",
            "Requirement already satisfied: shellingham>=1.3.0 in /usr/local/lib/python3.10/dist-packages (from typer>=0.9.0->chromaDB==0.5.3) (1.5.4)\n",
            "Requirement already satisfied: rich>=10.11.0 in /usr/local/lib/python3.10/dist-packages (from typer>=0.9.0->chromaDB==0.5.3) (13.9.2)\n",
            "Collecting httptools>=0.5.0 (from uvicorn[standard]>=0.18.3->chromaDB==0.5.3)\n",
            "  Downloading httptools-0.6.4-cp310-cp310-manylinux_2_5_x86_64.manylinux1_x86_64.manylinux_2_17_x86_64.manylinux2014_x86_64.whl.metadata (3.6 kB)\n",
            "Requirement already satisfied: python-dotenv>=0.13 in /usr/local/lib/python3.10/dist-packages (from uvicorn[standard]>=0.18.3->chromaDB==0.5.3) (1.0.1)\n",
            "Collecting uvloop!=0.15.0,!=0.15.1,>=0.14.0 (from uvicorn[standard]>=0.18.3->chromaDB==0.5.3)\n",
            "  Downloading uvloop-0.21.0-cp310-cp310-manylinux_2_17_x86_64.manylinux2014_x86_64.whl.metadata (4.9 kB)\n",
            "Collecting watchfiles>=0.13 (from uvicorn[standard]>=0.18.3->chromaDB==0.5.3)\n",
            "  Downloading watchfiles-0.24.0-cp310-cp310-manylinux_2_17_x86_64.manylinux2014_x86_64.whl.metadata (4.9 kB)\n",
            "Collecting websockets>=10.4 (from uvicorn[standard]>=0.18.3->chromaDB==0.5.3)\n",
            "  Downloading websockets-13.1-cp310-cp310-manylinux_2_5_x86_64.manylinux1_x86_64.manylinux_2_17_x86_64.manylinux2014_x86_64.whl.metadata (6.8 kB)\n",
            "Requirement already satisfied: cachetools<6.0,>=2.0.0 in /usr/local/lib/python3.10/dist-packages (from google-auth>=1.0.1->kubernetes>=28.1.0->chromaDB==0.5.3) (5.5.0)\n",
            "Requirement already satisfied: pyasn1-modules>=0.2.1 in /usr/local/lib/python3.10/dist-packages (from google-auth>=1.0.1->kubernetes>=28.1.0->chromaDB==0.5.3) (0.4.1)\n",
            "Requirement already satisfied: rsa<5,>=3.1.4 in /usr/local/lib/python3.10/dist-packages (from google-auth>=1.0.1->kubernetes>=28.1.0->chromaDB==0.5.3) (4.9)\n",
            "Requirement already satisfied: filelock in /usr/local/lib/python3.10/dist-packages (from huggingface-hub<1.0,>=0.16.4->tokenizers>=0.13.2->chromaDB==0.5.3) (3.16.1)\n",
            "Requirement already satisfied: fsspec>=2023.5.0 in /usr/local/lib/python3.10/dist-packages (from huggingface-hub<1.0,>=0.16.4->tokenizers>=0.13.2->chromaDB==0.5.3) (2024.6.1)\n",
            "Requirement already satisfied: zipp>=0.5 in /usr/local/lib/python3.10/dist-packages (from importlib-metadata<=8.4.0,>=6.0->opentelemetry-api>=1.2.0->chromaDB==0.5.3) (3.20.2)\n",
            "Requirement already satisfied: markdown-it-py>=2.2.0 in /usr/local/lib/python3.10/dist-packages (from rich>=10.11.0->typer>=0.9.0->chromaDB==0.5.3) (3.0.0)\n",
            "Requirement already satisfied: pygments<3.0.0,>=2.13.0 in /usr/local/lib/python3.10/dist-packages (from rich>=10.11.0->typer>=0.9.0->chromaDB==0.5.3) (2.18.0)\n",
            "Requirement already satisfied: exceptiongroup in /usr/local/lib/python3.10/dist-packages (from anyio->httpx>=0.27.0->chromaDB==0.5.3) (1.2.2)\n",
            "Collecting humanfriendly>=9.1 (from coloredlogs->onnxruntime>=1.14.1->chromaDB==0.5.3)\n",
            "  Downloading humanfriendly-10.0-py2.py3-none-any.whl.metadata (9.2 kB)\n",
            "Requirement already satisfied: mpmath<1.4,>=1.1.0 in /usr/local/lib/python3.10/dist-packages (from sympy->onnxruntime>=1.14.1->chromaDB==0.5.3) (1.3.0)\n",
            "Requirement already satisfied: mdurl~=0.1 in /usr/local/lib/python3.10/dist-packages (from markdown-it-py>=2.2.0->rich>=10.11.0->typer>=0.9.0->chromaDB==0.5.3) (0.1.2)\n",
            "Requirement already satisfied: pyasn1<0.7.0,>=0.4.6 in /usr/local/lib/python3.10/dist-packages (from pyasn1-modules>=0.2.1->google-auth>=1.0.1->kubernetes>=28.1.0->chromaDB==0.5.3) (0.6.1)\n",
            "Downloading chromadb-0.5.3-py3-none-any.whl (559 kB)\n",
            "\u001b[2K   \u001b[90m━━━━━━━━━━━━━━━━━━━━━━━━━━━━━━━━━━━━━━━━\u001b[0m \u001b[32m559.5/559.5 kB\u001b[0m \u001b[31m33.1 MB/s\u001b[0m eta \u001b[36m0:00:00\u001b[0m\n",
            "\u001b[?25hDownloading chroma_hnswlib-0.7.3-cp310-cp310-manylinux_2_17_x86_64.manylinux2014_x86_64.whl (2.4 MB)\n",
            "\u001b[2K   \u001b[90m━━━━━━━━━━━━━━━━━━━━━━━━━━━━━━━━━━━━━━━━\u001b[0m \u001b[32m2.4/2.4 MB\u001b[0m \u001b[31m32.7 MB/s\u001b[0m eta \u001b[36m0:00:00\u001b[0m\n",
            "\u001b[?25hDownloading bcrypt-4.2.0-cp39-abi3-manylinux_2_28_x86_64.whl (273 kB)\n",
            "\u001b[2K   \u001b[90m━━━━━━━━━━━━━━━━━━━━━━━━━━━━━━━━━━━━━━━━\u001b[0m \u001b[32m273.8/273.8 kB\u001b[0m \u001b[31m21.3 MB/s\u001b[0m eta \u001b[36m0:00:00\u001b[0m\n",
            "\u001b[?25hDownloading build-1.2.2.post1-py3-none-any.whl (22 kB)\n",
            "Downloading fastapi-0.115.3-py3-none-any.whl (94 kB)\n",
            "\u001b[2K   \u001b[90m━━━━━━━━━━━━━━━━━━━━━━━━━━━━━━━━━━━━━━━━\u001b[0m \u001b[32m94.6/94.6 kB\u001b[0m \u001b[31m8.7 MB/s\u001b[0m eta \u001b[36m0:00:00\u001b[0m\n",
            "\u001b[?25hDownloading kubernetes-31.0.0-py2.py3-none-any.whl (1.9 MB)\n",
            "\u001b[2K   \u001b[90m━━━━━━━━━━━━━━━━━━━━━━━━━━━━━━━━━━━━━━━━\u001b[0m \u001b[32m1.9/1.9 MB\u001b[0m \u001b[31m49.1 MB/s\u001b[0m eta \u001b[36m0:00:00\u001b[0m\n",
            "\u001b[?25hDownloading mmh3-5.0.1-cp310-cp310-manylinux_2_5_x86_64.manylinux1_x86_64.manylinux_2_17_x86_64.manylinux2014_x86_64.whl (93 kB)\n",
            "\u001b[2K   \u001b[90m━━━━━━━━━━━━━━━━━━━━━━━━━━━━━━━━━━━━━━━━\u001b[0m \u001b[32m93.2/93.2 kB\u001b[0m \u001b[31m5.5 MB/s\u001b[0m eta \u001b[36m0:00:00\u001b[0m\n",
            "\u001b[?25hDownloading onnxruntime-1.19.2-cp310-cp310-manylinux_2_27_x86_64.manylinux_2_28_x86_64.whl (13.2 MB)\n",
            "\u001b[2K   \u001b[90m━━━━━━━━━━━━━━━━━━━━━━━━━━━━━━━━━━━━━━━━\u001b[0m \u001b[32m13.2/13.2 MB\u001b[0m \u001b[31m29.2 MB/s\u001b[0m eta \u001b[36m0:00:00\u001b[0m\n",
            "\u001b[?25hDownloading opentelemetry_exporter_otlp_proto_grpc-1.27.0-py3-none-any.whl (18 kB)\n",
            "Downloading opentelemetry_exporter_otlp_proto_common-1.27.0-py3-none-any.whl (17 kB)\n",
            "Downloading opentelemetry_proto-1.27.0-py3-none-any.whl (52 kB)\n",
            "\u001b[2K   \u001b[90m━━━━━━━━━━━━━━━━━━━━━━━━━━━━━━━━━━━━━━━━\u001b[0m \u001b[32m52.5/52.5 kB\u001b[0m \u001b[31m3.9 MB/s\u001b[0m eta \u001b[36m0:00:00\u001b[0m\n",
            "\u001b[?25hDownloading opentelemetry_instrumentation_fastapi-0.48b0-py3-none-any.whl (11 kB)\n",
            "Downloading opentelemetry_instrumentation-0.48b0-py3-none-any.whl (29 kB)\n",
            "Downloading opentelemetry_instrumentation_asgi-0.48b0-py3-none-any.whl (15 kB)\n",
            "Downloading opentelemetry_semantic_conventions-0.48b0-py3-none-any.whl (149 kB)\n",
            "\u001b[2K   \u001b[90m━━━━━━━━━━━━━━━━━━━━━━━━━━━━━━━━━━━━━━━━\u001b[0m \u001b[32m149.7/149.7 kB\u001b[0m \u001b[31m10.2 MB/s\u001b[0m eta \u001b[36m0:00:00\u001b[0m\n",
            "\u001b[?25hDownloading opentelemetry_api-1.27.0-py3-none-any.whl (63 kB)\n",
            "\u001b[2K   \u001b[90m━━━━━━━━━━━━━━━━━━━━━━━━━━━━━━━━━━━━━━━━\u001b[0m \u001b[32m64.0/64.0 kB\u001b[0m \u001b[31m5.9 MB/s\u001b[0m eta \u001b[36m0:00:00\u001b[0m\n",
            "\u001b[?25hDownloading opentelemetry_util_http-0.48b0-py3-none-any.whl (6.9 kB)\n",
            "Downloading opentelemetry_sdk-1.27.0-py3-none-any.whl (110 kB)\n",
            "\u001b[2K   \u001b[90m━━━━━━━━━━━━━━━━━━━━━━━━━━━━━━━━━━━━━━━━\u001b[0m \u001b[32m110.5/110.5 kB\u001b[0m \u001b[31m10.5 MB/s\u001b[0m eta \u001b[36m0:00:00\u001b[0m\n",
            "\u001b[?25hDownloading overrides-7.7.0-py3-none-any.whl (17 kB)\n",
            "Downloading posthog-3.7.0-py2.py3-none-any.whl (54 kB)\n",
            "\u001b[2K   \u001b[90m━━━━━━━━━━━━━━━━━━━━━━━━━━━━━━━━━━━━━━━━\u001b[0m \u001b[32m54.4/54.4 kB\u001b[0m \u001b[31m5.5 MB/s\u001b[0m eta \u001b[36m0:00:00\u001b[0m\n",
            "\u001b[?25hDownloading uvicorn-0.32.0-py3-none-any.whl (63 kB)\n",
            "\u001b[2K   \u001b[90m━━━━━━━━━━━━━━━━━━━━━━━━━━━━━━━━━━━━━━━━\u001b[0m \u001b[32m63.7/63.7 kB\u001b[0m \u001b[31m6.7 MB/s\u001b[0m eta \u001b[36m0:00:00\u001b[0m\n",
            "\u001b[?25hDownloading backoff-2.2.1-py3-none-any.whl (15 kB)\n",
            "Downloading durationpy-0.9-py3-none-any.whl (3.5 kB)\n",
            "Downloading httptools-0.6.4-cp310-cp310-manylinux_2_5_x86_64.manylinux1_x86_64.manylinux_2_17_x86_64.manylinux2014_x86_64.whl (442 kB)\n",
            "\u001b[2K   \u001b[90m━━━━━━━━━━━━━━━━━━━━━━━━━━━━━━━━━━━━━━━━\u001b[0m \u001b[32m442.1/442.1 kB\u001b[0m \u001b[31m20.7 MB/s\u001b[0m eta \u001b[36m0:00:00\u001b[0m\n",
            "\u001b[?25hDownloading importlib_metadata-8.4.0-py3-none-any.whl (26 kB)\n",
            "Downloading monotonic-1.6-py2.py3-none-any.whl (8.2 kB)\n",
            "Downloading starlette-0.41.0-py3-none-any.whl (73 kB)\n",
            "\u001b[2K   \u001b[90m━━━━━━━━━━━━━━━━━━━━━━━━━━━━━━━━━━━━━━━━\u001b[0m \u001b[32m73.2/73.2 kB\u001b[0m \u001b[31m6.3 MB/s\u001b[0m eta \u001b[36m0:00:00\u001b[0m\n",
            "\u001b[?25hDownloading uvloop-0.21.0-cp310-cp310-manylinux_2_17_x86_64.manylinux2014_x86_64.whl (3.8 MB)\n",
            "\u001b[2K   \u001b[90m━━━━━━━━━━━━━━━━━━━━━━━━━━━━━━━━━━━━━━━━\u001b[0m \u001b[32m3.8/3.8 MB\u001b[0m \u001b[31m105.7 MB/s\u001b[0m eta \u001b[36m0:00:00\u001b[0m\n",
            "\u001b[?25hDownloading watchfiles-0.24.0-cp310-cp310-manylinux_2_17_x86_64.manylinux2014_x86_64.whl (425 kB)\n",
            "\u001b[2K   \u001b[90m━━━━━━━━━━━━━━━━━━━━━━━━━━━━━━━━━━━━━━━━\u001b[0m \u001b[32m425.7/425.7 kB\u001b[0m \u001b[31m33.9 MB/s\u001b[0m eta \u001b[36m0:00:00\u001b[0m\n",
            "\u001b[?25hDownloading websockets-13.1-cp310-cp310-manylinux_2_5_x86_64.manylinux1_x86_64.manylinux_2_17_x86_64.manylinux2014_x86_64.whl (164 kB)\n",
            "\u001b[2K   \u001b[90m━━━━━━━━━━━━━━━━━━━━━━━━━━━━━━━━━━━━━━━━\u001b[0m \u001b[32m164.1/164.1 kB\u001b[0m \u001b[31m16.1 MB/s\u001b[0m eta \u001b[36m0:00:00\u001b[0m\n",
            "\u001b[?25hDownloading coloredlogs-15.0.1-py2.py3-none-any.whl (46 kB)\n",
            "\u001b[2K   \u001b[90m━━━━━━━━━━━━━━━━━━━━━━━━━━━━━━━━━━━━━━━━\u001b[0m \u001b[32m46.0/46.0 kB\u001b[0m \u001b[31m4.3 MB/s\u001b[0m eta \u001b[36m0:00:00\u001b[0m\n",
            "\u001b[?25hDownloading pyproject_hooks-1.2.0-py3-none-any.whl (10 kB)\n",
            "Downloading asgiref-3.8.1-py3-none-any.whl (23 kB)\n",
            "Downloading humanfriendly-10.0-py2.py3-none-any.whl (86 kB)\n",
            "\u001b[2K   \u001b[90m━━━━━━━━━━━━━━━━━━━━━━━━━━━━━━━━━━━━━━━━\u001b[0m \u001b[32m86.8/86.8 kB\u001b[0m \u001b[31m8.0 MB/s\u001b[0m eta \u001b[36m0:00:00\u001b[0m\n",
            "\u001b[?25hBuilding wheels for collected packages: pypika\n",
            "  Building wheel for pypika (pyproject.toml) ... \u001b[?25l\u001b[?25hdone\n",
            "  Created wheel for pypika: filename=PyPika-0.48.9-py2.py3-none-any.whl size=53725 sha256=e0027fadc6c0242105da341d08facd13b67145fa9bb0b2307f95fbf130c89ee2\n",
            "  Stored in directory: /root/.cache/pip/wheels/e1/26/51/d0bffb3d2fd82256676d7ad3003faea3bd6dddc9577af665f4\n",
            "Successfully built pypika\n",
            "Installing collected packages: pypika, monotonic, durationpy, websockets, uvloop, uvicorn, pyproject_hooks, overrides, opentelemetry-util-http, opentelemetry-proto, mmh3, importlib-metadata, humanfriendly, httptools, chroma-hnswlib, bcrypt, backoff, asgiref, watchfiles, starlette, posthog, opentelemetry-exporter-otlp-proto-common, opentelemetry-api, coloredlogs, build, opentelemetry-semantic-conventions, opentelemetry-instrumentation, onnxruntime, kubernetes, fastapi, opentelemetry-sdk, opentelemetry-instrumentation-asgi, opentelemetry-instrumentation-fastapi, opentelemetry-exporter-otlp-proto-grpc, chromaDB\n",
            "  Attempting uninstall: importlib-metadata\n",
            "    Found existing installation: importlib_metadata 8.5.0\n",
            "    Uninstalling importlib_metadata-8.5.0:\n",
            "      Successfully uninstalled importlib_metadata-8.5.0\n",
            "  Attempting uninstall: opentelemetry-api\n",
            "    Found existing installation: opentelemetry-api 1.16.0\n",
            "    Uninstalling opentelemetry-api-1.16.0:\n",
            "      Successfully uninstalled opentelemetry-api-1.16.0\n",
            "  Attempting uninstall: opentelemetry-semantic-conventions\n",
            "    Found existing installation: opentelemetry-semantic-conventions 0.37b0\n",
            "    Uninstalling opentelemetry-semantic-conventions-0.37b0:\n",
            "      Successfully uninstalled opentelemetry-semantic-conventions-0.37b0\n",
            "  Attempting uninstall: opentelemetry-sdk\n",
            "    Found existing installation: opentelemetry-sdk 1.16.0\n",
            "    Uninstalling opentelemetry-sdk-1.16.0:\n",
            "      Successfully uninstalled opentelemetry-sdk-1.16.0\n",
            "Successfully installed asgiref-3.8.1 backoff-2.2.1 bcrypt-4.2.0 build-1.2.2.post1 chroma-hnswlib-0.7.3 chromaDB-0.5.3 coloredlogs-15.0.1 durationpy-0.9 fastapi-0.115.3 httptools-0.6.4 humanfriendly-10.0 importlib-metadata-8.4.0 kubernetes-31.0.0 mmh3-5.0.1 monotonic-1.6 onnxruntime-1.19.2 opentelemetry-api-1.27.0 opentelemetry-exporter-otlp-proto-common-1.27.0 opentelemetry-exporter-otlp-proto-grpc-1.27.0 opentelemetry-instrumentation-0.48b0 opentelemetry-instrumentation-asgi-0.48b0 opentelemetry-instrumentation-fastapi-0.48b0 opentelemetry-proto-1.27.0 opentelemetry-sdk-1.27.0 opentelemetry-semantic-conventions-0.48b0 opentelemetry-util-http-0.48b0 overrides-7.7.0 posthog-3.7.0 pypika-0.48.9 pyproject_hooks-1.2.0 starlette-0.41.0 uvicorn-0.32.0 uvloop-0.21.0 watchfiles-0.24.0 websockets-13.1\n"
          ]
        }
      ],
      "source": [
        "!pip install chromaDB==0.5.3"
      ]
    },
    {
      "cell_type": "code",
      "execution_count": 3,
      "metadata": {
        "id": "R7uDlZS0M99u",
        "colab": {
          "base_uri": "https://localhost:8080/"
        },
        "outputId": "81d4d318-e54c-434a-8302-e2cf5d802f8e"
      },
      "outputs": [
        {
          "output_type": "stream",
          "name": "stderr",
          "text": [
            "/usr/local/lib/python3.10/dist-packages/sentence_transformers/cross_encoder/CrossEncoder.py:13: TqdmExperimentalWarning: Using `tqdm.autonotebook.tqdm` in notebook mode. Use `tqdm.tqdm` instead to force console mode (e.g. in jupyter console)\n",
            "  from tqdm.autonotebook import tqdm, trange\n"
          ]
        }
      ],
      "source": [
        "# Import all the required Libraries\n",
        "\n",
        "from langchain.document_loaders import PyPDFLoader\n",
        "from langchain.text_splitter import RecursiveCharacterTextSplitter\n",
        "from langchain.embeddings.openai import OpenAIEmbeddings\n",
        "from langchain.vectorstores import Chroma\n",
        "from langchain.chains import RetrievalQA, LLMChain\n",
        "from langchain.llms import OpenAI\n",
        "from langchain.chat_models import ChatOpenAI\n",
        "from langchain.prompts import PromptTemplate\n",
        "from sentence_transformers import CrossEncoder\n",
        "import os"
      ]
    },
    {
      "cell_type": "code",
      "execution_count": 4,
      "metadata": {
        "colab": {
          "base_uri": "https://localhost:8080/"
        },
        "id": "xl87i2pdQUIq",
        "outputId": "ff458ad9-cebf-4a62-d2f8-7cd87ae5a6ec"
      },
      "outputs": [
        {
          "output_type": "stream",
          "name": "stdout",
          "text": [
            "Mounted at /content/drive\n"
          ]
        }
      ],
      "source": [
        "# Mount Google Drive\n",
        "from google.colab import drive\n",
        "drive.mount('/content/drive', force_remount=True)"
      ]
    },
    {
      "cell_type": "code",
      "execution_count": 5,
      "metadata": {
        "colab": {
          "base_uri": "https://localhost:8080/"
        },
        "id": "H2wS_CPwOqeT",
        "outputId": "3295acf5-fe35-434d-888c-3d685691d84b"
      },
      "outputs": [
        {
          "output_type": "stream",
          "name": "stdout",
          "text": [
            "OPENAI_API_Key.txt\t\t\t    Semantic_Spotter_RAG_Langchain_Satya_Prakash.ipynb\n",
            "Principal-Sample-Life-Insurance-Policy.pdf\n"
          ]
        }
      ],
      "source": [
        "os.chdir('/content/drive/MyDrive/Colab_Notebooks/Semantic_Spotter_Project')\n",
        "!ls"
      ]
    },
    {
      "cell_type": "code",
      "source": [
        "# Set OpenAI API key\n",
        "with open(\"/content/drive/MyDrive/Colab_Notebooks/Semantic_Spotter_Project/OPENAI_API_Key.txt\", \"r\") as f:\n",
        "    openai_api_key = ' '.join(f.readlines())"
      ],
      "metadata": {
        "id": "h3JwSNMpojFi"
      },
      "execution_count": 6,
      "outputs": []
    },
    {
      "cell_type": "markdown",
      "metadata": {
        "id": "l-CoovqcqgkM"
      },
      "source": [
        "## 2. Read, Process, and Chunk the PDF File"
      ]
    },
    {
      "cell_type": "code",
      "execution_count": 7,
      "metadata": {
        "id": "iw_75A_zQiU_"
      },
      "outputs": [],
      "source": [
        "# Load and process PDFs using LangChain's PyPDFLoader\n",
        "pdf_directory = \"/content/drive/MyDrive/Colab_Notebooks/Semantic_Spotter_Project/\"\n",
        "pdf_loader = PyPDFLoader(pdf_directory + \"Principal-Sample-Life-Insurance-Policy.pdf\")"
      ]
    },
    {
      "cell_type": "code",
      "source": [
        "# Extract documents from the PDF\n",
        "documents = pdf_loader.load()"
      ],
      "metadata": {
        "id": "TvXtG5KHpwV_"
      },
      "execution_count": 8,
      "outputs": []
    },
    {
      "cell_type": "code",
      "source": [
        "# Use RecursiveCharacterTextSplitter to chunk the text\n",
        "text_splitter = RecursiveCharacterTextSplitter(chunk_size=1000, chunk_overlap=100)\n",
        "texts = text_splitter.split_documents(documents)"
      ],
      "metadata": {
        "id": "_Vuik9bmpxgK"
      },
      "execution_count": 9,
      "outputs": []
    },
    {
      "cell_type": "code",
      "execution_count": 10,
      "metadata": {
        "colab": {
          "base_uri": "https://localhost:8080/"
        },
        "id": "U9aKtiUhCdjl",
        "outputId": "6bd66e9f-0f42-46a2-b576-2a0fd4bf3b16",
        "collapsed": true
      },
      "outputs": [
        {
          "output_type": "execute_result",
          "data": {
            "text/plain": [
              "[Document(metadata={'source': '/content/drive/MyDrive/Colab_Notebooks/Semantic_Spotter_Project/Principal-Sample-Life-Insurance-Policy.pdf', 'page': 0}, page_content='GROUP POLICY FOR:  \\nRHODE ISLAND JOHN DOE  \\n \\nALL MEMBERS  \\nGroup Member Life Insurance  \\n \\nPrint Date: 07/16/2014  \\n DOROTHEA GLAUSE  S655  \\nRHODE ISLAND JOHN DOE  01/01/2014  \\n711 HIGH STREET   \\nGEORGE RI 02903'),\n",
              " Document(metadata={'source': '/content/drive/MyDrive/Colab_Notebooks/Semantic_Spotter_Project/Principal-Sample-Life-Insurance-Policy.pdf', 'page': 1}, page_content='This page left blank intentionally'),\n",
              " Document(metadata={'source': '/content/drive/MyDrive/Colab_Notebooks/Semantic_Spotter_Project/Principal-Sample-Life-Insurance-Policy.pdf', 'page': 2}, page_content='GC 806 VAL   \\n POLICY RIDER  \\n \\nGROUP INSURANCE      \\n \\n \\nPOLICY NO:  S655  \\n \\nCOVERAGE:  Life  \\n EMPLOYER: RHODE ISLAND JOHN DOE   \\n Effective on the later of the Date of Issue of this Group Policy or March 1, 2005, the following will apply to your Policy:'),\n",
              " Document(metadata={'source': '/content/drive/MyDrive/Colab_Notebooks/Semantic_Spotter_Project/Principal-Sample-Life-Insurance-Policy.pdf', 'page': 2}, page_content='From time to time The Principal may offer or provide certain employer groups who apply for coverage with The Principal a Financial Services Hotline and Grief Support Services or any other value added service for the employees of that employer group.  In addition, The Principal may arrange for third party service providers (i.e., optometrists, health clubs), to provide discounted goods and services to those employer groups who apply for coverage with The Principal or who become insureds/enrollees of The Principal.  While The Principal has arranged these goods, services and/or third party provider discounts, the third party service providers are liable to the applicants/insureds/enrollees for the provision of such goods and/or services.  The Principal is not r esponsible for the provision of such'),\n",
              " Document(metadata={'source': '/content/drive/MyDrive/Colab_Notebooks/Semantic_Spotter_Project/Principal-Sample-Life-Insurance-Policy.pdf', 'page': 2}, page_content='goods and/or services nor is it liable for the failure of the provision of the same.  Further, The Principal is not liable to the applicants/insureds/enrollees for the negligent provision of \\nsuch goods and/or services b y the third party service providers. \\n EXCEPT AS SPECIFICALLY DESCRIBED IN THIS RIDER, ALL OTHER BENEFITS AND PROVISIONS WILL BE AS DESCRIBED IN THE GROUP POLICY.  \\n                                               \\n \\n \\n \\nPRINCIPAL LIFE INSURANCE COMPANY \\nDES MOINES, IOWA  50392- 0001'),\n",
              " Document(metadata={'source': '/content/drive/MyDrive/Colab_Notebooks/Semantic_Spotter_Project/Principal-Sample-Life-Insurance-Policy.pdf', 'page': 3}, page_content='This page left blank intentionally'),\n",
              " Document(metadata={'source': '/content/drive/MyDrive/Colab_Notebooks/Semantic_Spotter_Project/Principal-Sample-Life-Insurance-Policy.pdf', 'page': 4}, page_content=\"This policy has been updated effective January 1, 2014  \\n \\n \\n \\nGC 6000  TITLE PAGE   \\n PRINCIPAL LIFE INSURANCE COMPANY  \\n(called The Principal in this Group Policy)  \\nDes Moines, Iowa 50392- 0002 \\n \\nThis group insurance policy is issued to:  \\n \\nRHODE ISLAND JOHN DOE  \\n \\n(called the Policyholder in this Group Policy)  \\n \\nThe Date of Issue is November 1, 2007.  \\n \\nIn return for the Policyholder's application and payment of all premiums when due, The Principal agrees to provide:  \\n \\nMEMBER LIFE INSURANCE  \\n \\nMEMBER ACCIDENTAL DEATH AND DISMEMBERMENT INSURANCE  \\n \\nDEPENDENT LIFE INSURANCE  \\n  \\nsubject to the terms and conditions described in this Group Policy.  \\n \\n   \\n                                        \\n \\n \\n                        GROUP POLICY NO. GL S655  \\nRENEWABLE TERM -  NON- PARTICIPATING  \\nCONTRACT STATE OF ISSUE: RHODE ISLAND\"),\n",
              " Document(metadata={'source': '/content/drive/MyDrive/Colab_Notebooks/Semantic_Spotter_Project/Principal-Sample-Life-Insurance-Policy.pdf', 'page': 5}, page_content='This policy has been updated effective January 1, 2014  \\n \\n \\n \\nGC 6001  TABLE OF CONTENTS, PAGE 1  \\n TABLE OF CONTENTS  \\n \\n PART I -  DEFINITIONS  \\n PART II -  POLICY ADMINISTRATION \\n \\n Section A – Contract  \\n \\n \\n Entire Contract  Article 1  \\n Policy Changes  Article 2  \\n Policyholder Eligibility Requirements  Article 3  \\n Policy Incontestability  Article 4  \\n Individual Incontestability  Article 5  \\n Information to be Furnished  Article 6  \\n Certificates  Article 7 \\n Assignments  Article 8  \\n \\n Dependent Rights  Article 9  \\n \\n Policy Interpretation  Article 10  \\n \\n Electronic Transactions  Article 11  \\n \\n \\n Section B – Premium  \\n \\n \\n Payment Responsibility; Due Dates; Grace Period  Article 1  \\n Premium Rates  Article 2  \\n Premium Rate  Changes  Article 3  \\n Premium Amount  Article 4  \\n Contributions from Members  Article 5  \\n \\n \\n Section C - Policy Termination  \\n \\n \\n Failure to Pay Premium  Article 1  \\n Termination Rights of the Policyholder  Article 2'),\n",
              " Document(metadata={'source': '/content/drive/MyDrive/Colab_Notebooks/Semantic_Spotter_Project/Principal-Sample-Life-Insurance-Policy.pdf', 'page': 5}, page_content='Failure to Pay Premium  Article 1  \\n Termination Rights of the Policyholder  Article 2  \\n Termination Rights of The Principal  Article 3  \\n Policyholder Responsibility to Members  Article 4  \\n \\n \\n Section D - Policy Renewal  \\n \\n \\n Renewal  Article 1  \\n \\nPART III -  INDIVIDUAL REQUIREMENTS AND RIGHTS'),\n",
              " Document(metadata={'source': '/content/drive/MyDrive/Colab_Notebooks/Semantic_Spotter_Project/Principal-Sample-Life-Insurance-Policy.pdf', 'page': 6}, page_content='This policy has been updated effective January 1, 2014  \\n \\n \\n \\nGC 6001  TABLE OF CONTENTS, PAGE 2  \\n  \\n \\n Section A – Eligibility  \\n \\n \\n Member Life Insurance  Article 1  \\n \\n Member Accidental Death and Dism emberment Insurance  Article 2  \\n \\n Dependent Life Insurance  Article 3  \\n \\n \\n Section B - Effective Dates  \\n \\n \\n Member Life Insurance  Article 1  \\n \\n Member Accidental Death and Dismemberment Insurance  Article 2  \\n \\n Dependent Life Insurance  Article 3  \\n \\n \\n Section C - Individual Terminations  \\n \\n \\n Member Life Insurance  Article 1  \\n \\n Member Accidental Death and Dismemberment Insurance  Article 2  \\n \\n Dependent Life Insurance  Article 3  \\n Termination for Fraud  Article 4  \\n Coverage While Outside of the United States  Article 5  \\n \\n \\n Section D - Continuation  \\n \\n \\n Member Life Insurance  Article 1  \\n Dependent Insurance - Developmentally Disabled or   \\n Physically Handicapped Children  Article 2  \\n \\n \\n Section E - Reinstatement'),\n",
              " Document(metadata={'source': '/content/drive/MyDrive/Colab_Notebooks/Semantic_Spotter_Project/Principal-Sample-Life-Insurance-Policy.pdf', 'page': 6}, page_content='Physically Handicapped Children  Article 2  \\n \\n \\n Section E - Reinstatement  \\n \\n \\n Reinstatement  Article 1  \\n Federal Required Family and Medical Leave Act (FMLA)  Article 2  \\n Reinstatement of Coverage for a Member or Dependent When   \\n Coverage Ends due to Living Outside of the United States  Article 3  \\n \\n \\n Section F - Individual Purchase Rights  \\n \\n \\n Member Life Insurance  Article 1  \\n Dependent Life Insurance  Article 2  \\n \\nPART IV -  BENEFITS'),\n",
              " Document(metadata={'source': '/content/drive/MyDrive/Colab_Notebooks/Semantic_Spotter_Project/Principal-Sample-Life-Insurance-Policy.pdf', 'page': 7}, page_content='This policy has been updated effective January 1, 2014  \\n \\n \\n \\nGC 6001  TABLE OF CONTENTS, PAGE 3  \\n  \\n \\n Section A - Member Life Insurance  \\n \\n \\n Schedule of Insurance  Article 1  \\n Death Benefits Payable  Article 2  \\n Beneficiary  Article 3  \\n Facility of Payment  Article 4  \\n Settlement of Proceeds  Article 5  \\n Member Life Insurance - Coverage During Disability  Article 6  \\n \\n Accelerated Benefits  Article 7  \\n \\n \\n Section B - Member Accidental Death and Dismemberment Insurance  \\n \\n \\n Schedule of Insurance  Article 1  \\n Benefit Qualification  Article 2  \\n Benefits Payable  Article 3  \\n \\n Seat Belt Benefit  Article 4  \\n Loss of Use or Paralysis Benefit  Article 5  \\n Loss of Speech and/or Hearing Benefit  Article 6  \\n Repatriation Benefit  Article 7  \\n Educational Benefit  Article 8  \\n \\n Limitations  Article 9  \\n \\n \\n Section C - Dependent Life  Insurance  \\n \\n \\n Schedule of Insurance  Article 1  \\n Death Benefits Payable  Article 2  \\n Beneficiary  Article 3'),\n",
              " Document(metadata={'source': '/content/drive/MyDrive/Colab_Notebooks/Semantic_Spotter_Project/Principal-Sample-Life-Insurance-Policy.pdf', 'page': 7}, page_content='Death Benefits Payable  Article 2  \\n Beneficiary  Article 3  \\n \\n \\n Section D - Claim Procedures  \\n \\n \\n Notice of Claim  Article 1  \\n Claim Forms  Article 2  \\n Proof of Loss  Article 3  \\n Payment, Denial and Review  Article 4 \\n Medical Examinations  Article 5  \\n Autopsy  Article 6  \\n Legal Action  Article 7  \\n Time Limits  Article 8'),\n",
              " Document(metadata={'source': '/content/drive/MyDrive/Colab_Notebooks/Semantic_Spotter_Project/Principal-Sample-Life-Insurance-Policy.pdf', 'page': 8}, page_content='This policy has been updated effective  January 1, 2014  \\n \\n \\n \\nGC 6002  PART I - DEFINITIONS, PAGE 1   \\n PART I -  DEFINITIONS  \\n \\n \\nWhen used in this Group Policy the terms listed below will mean: \\n \\nActive Work; Actively at Work  \\n \\nA Member will be considered Actively at Work if he or she is able and available for active \\nperformance of all of his or her regular dut ies.  Short term absence because of a regularly \\nscheduled day off, holiday, vacation day, jury duty, funeral leave, or personal time off is considered Active Work provided the Member is able and available for active performance of all of his or her regular duties and was working the day immediately prior to the date of his or her \\nabsence.  \\n \\nActivities of Daily Living (ADL)  \\n \\na. Bathing - the ability to wash oneself in the tub or shower or by sponge with or without \\nequipment or adaptive devices.'),\n",
              " Document(metadata={'source': '/content/drive/MyDrive/Colab_Notebooks/Semantic_Spotter_Project/Principal-Sample-Life-Insurance-Policy.pdf', 'page': 8}, page_content='equipment or adaptive devices. \\n \\nb. Dressing - the ability to put on and take off garments and medically necessary braces or \\nartificial limbs usually worn and to fasten or unfasten them.  \\n c. Eating/Feeding - the ability to get nourishment into the body by any means once it has been \\nprepared and made available.  \\n d. Toileting - the ability to get to and from and on and off the toilet, to maintain a reasonable \\nlevel of personal hygiene and to care for clothing.  \\n \\ne. Transferring - the ability to move in and out of a chair or bed with or without equipment \\nsuch as canes, quad canes, walkers, crutches, grab bars or other support devices including \\nmechanical or motorized devices.  \\n f. Continence -  the ability to voluntarily control bowel and bladder function, or in the event of \\nincontinence, the ability to maint ain a reasonable level of personal hygiene.  \\n \\nActivities of Daily Living (ADL) Disabled; Activities of Daily Living (ADL) Disability'),\n",
              " Document(metadata={'source': '/content/drive/MyDrive/Colab_Notebooks/Semantic_Spotter_Project/Principal-Sample-Life-Insurance-Policy.pdf', 'page': 8}, page_content=\"Activities of Daily Living (ADL) Disabled; Activities of Daily Living (ADL) Disability  \\n \\nA Member will be considered disabled under this provision if, as a result of sickness or injury, \\nthe Member has lost the ab ility to safely and completely perform two or more Activities of Daily \\nLiving without another person's assistance or verbal cueing or the Member has a deterioration or loss in intellectual capacity and needs another person's assistance or verbal cueing for  his or her \\nprotection or for the protection of others and the Member is Totally Disabled.  \\nCivil Union\"),\n",
              " Document(metadata={'source': '/content/drive/MyDrive/Colab_Notebooks/Semantic_Spotter_Project/Principal-Sample-Life-Insurance-Policy.pdf', 'page': 9}, page_content='This policy has been updated effective  January 1, 2014  \\n \\n \\n \\nGC 6002  PART I - DEFINITIONS, PAGE 2   \\n  \\nThe legally recognized union of two eligible individuals of the same sex established according to \\nlaw. \\n \\nCivil Union Partner  \\n \\nFor two persons to establish a Civil Union in Rhode Island, it shall be necessary that they satisfy \\nall of the following criteria:  a. not be a party to another Civil Union or marriage in Rhode Island;  \\n b. be of the same sex and therefore be excluded from the marriage laws o f  Rhode Island or \\nany other state;  \\n c. be at least 18 years of age;  \\n d. not be related to the other proposed party to the Civil Union.  \\n NOTE:  For the purposes of this Group Policy, the term \"spouse\" will include Civil Union Partner, except as otherwise provided in this Group Policy.  \\n \\nDate of Issue  \\n \\nThe date this Group Policy is placed in force: November 1, 2007.  \\n \\nDependent  \\n a. A Member\\'s spouse, if that spouse:'),\n",
              " Document(metadata={'source': '/content/drive/MyDrive/Colab_Notebooks/Semantic_Spotter_Project/Principal-Sample-Life-Insurance-Policy.pdf', 'page': 9}, page_content=\"Dependent  \\n a. A Member's spouse, if that spouse:  \\n \\n(1) is legally married to the Member; and  \\n(2) is not in the Armed Forces of any country; and  \\n(3)  is not insured under this Group Policy as a Member.  \\n \\nA Member's spouse will also include a Civil Union Partner.  \\n \\nb. A Member's Dependent Child (or Children) as defined below.  \\n \\nDependent Child; Dependent Children  \\n \\na. A Member's natural child or stepchi ld, if that child is 0 days but less than 26 years of age.  \\n \\nb. A Member's foster child, if that child: \\n \\n(1) meets the requirements above; and\"),\n",
              " Document(metadata={'source': '/content/drive/MyDrive/Colab_Notebooks/Semantic_Spotter_Project/Principal-Sample-Life-Insurance-Policy.pdf', 'page': 10}, page_content=\"This policy has been updated effective  January 1, 2014  \\n \\n \\n \\nGC 6002  PART I - DEFINITIONS, PAGE 3   \\n (2) has been placed with the Member or spouse insured under this Group Policy by an \\nauthorized state placement agency or by order of a court; and  \\n(3) required documentation has been provided and the child is approved in Writing by \\nThe Principal as a Dependent Child.  \\n \\nc. A Member's adopted child, if that child meets the requirements in a. above and the Member:  \\n \\n(1) is a party in a law suit in which the Member is seeking the adoption of the child; or  \\n(2) has custody of the child under a court order that grants custody of the child to the \\nMember.  \\n \\nAn adopted child will be considered a Dependent Child on the earlier of:  the date the \\npetition for adoption is filed; or the date of entry of an order granting the adoptive parent custody of the child for the purpose of adoption.\"),\n",
              " Document(metadata={'source': '/content/drive/MyDrive/Colab_Notebooks/Semantic_Spotter_Project/Principal-Sample-Life-Insurance-Policy.pdf', 'page': 10}, page_content=\"d. A Civil Union Partner's child who otherwise qualifies above or if the Member or Civil \\nUnion Pa rtner has been appointed the child's guardian under a valid court order.  \\n \\nDevelopmental Disability  \\n \\nA Dependent Child's substantial handicap, as determined by The Principal, which:  \\n \\na. results from mental retardation, cerebral palsy, epilepsy, or other neurological disorder; and  \\n b. is diagnosed by a Physician as a permanent or long -term continuing condition. \\n \\nFull-Time Student  \\n \\nA Member's Dependent Child attending a school that has a r egular teaching staff, curriculum, \\nand student body and who:  \\n \\na. attends school on a full -time basis, as determined by the school's criteria; and  \\n b. is dependent on the Member for principal support.  \\n \\nGroup Policy  \\n \\nThe policy of group insurance issued to t he Policyholder by The Principal, which describes \\nbenefits and provisions for insured Members and Dependents.  \\n \\nHospital\"),\n",
              " Document(metadata={'source': '/content/drive/MyDrive/Colab_Notebooks/Semantic_Spotter_Project/Principal-Sample-Life-Insurance-Policy.pdf', 'page': 11}, page_content=\"This policy has been updated effective  January 1, 2014  \\n \\n \\n \\nGC 6002  PART I - DEFINITIONS, PAGE 4   \\n An institution that is licensed as a Hospital by the proper authority of the state in which it is \\nlocated, but not including any institution, or part thereof, that is used primarily as a clinic, Skilled Nursing Facility, convalescent home, rest home, home for the aged, nursing home, custodial care facility, or training center.    \\nInsurance Month  \\n \\nCalendar Month.  \\n \\nMember  \\n \\nAny PERSON who is a full -time employee of the Policyholder and who regularly works at least \\n30 hours per week.  The employee must be compensated by the Policyholder and either the \\nemployer or employee must be able to show taxable income on federal or state tax forms.  Work \\nmust be at the Policyholder's usual place or places of business, at an alternative worksite at the direction of the  Policyholder, or at another place to which the employee must travel to perform\"),\n",
              " Document(metadata={'source': '/content/drive/MyDrive/Colab_Notebooks/Semantic_Spotter_Project/Principal-Sample-Life-Insurance-Policy.pdf', 'page': 11}, page_content='his or her regular duties.  This excludes any person who is scheduled to work for the \\nPolicyholder on a seasonal, temporary, contracted, or part -time basis.  \\n \\nAn owner, propriet or, or partner of the Policyholder\\'s business will be deemed to be an eligible \\nemployee for purposes of this Group Policy, provided he or she is regularly scheduled to work for the Policyholder at least 30 hours per week and otherwise meets the definition of a Member.  \\n \\nPeriod of Limited Activity  \\n \\nAny period of time during which a person is:  \\n \\na. confined in a Hospital for any cause or confined in a Skilled Nursing Facility; or  \\n b. Home Confined.  \"Home Confined\" means that, due to sickness or injury, the per son is \\nunable to carry on the regular and usual activities of a healthy person of the same age and sex and unable to leave his or her home except to receive medical treatment.  \\n \\nPhysical Handicap'),\n",
              " Document(metadata={'source': '/content/drive/MyDrive/Colab_Notebooks/Semantic_Spotter_Project/Principal-Sample-Life-Insurance-Policy.pdf', 'page': 11}, page_content=\"Physical Handicap  \\n \\nA Dependent Child's substantial physical or mental impairment, as determined by The Principal, \\nwhich:  \\n a. results from injury, accident, congenital defect, or sickness; and  \\n b. is diagnosed by a Physician as a permanent or long -term dysfunction or malformation of \\nthe body.  \\n \\nPhysician\"),\n",
              " Document(metadata={'source': '/content/drive/MyDrive/Colab_Notebooks/Semantic_Spotter_Project/Principal-Sample-Life-Insurance-Policy.pdf', 'page': 12}, page_content=\"This policy has been updated effective  January 1, 2014  \\n \\n \\n \\nGC 6002  PART I - DEFINITIONS, PAGE 5   \\n  \\na. A licensed Doctor of Medicine (M.D.) or Osteopathy (D.O.); or  \\n \\nb. any other licensed health care practitioner that state law requires be recognized as a Physician under this Group Policy.  \\n The term Physician does not include the Member, an employee of the Member, a business  or \\nprofessional partner or associate of the Member, any person who has a financial affiliation or business interest with the Member, anyone related to the Member by blood or marriage, or anyone living in the Member's household.  \\n \\nPolicy Anniversary  \\n \\nNovember 1, 2014 and the same day of each following year.  \\n \\nPolicyholder  \\n \\nThe entity to whom this Group Policy is issued (see Title Page).  \\n \\nPrior Policy  \\n \\nThe Group Term Life coverage of either:  \\n \\na. the Policyholder; or\"),\n",
              " Document(metadata={'source': '/content/drive/MyDrive/Colab_Notebooks/Semantic_Spotter_Project/Principal-Sample-Life-Insurance-Policy.pdf', 'page': 12}, page_content='Prior Policy  \\n \\nThe Group Term Life coverage of either:  \\n \\na. the Policyholder; or  \\n \\nb. a business entity which has been obtained by the Policyholder through a merger or acquisition;  \\n for which this Group Policy is a replacement.  \\n \\nProof of Good Health  \\n \\nWritten evidence that a person is insurable under the underwriting standards of The Principal.  \\nThis proof must be provided in a form satisfactory to The Principal.  \\n \\nQualifying Event  \\n \\nA Qualifying Event for Accelerated Benefits is a medical condition, which would, in the absence \\nof extensive or extraordinary medical treatment; result in a dramatically limited life span.  Such conditions may include, BUT ARE NOT LIMITED TO, one or more of the following:  \\n a. coronary artery disease resulting in an acute infarction or requiring surgery;  \\n b. permanent neurological deficit resulting from cerebral vascular accident;'),\n",
              " Document(metadata={'source': '/content/drive/MyDrive/Colab_Notebooks/Semantic_Spotter_Project/Principal-Sample-Life-Insurance-Policy.pdf', 'page': 13}, page_content='This policy has been updated effective  January 1, 2014  \\n \\n \\n \\nGC 6002  PART I - DEFINITIONS, PAGE 6   \\n  \\nc. end stage renal failure; or  \\n d. acquired immune deficiency syndrome (AIDS).  \\n \\nSigned or Signature  \\n \\nAny symbol or method executed or adopted by a person with the present intention to authenticate \\na record, and which is on or transmitted by paper or electronic media, a nd which is consistent \\nwith applicable law and is agreed to by The Principal.  \\n \\nSkilled Nursing Facility  \\n \\nAn institution (including one providing sub- acute care), or distinct part thereof, that is licensed \\nby the proper authority of the state in which it is  located to provide skilled nursing care and that:  \\n \\na. is supervised on a full -time basis by a Doctor of Medicine (M.D.) or Doctor of Osteopathy \\n(D.O.) or a licensed registered nurse (R.N.); and  \\n b. has transfer arrangements with one or more Hospitals, a u tilization review plan, and'),\n",
              " Document(metadata={'source': '/content/drive/MyDrive/Colab_Notebooks/Semantic_Spotter_Project/Principal-Sample-Life-Insurance-Policy.pdf', 'page': 13}, page_content=\"b. has transfer arrangements with one or more Hospitals, a u tilization review plan, and \\noperating policies developed and monitored by a professional group that includes at least one M.D. or D.O.; and  \\n c. has an existing contract for the services of an M.D. or D.O., maintains daily records on each patient, and is eq uipped to dispense and administer drugs; and  \\n d. provides 24- hour nursing care and other medical treatment.  \\n Not included are rest homes, homes for the aged, nursing homes, or places for treatment of mental disease, drug addiction, or alcoholism.  \\nTerminally Ill  \\n \\nA Member will be considered Terminally Ill, for Accelerated Benefits, if he or she has \\nexperienced a Qualifying Event and is expected to die within 12 months of the date he or she requests payment of Accelerated Benefits.  \\n \\nTotal Disability;  Totally Disabled  \\n \\nA Member's inability, as determined by The Principal, due to sickness or injury, to perform the\"),\n",
              " Document(metadata={'source': '/content/drive/MyDrive/Colab_Notebooks/Semantic_Spotter_Project/Principal-Sample-Life-Insurance-Policy.pdf', 'page': 13}, page_content=\"A Member's inability, as determined by The Principal, due to sickness or injury, to perform the \\nmajority of the material duties of any occupation for which he or she is or may reasonably become qualified based on education, training or e xperience.  \\n \\nWritten or Writing\"),\n",
              " Document(metadata={'source': '/content/drive/MyDrive/Colab_Notebooks/Semantic_Spotter_Project/Principal-Sample-Life-Insurance-Policy.pdf', 'page': 14}, page_content='This policy has been updated effective  January 1, 2014  \\n \\n \\n \\nGC 6002  PART I - DEFINITIONS, PAGE 7   \\n  \\nA record which is on or transmitted by paper or electronic media, and which is consistent with \\napplicable law.'),\n",
              " Document(metadata={'source': '/content/drive/MyDrive/Colab_Notebooks/Semantic_Spotter_Project/Principal-Sample-Life-Insurance-Policy.pdf', 'page': 15}, page_content='This policy has been updated effective  January 1, 2014  \\n \\n \\nPART II - POLICY ADMINISTRATION  \\nGC 6003  Section A - Contract, Page 1  \\n PART II -  POLICY ADMINISTRATION \\n \\n \\nSection A -  Contract  \\n  Article 1 - Entire Contract  \\n \\nThis Group Policy, the current Certificate, the attached Policyholder application, and any \\nMember applications make up the entire contract.  The Principal is obligated only as provided in this Group Policy and is not bound by any trust or plan to which it is not a signatory party.  \\n  \\nArticle 2 - Policy Changes  \\n \\nInsurance under this Group Policy runs annually to the Policy Anniversary, unless sooner \\nterminated.  No agent, employee, or person other than an officer of The Principal has authority to \\nchange this Group Policy, and, to be effective, all such changes must be in Writing and Signed \\nby an officer of The Principal.   The Principal reserves the right to change this Group Policy as follows:'),\n",
              " Document(metadata={'source': '/content/drive/MyDrive/Colab_Notebooks/Semantic_Spotter_Project/Principal-Sample-Life-Insurance-Policy.pdf', 'page': 15}, page_content=\"a. Any or all provisions of this Group Policy may be amended or changed at any time, \\nincluding retroactive changes, to the extent necessary to meet the requirements of any law or any regulation issued by any governmental agency to which this Group Policy is subject.  \\n b. Any or all provisions of this Group Policy may be  amended or changed at any time when \\nThe Principal determines that such amendment is required for consistent application of policy provisions.  \\n c. By Written agreement between The Principal and the Policyholder, this Group Policy may be amended or changed at any time as to any of its provisions.  \\n Any change to this Group Policy, including, but not limited to, those in regard to coverage, benefits, and participation privileges, may be made without the consent of any Member or Dependent.  \\n Payment of premium b eyond the effective date of the change constitutes the Policyholder's \\nconsent to the change.  \\n  \\nArticle 3 - Policyholder Eligibility Requirements\"),\n",
              " Document(metadata={'source': '/content/drive/MyDrive/Colab_Notebooks/Semantic_Spotter_Project/Principal-Sample-Life-Insurance-Policy.pdf', 'page': 15}, page_content='consent to the change.  \\n  \\nArticle 3 - Policyholder Eligibility Requirements  \\n \\nTo be an eligible group and to remain an eligible group, the Policyholder must:'),\n",
              " Document(metadata={'source': '/content/drive/MyDrive/Colab_Notebooks/Semantic_Spotter_Project/Principal-Sample-Life-Insurance-Policy.pdf', 'page': 16}, page_content='This policy has been updated effective  January 1, 2014  \\n \\n \\nPART II - POLICY ADMINISTRATION  \\nGC 6003  Section A - Contract, Page 2  \\n  \\na. be actively engaged in business for profit within the meaning of the Internal Revenue \\nCode, or be established as a legitimate nonprofit corporation within the meaning of the Internal Revenue Code; and \\n b. make at least the level of premium contributions required for insurance on its eligible \\nMembers.  The Policyholder must:  \\n \\n(1) contribute at least 50% of the required premium for all Members (including disabled \\nMembers, if any); and  \\n c. if the Member is to contribute part of the premium, maintain the following participation percentages with respect to eligible employees and Dependents, excluding those for whom Proof of Good Health is not satisfactory to The Principal:  \\n \\n(1) Employees:  \\n \\n- at least 75% of all eligible employees must enroll;  \\n \\n(2) Dependents:'),\n",
              " Document(metadata={'source': '/content/drive/MyDrive/Colab_Notebooks/Semantic_Spotter_Project/Principal-Sample-Life-Insurance-Policy.pdf', 'page': 16}, page_content=\"(1) Employees:  \\n \\n- at least 75% of all eligible employees must enroll;  \\n \\n(2) Dependents:  \\n \\n- maintain a Dependent participation of at least 75% of eligible Dependents; and  \\n d. if the Member is to contribute no part of the premium, 100% of eligible employees and Dependents must enroll.  \\n  \\nArticle 4 - Policy Incontestability  \\n \\nIn the absence of fraud, after this Group Pol icy has been in force two years, The Principal may \\nnot contest its validity except for nonpayment of premium. \\n  \\nArticle 5 - Individual Incontestability  \\n \\nAll statements made by any individual insured under this Group Policy will be representations \\nand not w arranties.  In the absence of fraud, these statements may not be used to contest an \\ninsured person's insurance unless:  \\n a. the insured person's insurance has been in force for less than two years during the insured's lifetime; and  \\n b. the statement is in W ritten form Signed by the insured person; and\"),\n",
              " Document(metadata={'source': '/content/drive/MyDrive/Colab_Notebooks/Semantic_Spotter_Project/Principal-Sample-Life-Insurance-Policy.pdf', 'page': 17}, page_content=\"This policy has been updated effective  January 1, 2014  \\n \\n \\nPART II - POLICY ADMINISTRATION  \\nGC 6003  Section A - Contract, Page 3  \\n c. a copy of the form which contains the statement is given to the insured or the insured's \\nbeneficiary at the time insurance is contested.  \\n However, these provisions will not preclude the assertion at any time of defenses based upon the person's ineligibility  for insurance under this Group Policy or upon the provisions of this Group Policy.  \\n In addition, if an individual's age is misstated, The Principal may at any time adjust premium and benefits to reflect the correct age.  \\n  \\nArticle 6 - Information to be Furnished \\n \\nThe Policyholder must, upon request, give The Principal all information needed to administer\"),\n",
              " Document(metadata={'source': '/content/drive/MyDrive/Colab_Notebooks/Semantic_Spotter_Project/Principal-Sample-Life-Insurance-Policy.pdf', 'page': 17}, page_content='The Policyholder must, upon request, give The Principal all information needed to administer \\nthis Group Policy.  If a clerical error is found in this information, The Principal may at any time adjust premium to reflect the facts.  An error will not invalidate insurance that would otherwise be in force.  Neither will an error continue insurance that would otherwise be terminated.  \\n The Principal may inspect, at any reasonable time, all Policyholde r records, which relate to this \\nGroup Policy.  \\n  \\nArticle 7 - Certificates  \\n \\nThe Principal will give the Policyholder Certificates for delivery to insured Members.  The \\ndelivery of such Certificates will be in either paper or electronic format.  The Certifica tes will be \\nevidence of insurance and will describe the basic features of the coverage.  They will not be \\nconsidered a part of this Group Policy.  \\n  \\nArticle 8 - Assignments  \\n \\nNo assignments of Member Life Insurance will be allowed under this Group Policy.'),\n",
              " Document(metadata={'source': '/content/drive/MyDrive/Colab_Notebooks/Semantic_Spotter_Project/Principal-Sample-Life-Insurance-Policy.pdf', 'page': 17}, page_content='No assignments of Member Life Insurance will be allowed under this Group Policy.  \\n \\n \\nArticle 9 - Dependent Rights  \\n \\nA Dependent will have no rights under this Group Policy except as set forth in PART III, Section \\nF, Article 2.  \\n  \\nArticle 10 - Policy Interpretation'),\n",
              " Document(metadata={'source': '/content/drive/MyDrive/Colab_Notebooks/Semantic_Spotter_Project/Principal-Sample-Life-Insurance-Policy.pdf', 'page': 18}, page_content='This policy has been updated effective  January 1, 2014  \\n \\n \\nPART II - POLICY ADMINISTRATION  \\nGC 6003  Section A - Contract, Page 4  \\n The Principal has complete discretion to construe or interpret the provisions  of this group \\ninsurance policy, to determine eligibility for benefits, and to determine the type and extent of \\nbenefits, if any, to be provided.  The decisions of The Principal in such matters shall be controlling, binding and final as between The Principal and persons covered by this Group Policy, subject to the Claims Procedures in PART IV, Section D.  \\n  \\nArticle 11 - Electronic Transactions  \\n \\nAny transaction relating to this Group Policy may be conducted by electronic means if \\nperformance of the transactio n is consistent with applicable state and federal law.  \\n Any notice required by the provisions of this Group Policy given by electronic means will have the same force and effect as notice given in writing.'),\n",
              " Document(metadata={'source': '/content/drive/MyDrive/Colab_Notebooks/Semantic_Spotter_Project/Principal-Sample-Life-Insurance-Policy.pdf', 'page': 19}, page_content='This policy has been updated effective  January 1, 2014  \\n \\n \\nPART II - POLICY ADMINISTRATION  \\nGC 6004  Section B - Premiums, Page 1  \\n Section B -  Premiums  \\n \\n Article 1 - Payment Responsibility; Due Dates; Grace Period  \\n \\nThe Policyholder is responsible for collection and payment of all premiums due while this Group \\nPolicy is in force.  Payments must be sent to the home office of The Principal in Des Moines, Iowa.  \\n The first premium is due on the Date of Issue of this Group Policy.  Each premium thereafter will be due on the first of each Insurance Month.  Except for the first premium, a Grace Period of \\n31 days will be allowed for payment of premium.  \"Grace Period\" means the first 31- day period \\nfollowing a premium due date.  The Group Policy will remain in fo rce until the end of the Grace'),\n",
              " Document(metadata={'source': '/content/drive/MyDrive/Colab_Notebooks/Semantic_Spotter_Project/Principal-Sample-Life-Insurance-Policy.pdf', 'page': 19}, page_content='following a premium due date.  The Group Policy will remain in fo rce until the end of the Grace \\nPeriod, unless the Group Policy has been terminated by notice as described in PART II, Section C.  The Policyholder will be liable for payment of the premium for the time this Group Policy remains in force during the Grace Period.  \\n \\n \\nArticle 2 - Premium Rates  \\n \\nThe premium rate(s) for each Member insured for Life Insurance will be:  \\n \\na. Member Life Insurance  \\n$0.210 for each $1,000 of insurance in force.  \\n \\nb. Member Accidental Death and Dismemberment Insurance  \\n$0.025 for each $1,000 of Member Life Insurance in force.  \\n c. Dependent Life Insurance  \\n$1.46 for each Member insured for Dependent Life Insurance.  \\n If the Policyholder has at least two other eligible group insurance policies underwritten by The Principal, as determined b y The Principal, the Policyholder may be eligible for a multiple policy \\ndiscount.   \\nArticle 3 - Premium Rate Changes'),\n",
              " Document(metadata={'source': '/content/drive/MyDrive/Colab_Notebooks/Semantic_Spotter_Project/Principal-Sample-Life-Insurance-Policy.pdf', 'page': 19}, page_content='discount.   \\nArticle 3 - Premium Rate Changes  \\n \\nThe Principal may change a premium rate:  \\n \\na. on any premium due date, if the initial premium rate has then been in force 24 months or more  and if Written notice is given to the Policyholder at least 31 days before the date of \\nchange; or'),\n",
              " Document(metadata={'source': '/content/drive/MyDrive/Colab_Notebooks/Semantic_Spotter_Project/Principal-Sample-Life-Insurance-Policy.pdf', 'page': 20}, page_content=\"This policy has been updated effective  January 1, 2014  \\n \\n \\nPART II - POLICY ADMINISTRATION  \\nGC 6004  Section B - Premiums, Page 2  \\n b. on any date the definition of Member or Dependent is changed; and  \\n \\nc. on any date the Policyholder's business, as specified on the Policyholder applicati on, is \\nchanged; and  \\n d. on any date that a schedule of insurance or class of insured Members is changed; and  \\n e. on any premium due date, if the Policyholder has been receiving a multiple policy discount rate and the Policyholder drops below the minimum number of coverages to receive such discount rate; and  \\n f. on any date the premium contribution required of Members is changed; and \\n g. with respect to Member Life Insurance, on any Policy Anniversary, if the average age, average Scheduled Benefit amount, or the male/female distribution for then insured Members has changed since the last Policy Anniversary; and\"),\n",
              " Document(metadata={'source': '/content/drive/MyDrive/Colab_Notebooks/Semantic_Spotter_Project/Principal-Sample-Life-Insurance-Policy.pdf', 'page': 20}, page_content='h. on any Policy Anniversary, if the volume of insurance for then insured Members has \\nincreased or decreased by more than 25% since the last Policy  Anniversary. \\n If the Policyholder has other group insurance with The Principal, and if life coverage is initially added on a date other than the Policy Anniversary and it is more than six months before the next Policy Anniversary, The Principal reserves t he right to change the premium rate on the next \\nPolicy Anniversary.  Written notice will be given to the Policyholder at least 31 days before the date of change.  \\n If the Policyholder agrees to participate in the electronic services program of The Principal  and, \\nat a later date elects to withdraw from participation, such withdrawal may result in certain administrative fees being charged to the Policyholder.  \\n  \\nArticle 4 - Premium Amount  \\n \\nThe amount of premium to be paid on each due date will be determined in these ways:'),\n",
              " Document(metadata={'source': '/content/drive/MyDrive/Colab_Notebooks/Semantic_Spotter_Project/Principal-Sample-Life-Insurance-Policy.pdf', 'page': 20}, page_content='The amount of premium to be paid on each due date will be determined in these ways:  \\n \\na. Member Life Insurance  The total volume of insurance in force will be divided by 1,000.  The result will then be multiplied by the premium rate then in effect.  \\n b. Member Accidental Death and Dismemberment Insurance  \\nThe total volume of insurance in force will be divided by 1,000.  The result will then be multiplied by the premium rate then in effect.  \\n c. Dependent Life Insurance'),\n",
              " Document(metadata={'source': '/content/drive/MyDrive/Colab_Notebooks/Semantic_Spotter_Project/Principal-Sample-Life-Insurance-Policy.pdf', 'page': 21}, page_content='This policy has been updated effective  January 1, 2014  \\n \\n \\nPART II - POLICY ADMINISTRATION  \\nGC 6004  Section B - Premiums, Page 3  \\n The number of Members insured for Dependent Life Insurance will be multiplied by the \\npremium rate then in eff ect. \\n To ensure accurate premium calculations, the Policyholder is responsible for reporting to The Principal, the following information during the stated time periods:  \\n a. Members who are eligible to become insured are to be reported during the month prior to or during the month that coverage becomes effective. \\n b. Members whose coverage has terminated are to be reported within a month of the date coverage terminated.  \\n c. Changes in Member insurance class are to be reported within a month of the date that the change in insurance class took place.'),\n",
              " Document(metadata={'source': '/content/drive/MyDrive/Colab_Notebooks/Semantic_Spotter_Project/Principal-Sample-Life-Insurance-Policy.pdf', 'page': 21}, page_content=\"If a Member is added or a present Member's insurance is increased or terminated on other than the first of an Insurance Month, premium for that Member will be adjusted and applied as if the \\nchange were to take place on the first of the next following Insurance Month. \\n  \\nArticle 5 - Contributions from Members  \\n \\nMembers are not required to contribute a part of the premium for their Member insurance under \\nthis Group Policy.  \\n Members are required to contribute a part of the premium for their Dependent's insurance under \\nthis Group Policy.\"),\n",
              " Document(metadata={'source': '/content/drive/MyDrive/Colab_Notebooks/Semantic_Spotter_Project/Principal-Sample-Life-Insurance-Policy.pdf', 'page': 22}, page_content=\"This policy has been updated effective  January 1, 2014  \\n \\n \\nPART II - POLICY ADMINISTRATION  \\nGC 6005   Section C - Policy Termination, Page 1  \\n Section C -  Policy Termination  \\n \\n Article 1 - Failure to Pay Premium  \\n \\nThis Group Policy will terminate at the end of the Grace Period if total premium due has not \\nbeen received by The Principal before the end of the Grace Period.  Failure by the Policyholder to pay the premium within the Grace Period will be deemed notice by the Policyholder to The Principal to discontinue this Group Policy at the end of the Grace Period.   \\nArticle 2 - Termination Rights of the Policyholder  \\n \\nThe Policyholder may t erminate this Group Policy effective on the day before any premium due \\ndate by giving Written notice to The Principal prior to that premium due date.  The \\nPolicyholder's issuance of a stop- payment order for any amounts used to pay premiums for the\"),\n",
              " Document(metadata={'source': '/content/drive/MyDrive/Colab_Notebooks/Semantic_Spotter_Project/Principal-Sample-Life-Insurance-Policy.pdf', 'page': 22}, page_content=\"Policyholder's issuance of a stop- payment order for any amounts used to pay premiums for the \\nPolicyholder's coverage will be considered Written notice from the Policyholder. \\n \\n \\nArticle 3 - Termination Rights of The Principal  \\n \\nThe Principal may nonrenew or terminate this Group Policy by giving the Policyholder 31 days \\nadvance notice in Writing, if the Polic yholder:  \\n \\na. ceases to be actively engaged in business for profit within the meaning of the Internal Revenue Code, or be established as a legitimate nonprofit corporation within the meaning of the Internal Revenue Code; or  \\n b. fails to maintain the participation percentages requirements of PART II, Section A with respect to eligible employees, excluding those for whom Proof of Good Health is not satisfactory to The Principal; or  \\n c. fails to maintain three or more insured employees under this Group Policy; or \\n d. fails to pay premium in accordance with the requirements of PART II, Section B; or\"),\n",
              " Document(metadata={'source': '/content/drive/MyDrive/Colab_Notebooks/Semantic_Spotter_Project/Principal-Sample-Life-Insurance-Policy.pdf', 'page': 22}, page_content='d. fails to pay premium in accordance with the requirements of PART II, Section B; or  \\n e. has performed an act or practice that constitutes fraud or has made an intentional misrepresentation of material fact under the terms of this Group Policy; or  \\n f. does not promptly provide The Principal with information that is reasonably required; or  \\n g. fails to perform any of its obligations that relate to this Group Policy.'),\n",
              " Document(metadata={'source': '/content/drive/MyDrive/Colab_Notebooks/Semantic_Spotter_Project/Principal-Sample-Life-Insurance-Policy.pdf', 'page': 23}, page_content=\"This policy has been updated effective  January 1, 2014  \\n \\n \\nPART II - POLICY ADMINISTRATION  \\nGC 6005   Section C - Policy Termination, Page 2  \\n The Principal may terminate the Policyholder's coverage on any premium due date if the \\nPolicyholder relocates to a state where this Group Policy is not marketed, by giving the Policyholder 31 days advanced notice in Writing.   \\nArticle 4 - Policyholder Responsibility to Members  \\n \\nIf this Group Policy terminates for any reason, the Policyholder  must: \\n \\na. notify each Member of the effective date of the termination; and  \\n b. refund or otherwise account to each Member all contributions received or withheld from Members for premiums not actually paid to The Principal.\"),\n",
              " Document(metadata={'source': '/content/drive/MyDrive/Colab_Notebooks/Semantic_Spotter_Project/Principal-Sample-Life-Insurance-Policy.pdf', 'page': 24}, page_content='This policy has been updated effective  January 1, 2014  \\n \\n \\n          PART II - POLICY ADMINISTRATION  \\nGC 6005 A  Section D - Policy Renewal, Page 1   \\n Section D -  Policy Renewal  \\n \\n Article 1 - Renewal  \\n \\nInsurance under this Group Policy runs annually to the Policy Anniversary, unless sooner \\nterminated.  \\n While this Group Policy is in force, and subject to the provisions in PART II, Section C, the Policyholder may renew at the applicable premium rates in effect on the Policy Anniversary.'),\n",
              " Document(metadata={'source': '/content/drive/MyDrive/Colab_Notebooks/Semantic_Spotter_Project/Principal-Sample-Life-Insurance-Policy.pdf', 'page': 25}, page_content='This policy has been updated effective  January 1, 2014  \\n \\n \\nPART III - INDIVIDUAL REQUIREMENTS AND RIGHTS  \\nGC 6006  Section A - Eligibility, Page 1  \\n PART III -  INDIVIDUAL REQUIREMENTS AND RIGHTS  \\n \\n \\nSection A -  Eligibility  \\n  Article 1 - Member Life Insurance \\n \\nA person will be eligible for Member Life Insurance on the date the person completes 30 \\nconsecutive days of continuous Active Work with the Policyholder as a Member.  In no circumstance will a person be eligible for Member Life Insurance under this Group Policy if the person is eligible under any other Group Term Life Insurance policy underwritten by The Principal.  \\n  \\nArticle 2 - Member Accidental Death and Dismemberment Insurance  \\n \\nA person will be eligible for Member Accidental Death and Dismemberment Insurance on the \\nlatest of:  a. the date the person is eligible for Member Life Insurance; or'),\n",
              " Document(metadata={'source': '/content/drive/MyDrive/Colab_Notebooks/Semantic_Spotter_Project/Principal-Sample-Life-Insurance-Policy.pdf', 'page': 25}, page_content='latest of:  a. the date the person is eligible for Member Life Insurance; or  \\n b. the date the person enters a class for which Member Accidental Death and Dismemberment Insurance is provided under this Group Policy; or  \\n c. the date Member Accidental Death and Dismemberment Insurance is added to this Group Policy.  \\n  \\nArticle 3 - Dependent Life Insurance  \\n \\nA person will be eligible for Dependent Life Insurance on the latest of:  \\n \\na. the date the person is eligible for Member Life Insurance; or  \\n b. the date the person first acquires a Dependent; or  \\n c. the date the person enters a class for which Dependent Life Insurance is provided under this Group Policy; or  \\n d. the date Dependent Life I nsurance is added to this Group Policy.'),\n",
              " Document(metadata={'source': '/content/drive/MyDrive/Colab_Notebooks/Semantic_Spotter_Project/Principal-Sample-Life-Insurance-Policy.pdf', 'page': 26}, page_content=\"This policy has been updated effective  January 1, 2014  \\n \\n \\nPART III - INDIVIDUAL REQUIREMENTS AND RIGHTS  \\nGC 6006  Section A - Eligibility, Page 2  \\n If a Member's Dependent is employed and is covered under group term life coverage or \\ncoverages provided by the Dependent's employer, the date such coverage terminates because the Dependent is no longer eligible unde r his/her employer's coverage will be considered the date the \\nMember first acquires that Dependent (and any other Dependent who was also covered under such group coverage or coverages).\"),\n",
              " Document(metadata={'source': '/content/drive/MyDrive/Colab_Notebooks/Semantic_Spotter_Project/Principal-Sample-Life-Insurance-Policy.pdf', 'page': 27}, page_content=\"This policy has been updated effective  January 1, 2014  \\n \\n \\nPART III - INDIVIDUAL REQUIREMENTS AND RIGHTS  \\nGC 6007  Section B - Effective Dates, Page 1  \\n Section B -  Effective Dates  \\n \\n Article 1 - Member Life Insurance \\n a. Actively at Work  \\n \\nA Member's effective date for Member Life Insurance will be as explained in this article, if the Member is Actively at Work on that date.  If the Member is not Actively at Work on the date insurance would otherwise be effective, such insurance will not be in force until the day of return to Active Work. \\n \\nHowever, this Actively at Work requirement will be waived for Members who:  \\n \\n(1) are absent from Active Work because of a regularly scheduled day off, holiday, or \\nvacation day; and  \\n(2) were Actively at Work on their last scheduled work day before the date of their \\nabsence; and  \\n(3) were capable of Active Work on the day before the scheduled effective date of their\"),\n",
              " Document(metadata={'source': '/content/drive/MyDrive/Colab_Notebooks/Semantic_Spotter_Project/Principal-Sample-Life-Insurance-Policy.pdf', 'page': 27}, page_content='(3) were capable of Active Work on the day before the scheduled effective date of their \\ninsurance or change in their insurance, whichever is applicable.  \\n \\nThis Actively at Work requireme nt may also be waived as described below. \\n \\nWhen insurance under this Group Policy replaces coverage under a Prior Policy, the Active Work requirement may be waived for those Members who:  \\n \\n(1) are eligible and enrolled under this Group Policy on its Date of  Issue; and  \\n(2) were covered under the Prior Policy on the date of its termination. \\n \\nIn no event will the Active Work requirement be waived for those Members who, on the date of termination of the Prior Policy, either:  \\n \\n(1) had the option, under the terms of the Prior Policy, to convert their coverage under \\nthe Prior Policy to an individual policy; or  \\n(2) were eligible under the terms of the Prior Policy, to have their premiums waived due \\nto ADL Disability or Total Disability.'),\n",
              " Document(metadata={'source': '/content/drive/MyDrive/Colab_Notebooks/Semantic_Spotter_Project/Principal-Sample-Life-Insurance-Policy.pdf', 'page': 27}, page_content='to ADL Disability or Total Disability.  \\n \\nNOTE:  When insurance under t his Group Policy replaces coverage under a Prior Policy \\nand the Active Work requirement is waived, any benefits payable will be the lesser of the Scheduled Benefit of this Group Policy or the amount that would have been paid by the Prior Policy had it rema ined in force.  \\n \\nb. Effective Date for Initial Insurance When Proof of Good Health is Required'),\n",
              " Document(metadata={'source': '/content/drive/MyDrive/Colab_Notebooks/Semantic_Spotter_Project/Principal-Sample-Life-Insurance-Policy.pdf', 'page': 28}, page_content='This policy has been updated effective  January 1, 2014  \\n \\n \\nPART III - INDIVIDUAL REQUIREMENTS AND RIGHTS  \\nGC 6007  Section B - Effective Dates, Page 2  \\n Insurance for which Proof of Good Health is required (see e. below) will be in force on the \\nlater of:  \\n \\n(1) the date insurance would have been effective if Proof of Good Health had not been \\nrequired; or  \\n(2) the date Proof of Good Health is approved by The Principal. \\n \\nc. Effective Date for Initial Noncontributory Insurance When Proof of Good Health is \\nnot Required  \\n \\nUnless Proof of Good Health is required (see b. above and e. below), insurance for which the Member contributes no part of premium will be in force on the date the Member is eligible.  \\n \\nd. Effective Date for Initial Contributory Insurance When Proof of Good Health is not \\nRequired  \\n \\nIf a Member is to contribu te a part of premium, insurance must be requested in a form'),\n",
              " Document(metadata={'source': '/content/drive/MyDrive/Colab_Notebooks/Semantic_Spotter_Project/Principal-Sample-Life-Insurance-Policy.pdf', 'page': 28}, page_content=\"If a Member is to contribu te a part of premium, insurance must be requested in a form \\nprovided by The Principal.  Unless Proof of Good Health is required (see b. above and e. below), the requested insurance will be in force on:  \\n \\n(1) the date the Member is eligible, if the request is made on or before that date; or  \\n(2) the date of the Member's request, if the request is made within 31 days after the date \\nthe Member is eligible.  \\n \\nIf the request is made more than 31 days after the date the Member is eligible, Proof of Good Health will be required before insurance can be in force (see b. above and e. below).  \\n \\ne. Proof of Good Health Requirements  \\n \\nThe type and form of required Proof of Good Health will be determined by The Principal.  \\nA Member must submit Proof of Good Health:  \\n \\n(1) If ins urance for which a Member contributes a part of premium is requested more\"),\n",
              " Document(metadata={'source': '/content/drive/MyDrive/Colab_Notebooks/Semantic_Spotter_Project/Principal-Sample-Life-Insurance-Policy.pdf', 'page': 28}, page_content='(1) If ins urance for which a Member contributes a part of premium is requested more \\nthan 31 days after the date the Member is eligible including any insurance the Member refuses and later requests.  \\n(2) If insurance is requested under this Group Policy by a Member th at was eligible under \\nthe Prior Policy, but elected to waive coverage under the Prior Policy.  \\n(3) If a Member has failed to provide required Proof of Good Health or has been refused \\ninsurance under this Group Policy at any prior time. \\n(4) If a Member elect s to terminate insurance and, more than 31 days later, requests to be \\ninsured again.  \\n(5) If, on the date a Member becomes eligible, fewer than five Members are insured.'),\n",
              " Document(metadata={'source': '/content/drive/MyDrive/Colab_Notebooks/Semantic_Spotter_Project/Principal-Sample-Life-Insurance-Policy.pdf', 'page': 29}, page_content='This policy has been updated effective  January 1, 2014  \\n \\n \\nPART III - INDIVIDUAL REQUIREMENTS AND RIGHTS  \\nGC 6007  Section B - Effective Dates, Page 3  \\n (6) If, on the date a Member becomes eligible for any increased or additional Scheduled  \\nBenefit amount, fewer than five Members are insured.  \\n(7) To make effective any Scheduled Benefit amounts for the Member that are, initially \\nor through later increases, in excess of:  \\n \\n- $10,000 for Members who are under age 65; and  \\n- $10,000 for Members who are age 65 or over but under age 70; and  \\n- *$10,000 for Members who are age 70 or over.  \\n \\n*If a Member is insured under this Group Policy on its Date of Issue and this \\ninsurance replaces insurance in force on the day immediately before the Date of Issue:  the lesser of the amount shown above or the amount for which the Member was insured under the replaced insurance.  \\n \\nf. Effective Date for Benefit Changes Due to Change in Insurance Class'),\n",
              " Document(metadata={'source': '/content/drive/MyDrive/Colab_Notebooks/Semantic_Spotter_Project/Principal-Sample-Life-Insurance-Policy.pdf', 'page': 29}, page_content=\"f. Effective Date for Benefit Changes Due to Change in Insurance Class  \\n \\n(1) A change in the Member's Scheduled Benefit amount because of a change in the \\nMember's insurance class for which Proof of Good Health is not required (see e . \\nabove) will normally be effective on the date of change.  However, if the Member is \\nnot Actively at Work on the date a Scheduled Benefit change would otherwise be effective, the Scheduled Benefit change will not be in force until the date the Member returns to Active Work.  Any decrease in Scheduled Benefit amounts due to a change \\nin a Member's insurance class will be effective on the date of the change, whether or not the Member is Actively at Work.  \\n \\nAny termination of Scheduled Benefit amounts due to a change in the Member's insurance class will be effective on the date of the change, whether or not the Member is Actively at Work.  \\n \\n(2) A change in a Member's Scheduled Benefit amount because of a change in the\"),\n",
              " Document(metadata={'source': '/content/drive/MyDrive/Colab_Notebooks/Semantic_Spotter_Project/Principal-Sample-Life-Insurance-Policy.pdf', 'page': 29}, page_content=\"(2) A change in a Member's Scheduled Benefit amount because of a change in the \\nMember's insurance class for which Proof of G ood Health is required (see e. above) \\nwill be effective on the later of:  \\n \\n- the date the change would have been effective if Proof of Good Health had not been required; or  \\n- the date Proof of Good Health is approved by The Principal. \\n \\ng. Effective Date for Benefit Changes Due to Change by Policy Amendment  \\n \\n(1) A change in the Member's Scheduled Benefit amount because of a change in the \\nSchedule of Insurance (as described in PART IV, Section A) by amendment to this \\nGroup Policy for which Proof of Good Health is not required (see e. above) will be \\neffective on the date of change.  However, if the Member is not Actively at Work on the date an increase in the Scheduled Benefit would otherwise be effective, the\"),\n",
              " Document(metadata={'source': '/content/drive/MyDrive/Colab_Notebooks/Semantic_Spotter_Project/Principal-Sample-Life-Insurance-Policy.pdf', 'page': 30}, page_content=\"This policy has been updated effective  January 1, 2014  \\n \\n \\nPART III - INDIVIDUAL REQUIREMENTS AND RIGHTS  \\nGC 6007  Section B - Effective Dates, Page 4  \\n Scheduled Benefit in force for the Member before the change will continue to apply \\nto the Member until the day of return to Active Work.  When the Member returns to Active Work, the Scheduled Benefit increase will then be in force for the Member.  Any decrease in Scheduled Benefit amounts due to a change by amendment to this \\nGroup Policy will be effective on the date of change, whether or not the Member is Actively at Work.  \\n \\n(2) A change in the Member's Scheduled Benefit amount because of a change in the \\nSchedule of Insurance (as described in PART IV, Section A) by amendment to this \\nGroup Policy for which Proof of Good Health is required (see e. above) will be effective on the later of:  \\n \\n- the date the change would have been effective if Proof of Good Health had not been required; or\"),\n",
              " Document(metadata={'source': '/content/drive/MyDrive/Colab_Notebooks/Semantic_Spotter_Project/Principal-Sample-Life-Insurance-Policy.pdf', 'page': 30}, page_content=\"- the date the change would have been effective if Proof of Good Health had not been required; or  \\n- the date Proof of Good Health is approved by The Principal. \\n \\nh. Effective Date for Benefit Changes Due to Changes Requested by the Member  \\n \\n(1) A change in a Member's Scheduled Benefit amount because of a request by the \\nMember for which Proof of Good Health is not required (see e . above) will normally \\nbe effective on the date of the request.  However, if the Member is not Actively at \\nWork on the date a Scheduled Benefit change would otherwise be effective, the Scheduled Benefit change will not be in force until the date the Member  returns to \\nActive Work.  Any decrease in Scheduled Benefit amounts due to a request by the Member will be effective on the date of the change, whether or not the Member is \\nActively at Work.  \\n \\n(2) A change in the Member's Scheduled Benefit amount because of  a request by the\"),\n",
              " Document(metadata={'source': '/content/drive/MyDrive/Colab_Notebooks/Semantic_Spotter_Project/Principal-Sample-Life-Insurance-Policy.pdf', 'page': 30}, page_content=\"(2) A change in the Member's Scheduled Benefit amount because of  a request by the \\nMember for which Proof of Good Health is required (see e. above) will be effective on the later of:  \\n \\n- the date the change would have been effective if Proof of Good Health had not been required; or  \\n- the date Proof of Good Health is approved by The Principal.  \\n \\ni. Effective Date for Benefit Changes Due to Change in the Member's Family Status  \\n \\nA Member may request an increase in Scheduled Benefit amount, a decrease in Scheduled \\nBenefits, or the addition of Scheduled Benefits for which he or she  was not previously \\ninsured if a change in the Member's family status as described below has occurred, provided a request for such increase, decrease, or addition is made in Writing within 31 days after the date of the change in family status:\"),\n",
              " Document(metadata={'source': '/content/drive/MyDrive/Colab_Notebooks/Semantic_Spotter_Project/Principal-Sample-Life-Insurance-Policy.pdf', 'page': 31}, page_content=\"This policy has been updated effective  January 1, 2014  \\n \\n \\nPART III - INDIVIDUAL REQUIREMENTS AND RIGHTS  \\nGC 6007  Section B - Effective Dates, Page 5  \\n (1) marriag e or establishment of a Civil Union partnership or divorce or termination of a \\nCivil Union partnership;  \\n(2) death of a spouse or child;  \\n(3) birth or adoption of a child;  \\n(4) termination of employment by the Member's spouse or a change in the spouse's \\nemplo yment that causes loss of group coverage;  \\n(5) the Member's employment or the Member's spouse's employment changes from part -\\ntime to full- time or from full- time to part- time; \\n(6) the Member or the Member's spouse takes an unpaid leave of absence.  \\n \\nA change in the Scheduled Benefits because of a request by the Member when a change in\"),\n",
              " Document(metadata={'source': '/content/drive/MyDrive/Colab_Notebooks/Semantic_Spotter_Project/Principal-Sample-Life-Insurance-Policy.pdf', 'page': 31}, page_content='A change in the Scheduled Benefits because of a request by the Member when a change in \\nfamily status has occurred for which Proof of Good Health is not required (see e. above) will normally be effective on the date of the request.  However, if the Member is not Actively at Work on the date a Scheduled Benefit change would otherwise be effective, the \\nScheduled Benefit change will not be in force until the date the Member returns to Active Work.  Any decrease in Scheduled Benefit amounts due to a request by the Member  will be \\neffective on the date of the change, whether or not the Member is Actively at Work. \\n \\nA change in the Scheduled Benefits because of a request by the Member when a change in family status has occurred for which Proof of Good Health is required (see e. above) will be effective on the later of:  \\n \\n(1) the date the change would have been effective if Proof of Good Health had not been \\nrequired; or'),\n",
              " Document(metadata={'source': '/content/drive/MyDrive/Colab_Notebooks/Semantic_Spotter_Project/Principal-Sample-Life-Insurance-Policy.pdf', 'page': 31}, page_content=\"required; or  \\n(2) the date Proof of Good Health is approved by The Principal. \\n \\n \\nArticle 2 - Member Accidental Death and Dism emberment Insurance  \\n \\nMember Accidental Death and Dismemberment Insurance will be effective under the same terms \\nas set forth for Member Life Insurance in this Section B, Article 1.  However, in no event will Member Accidental Death and Dismemberment Insura nce be in force for a Member who is not \\ninsured for Member Life Insurance.  \\n Any change in a Member's Scheduled Benefit will be as stated in this Section B, Article 1.  \\n  \\nArticle 3 - Dependent Life Insurance  \\n \\nDependent Life Insurance is available only with respect to Dependents of Members currently \\ninsured for Member Life Insurance.  If a Member is eligible for Dependent Life Insurance, such insurance will be effective under the same terms as set forth for Member Life Insurance in this Section B, Article 1, except as described below.\"),\n",
              " Document(metadata={'source': '/content/drive/MyDrive/Colab_Notebooks/Semantic_Spotter_Project/Principal-Sample-Life-Insurance-Policy.pdf', 'page': 32}, page_content=\"This policy has been updated effective  January 1, 2014  \\n \\n \\nPART III - INDIVIDUAL REQUIREMENTS AND RIGHTS  \\nGC 6007  Section B - Effective Dates, Page 6  \\n a. In no event will Dependent Life Insurance be in force for a Member who is not insured for \\nMember Life Insurance.  \\n b. If a Dependent spouse is in a Period of Limited Activity on the date Dependent Life Insurance or an increase in Dependent Life Insurance Scheduled Benefit due to a change in \\nthe Member's Annual Compensation or insurance class would otherwise be effective, such insurance or increase will not be in force for that Dependent spouse until the Period of Limited Activity ends.  \\n  \\nHowever, this Period of Limited Activity requirement may be waived as described below.  \\n \\nWhen insurance under this Group Policy replaces coverage under a Prior Policy, the Period of Limited Activity requirement may be waived for those Dependent spouses' who:\"),\n",
              " Document(metadata={'source': '/content/drive/MyDrive/Colab_Notebooks/Semantic_Spotter_Project/Principal-Sample-Life-Insurance-Policy.pdf', 'page': 32}, page_content=\"(1) are eligible and enrolled under this Group Policy on its Date of Issue; and  \\n(2) were covered under the Prior Policy on the date of its termination. \\n \\nIn no event will the Period of Limited Activity requirement be waived for those Dependent spouses' who, on the date of termination of the Prior Policy had the option, under the terms of the Prior Policy, to convert their coverage, under the Prior Policy, to an individual policy.  \\n \\nNOTE:  When insurance under this Group Policy replaces coverage under a Prior Policy and the Period of Limited Activity requirement is waived, any benefits payable will be the lesser of the Scheduled Benefit of this Group Policy or the amount that would have been \\npaid by the Prior Policy had it remained in force.  \\n c. If insurance is requested under this Group Policy for a Dependent spouse that was eligible under the Prior Policy, but elected to waive coverage under the Prior Policy.\"),\n",
              " Document(metadata={'source': '/content/drive/MyDrive/Colab_Notebooks/Semantic_Spotter_Project/Principal-Sample-Life-Insurance-Policy.pdf', 'page': 32}, page_content=\"d. If a Dependent is confined in a Hospital or Skilled Nursing Facility on the date an increase in the Dependent Life Insurance Scheduled Benefit would otherwise be effective, the Scheduled Benefit in force for the Dependent will continue to apply to the Dependent until such confinement ends.  When the Hospital or Skilled Nursing Facility  confinement ends, \\nthe Scheduled Benefit increase will then be in force for the Dependent.  \\n e. Any required Proof of Good Health will be with respect to the health of the Member's Dependents.  \\n f. If Dependent Life Insurance is in force for a Dependent of t he Member, a Member will be \\ninsured with respect to a new Dependent (other than a newborn child) on the date the new Dependent is acquired, provided the new Dependent is not then confined in a Hospital or Skilled Nursing Facility.  Requests for insurance a nd Proof of Good Health are not required\"),\n",
              " Document(metadata={'source': '/content/drive/MyDrive/Colab_Notebooks/Semantic_Spotter_Project/Principal-Sample-Life-Insurance-Policy.pdf', 'page': 33}, page_content='This policy has been updated effective  January 1, 2014  \\n \\n \\nPART III - INDIVIDUAL REQUIREMENTS AND RIGHTS  \\nGC 6007  Section B - Effective Dates, Page 7  \\n provided The Principal has been notified of the new Dependent within 31 days after the \\ndate the Dependent is acquired.  \\n g. If Dependent Life Insurance is in force for a Dependent of the Member, a newly born child will be covered under this Group Policy on the date the child is 0 days old, provided the \\nchild meets the definition of a Dependent Child as defined in PART I.'),\n",
              " Document(metadata={'source': '/content/drive/MyDrive/Colab_Notebooks/Semantic_Spotter_Project/Principal-Sample-Life-Insurance-Policy.pdf', 'page': 34}, page_content=\"This policy has been updated effective  January 1, 2014  \\n \\n \\nPART III - INDIVIDUAL REQUIREMENTS AND RIGHTS  \\nGC 6008  Section C - Individual Terminations, Page 1  \\n Section C -  Individual Terminations  \\n \\n Article 1 - Member Life Insurance \\n \\nA Member's insurance under this Group Policy will terminate on the earliest of: \\n a. the date this Group Policy is terminated; or  \\n b. the date the last premium is paid for the Member's insurance; or  \\n c. any date desired, if requested by the Member before that date; or  \\n d. the date the Member ceases to be a Member as defined in PART I; or  \\n e. the date the Member ceases to be in a class for which Member Life Insurance is provided; or \\n f. the date the Member retires; or  \\n g. the date the Member ceases Active Work.  \\n  \\nArticle 2 - Member Accidental Death and Dismemberment I nsurance  \\n \\nA Member's Accidental Death and Dismemberment Insurance under this Group Policy will\"),\n",
              " Document(metadata={'source': '/content/drive/MyDrive/Colab_Notebooks/Semantic_Spotter_Project/Principal-Sample-Life-Insurance-Policy.pdf', 'page': 34}, page_content=\"A Member's Accidental Death and Dismemberment Insurance under this Group Policy will \\nterminate on the earliest of:  a. the date his or her Member Life Insurance ceases; or  \\n b. the date Member Accidental Death and Dismemberment Insurance is removed from this Group Policy; or  \\n c. the date the last premium is paid for the Member's Accidental Death and Dismemberment Insurance; or  \\n d.  any date desired, if requested by the Member before that date; or  \\n e. the date the Member ceases to be in a clas s for which Member Accidental Death and \\nDismemberment Insurance is provided.  \\n  \\nArticle 3 - Dependent Life Insurance\"),\n",
              " Document(metadata={'source': '/content/drive/MyDrive/Colab_Notebooks/Semantic_Spotter_Project/Principal-Sample-Life-Insurance-Policy.pdf', 'page': 35}, page_content=\"This policy has been updated effective  January 1, 2014  \\n \\n \\nPART III - INDIVIDUAL REQUIREMENTS AND RIGHTS  \\nGC 6008  Section C - Individual Terminations, Page 2  \\n A Member's insurance under this Group Policy for a Dependent will terminate on the earliest of:  \\n \\na. the date his or her Member Life Insurance ceases; or  \\n b. the date Dependent Life Insurance is removed from this Group Policy; or  \\n c. the date the last premium is paid for the Member's Dependent Life Insurance; or  \\n d. any date desired, if requested by the Member before that date; or  \\n e. the date the Member ceases to be in a class for which Dependent Life Insurance is provided; or  \\n f. for a Dependent spouse on the date that Dependent spouse ceases to be a Dependent as defined in PART I; or  \\n g. for each Dependent Child, on the date that Dep endent Child ceases to be a Dependent as \\ndefined in PART I.  \\n  \\nArticle 4 - Termination for Fraud\"),\n",
              " Document(metadata={'source': '/content/drive/MyDrive/Colab_Notebooks/Semantic_Spotter_Project/Principal-Sample-Life-Insurance-Policy.pdf', 'page': 35}, page_content=\"defined in PART I.  \\n  \\nArticle 4 - Termination for Fraud  \\n \\nThe Principal may at any time terminate a Member's or Dependent's eligibility under the Group \\nPolicy:  \\n \\na. in Writing and with 31- day notice, if the individual submits any claim that contains false or \\nfraudulent elements under state or federal law; or  \\n b. in Writing and with 31 -day notice, upon finding in a civil or criminal case that a Member \\nor Dependent has submitted claims that contain false or fraudulent ele ments under state or \\nfederal law; or  \\n c. in Writing and with 31- day notice, when a Member or Dependent has submitted a claim \\nwhich, in good faith judgement and investigation, a Member or Dependent knew or should have known, contains false or fraudulent ele ments under state or federal law.  \\n  \\nArticle 5 - Coverage While Outside of the United States  \\n \\nIf a Member or Dependent is temporarily outside the United States, the Member or Dependent\"),\n",
              " Document(metadata={'source': '/content/drive/MyDrive/Colab_Notebooks/Semantic_Spotter_Project/Principal-Sample-Life-Insurance-Policy.pdf', 'page': 35}, page_content='If a Member or Dependent is temporarily outside the United States, the Member or Dependent \\nmay choose to continue his or her insurance, subject to premium payment for a period of six months or less for one of the following reasons:  \\n a. travel; or'),\n",
              " Document(metadata={'source': '/content/drive/MyDrive/Colab_Notebooks/Semantic_Spotter_Project/Principal-Sample-Life-Insurance-Policy.pdf', 'page': 36}, page_content='This policy has been updated effective  January 1, 2014  \\n \\n \\nPART III - INDIVIDUAL REQUIREMENTS AND RIGHTS  \\nGC 6008  Section C - Individual Terminations, Page 3  \\n  \\nb. a business assignment; or  \\n c. full-time student status, provided the Member or Dependent is either:  \\n \\n(1) enrolled and attending an accredited school in a foreign country; or  \\n(2) is participating in an academic program in a foreign country, for which the institution \\nof higher learning at which the student is enrolled in the U.S. grants academic credit.  \\n The six -month period will not be reduced for any time covered under a Prior Policy.  \\n If a Member or Dependent is outside the United States for any other reason than those listed above, coverage for the person concerned will automatically terminate.'),\n",
              " Document(metadata={'source': '/content/drive/MyDrive/Colab_Notebooks/Semantic_Spotter_Project/Principal-Sample-Life-Insurance-Policy.pdf', 'page': 37}, page_content='This policy has been updated effective  January 1, 2014  \\n \\n \\nPART III - INDIVIDUAL  REQUIREMENTS AND RIGHTS  \\nGC 6009  Section D - Continuation, Page 1  \\n Section D -  Continuation  \\n \\n Article 1 - Member Life Insurance \\n a. Sickness or Injury (Other Than ADL Disability or Total Disability)  \\n \\nIf Active Work ends because a Member is sick or injured but not ADL Disabled or Totally Disabled, insurance for that Member may be continued until the earlier of:  \\n \\n(1) the date insurance would otherwise cease as provided in PART III, Section C; or  \\n(2) the date the Member recovers.  \\n \\nb. Layoff or Approved Leave of Absence  \\n \\nIf Active Work ends because a Member is on layoff or approved leave of absence, \\ninsurance for that Member may be continued until the earliest of:  \\n \\n(1) the date insurance would otherwise cease as provided in PART III, Section C, Article \\n1 a. through g.; or  \\n(2) the date the layoff or approved leave of absence ends; or'),\n",
              " Document(metadata={'source': '/content/drive/MyDrive/Colab_Notebooks/Semantic_Spotter_Project/Principal-Sample-Life-Insurance-Policy.pdf', 'page': 37}, page_content=\"1 a. through g.; or  \\n(2) the date the layoff or approved leave of absence ends; or  \\n(3) the date the Member becomes eligible for any other group life coverage; or  \\n(4) the date o ne month after the date Active Work ends. \\n \\nc. Family and Medical Leave Act (FMLA)  \\n \\nIf a Member ceases Active Work due to an approved leave of absence under FMLA, the Policyholder may choose to continue the Member's insurance, subject to premium payment. \\n A Member may qualify to have his or her insurance continued under one or more of the \\ncontinuation provisions described in a., b., and c. above.  If a Member qualifies for continuation under more than one provision, the longest period of continuation will be  applied, and all periods \\nof continuation will run concurrently.  \\n  \\nArticle 2 -  Dependent Insurance -  Developmentally Disabled or Physically Handicapped \\nChildren  \\n \\na. Qualification\"),\n",
              " Document(metadata={'source': '/content/drive/MyDrive/Colab_Notebooks/Semantic_Spotter_Project/Principal-Sample-Life-Insurance-Policy.pdf', 'page': 37}, page_content='Children  \\n \\na. Qualification  \\n \\nDependent Life Insurance for a child may be continued after the child reaches the maximum age for Dependent Children as defined in PART I of this Group Policy, provided that:'),\n",
              " Document(metadata={'source': '/content/drive/MyDrive/Colab_Notebooks/Semantic_Spotter_Project/Principal-Sample-Life-Insurance-Policy.pdf', 'page': 38}, page_content=\"This policy has been updated effective  January 1, 2014  \\n \\n \\nPART III - INDIVIDUAL  REQUIREMENTS AND RIGHTS  \\nGC 6009  Section D - Continuation, Page 2  \\n  \\n(1) the child is incapable of self -support as the result of a Developmental Disability or \\nPhysical Handicap and became so before reaching the maximum age and is \\ndependent on the Member for primary support; and \\n(2) except for age, the child continues to be a Dependent Child as defined in PART I; and  \\n(3) proof of the child's incapacity is sent to The Principal within 31 days after the date the \\nchild reach es the maximum age; and  \\n(4) further proof that the child remains incapable of self -support is provided when The \\nPrincipal requests; and  \\n(5) the child undergoes examination by a Physician when The Principal requests.  The \\nPrincipal will pay for these examin ations and will choose the Physician to perform \\nthem.  \\n \\nb. Period of Continuation\"),\n",
              " Document(metadata={'source': '/content/drive/MyDrive/Colab_Notebooks/Semantic_Spotter_Project/Principal-Sample-Life-Insurance-Policy.pdf', 'page': 38}, page_content=\"them.  \\n \\nb. Period of Continuation  \\n \\nInsurance for a Dependent Child who qualifies as set forth above may be continued until \\nthe earlier of:  \\n \\n(1) the date insurance would cease for any reason other than the chil d's attainment of the \\nmaximum age; or  \\n(2) the date the child becomes capable of self -support or otherwise fails to qualify as set \\nforth in a. above.\"),\n",
              " Document(metadata={'source': '/content/drive/MyDrive/Colab_Notebooks/Semantic_Spotter_Project/Principal-Sample-Life-Insurance-Policy.pdf', 'page': 39}, page_content=\"This policy has been updated effective  January 1, 2014  \\n \\n \\nPART III  - INDIVIDUAL REQUIREMENTS AND RIGHTS  \\nGC 6010  Section E - Reinstatement, Page 1  \\n Section E -  Reinstatement \\n \\n Article 1 - Reinstatement   \\n A Member's terminated insurance will be reinstated if:  a. insurance ceased because of layoff or approved leave of absence; and  \\n b. the Member returns to Active Work for the Policyholder within six months of the date insurance ceased.  \\n The Member's reinstated insurance will be in force on the date of return to work.  However, the Actively at Work and Period of Limited Activity provisions discussed in PART III, Section B, will apply.  Also, Proof of Good Health will be required to place in force any Scheduled Benefit that would have been subject to Proof of Good Health had the Member remained continuous ly \\ninsured.\"),\n",
              " Document(metadata={'source': '/content/drive/MyDrive/Colab_Notebooks/Semantic_Spotter_Project/Principal-Sample-Life-Insurance-Policy.pdf', 'page': 39}, page_content=\"insured. \\n \\nOnly the period of time during which a Member is actually insured will be included in determining the length of his or her continuous coverage under this Group Policy.  For this purpose the period of time during which a reinstated Member's insurance was not in force:  \\n a. will not be considered an interruption of continuous coverage; and  \\n b. will not be used to satisfy any provision of this Group Policy which pertains to a period of continuous coverage.  \\n In addition, a longer reinstatement pe riod may be allowed for an approved leave of absence taken \\nin accordance with the provisions of the federal law regarding the Uniformed Services Employment and Reemployment Rights Act of 1994 (USERRA).   \\nArticle 2 - Federal Required Family and Medical Leav e Act (FMLA)  \\n \\nA Member's terminated insurance may be reinstated in accordance with the provisions of the\"),\n",
              " Document(metadata={'source': '/content/drive/MyDrive/Colab_Notebooks/Semantic_Spotter_Project/Principal-Sample-Life-Insurance-Policy.pdf', 'page': 39}, page_content=\"A Member's terminated insurance may be reinstated in accordance with the provisions of the \\nFederal Family and Medical Leave Act (FMLA), subject to the Actively at Work and Period of Limited Activity provision discussed in PART III, Section B.  \\n  \\nArticle 3 -  Reinstatement of Coverage for a Member or Dependent When Coverage Ends \\ndue to Living Outside of the United States\"),\n",
              " Document(metadata={'source': '/content/drive/MyDrive/Colab_Notebooks/Semantic_Spotter_Project/Principal-Sample-Life-Insurance-Policy.pdf', 'page': 40}, page_content='This policy has been updated effective  January 1, 2014  \\n \\n \\nPART III  - INDIVIDUAL REQUIREMENTS AND RIGHTS  \\nGC 6010  Section E - Reinstatement, Page 2  \\n If coverage for a Member or Dependent terminates because the person is outside of the United \\nStates as discussed in PART III, Section C, Article 5, the Member or Dependent may become eligible again for coverage under this Group Policy, but only if:  \\n a. the Member or Dependent return to the United States within six months of the date on which coverage terminated because the person is outside of the United States; and  \\n b. in the case of a Member, the Member returns to Active Work in the United States for the Policyholder for a period of at least 30 consecutive days.  The Member will be eligible for coverage on the day immediately following completion of the 30 consecutive days of Active Work; and'),\n",
              " Document(metadata={'source': '/content/drive/MyDrive/Colab_Notebooks/Semantic_Spotter_Project/Principal-Sample-Life-Insurance-Policy.pdf', 'page': 40}, page_content='c. in the case of the Dependent, he or she remains in the United States for 30 consecutive days.  If the Dependent does so, he or she will be eligible for reinstatement of coverage on the d ay after completion of the 30 consecutive days of residence.  \\n The reinstated coverage will be on the same basis as that being provided on the date coverage is \\nreinstated.  However, any restrictions on this coverage that were in effect before reinstatement \\nwill continue to apply.  If the Member or Dependent does not complete the 30 consecutive days of residence, the coverage for such person will not be reinstated.'),\n",
              " Document(metadata={'source': '/content/drive/MyDrive/Colab_Notebooks/Semantic_Spotter_Project/Principal-Sample-Life-Insurance-Policy.pdf', 'page': 41}, page_content=\"This policy has been updated effective  January 1, 2014  \\n \\nPART III - INDIVIDUAL REQUIREMENTS AND RIGHTS  \\nGC 6011  Section F - Individual Purchase Rights, Page 1  \\n Section F - Individual Purchase Rights  \\n \\n Article 1 - Member Life Insurance \\n a. Individual Policy  \\n \\nIf a Member qualifies and makes timely application, he or she may convert the group coverage by purchasing an individual policy of life insurance under these terms:  \\n \\n(1) The Member will not be required to submit Proof of Good Health. \\n(2) The policy will be for life insurance only.  No disabilit y or other benefits will be \\nincluded. \\n(3) The policy will be on one of the forms, other than term insurance, then issued by The \\nPrincipal to persons in the risk class to which the Member belongs on the individual policy's effective date.  \\n(4) Premium will be based on the Member's age and the standard rate of The Principal for \\nthe policy form to be issued. \\n \\nb. Purchase Qualification\"),\n",
              " Document(metadata={'source': '/content/drive/MyDrive/Colab_Notebooks/Semantic_Spotter_Project/Principal-Sample-Life-Insurance-Policy.pdf', 'page': 41}, page_content=\"the policy form to be issued. \\n \\nb. Purchase Qualification  \\n \\nA Member will qualify for individual purchase if insurance under this Group Policy \\nterminates and:  \\n \\n(1) the Member's total Lif e Insurance, or any portion of it, terminates because he or she \\nends Active Work or ceases to be in a class eligible for insurance; or  \\n(2) after the Member has been continuously insured under this Group Policy for at least \\nfive years, his or her total Memb er Life Insurance terminates because this Group \\nPolicy terminates or is amended to exclude the Member's insurance class; or  \\n(3) the Member's Coverage During Disability as described in PART IV, Section A, \\nceases because Total Disability ends and he or she d oes not return to Active Work \\nwithin 31 days; or  \\n(4) the Member's Accelerated Benefits Premium Waiver Period as described in PART \\nIV, Section A, ceases and he or she does not qualify for Coverage During Disability .  \\n \\nc. Application/Effective Date\"),\n",
              " Document(metadata={'source': '/content/drive/MyDrive/Colab_Notebooks/Semantic_Spotter_Project/Principal-Sample-Life-Insurance-Policy.pdf', 'page': 41}, page_content='c. Application/Effective Date  \\n \\nNotice of the individual purchase right must be given to the Member by the Policyholder \\nbefore insurance under this Group Policy terminates, or as soon as reasonably possible \\nthereafter.  \\n \\nA Member must apply for individual purchase and the first premium for the i ndividual \\npolicy must be paid to The Principal within 31 days after the date Member Life Insurance or Coverage During Disability terminates under this Group Policy.'),\n",
              " Document(metadata={'source': '/content/drive/MyDrive/Colab_Notebooks/Semantic_Spotter_Project/Principal-Sample-Life-Insurance-Policy.pdf', 'page': 42}, page_content='This policy has been updated effective  January 1, 2014  \\n \\nPART III - INDIVIDUAL REQUIREMENTS AND RIGHTS  \\nGC 6011  Section F - Individual Purchase Rights, Page 2  \\n  \\nAny individual policy issued will then be in force on the 32nd day following such \\ntermination date.  \\n \\nd. Individual Policy Amount  \\n \\nThe amount of insurance that may be purchased may vary:  \\n \\n(1) If termination is as described in b. (1) above, the maximum amount will be the \\nMember Life Insurance benefit in force on the date of termination or the portion of \\nMember Life Insurance that has terminated, less any individual policy amount purchased earlier under this Article 1, and less any Accelerated Benefit payment as described in PART IV, Section A, Article 7.  \\n(2) If termination is as described in b. ( 2) above, the maximum amount will be the lesser \\nof: \\n \\n- $10,000; or'),\n",
              " Document(metadata={'source': '/content/drive/MyDrive/Colab_Notebooks/Semantic_Spotter_Project/Principal-Sample-Life-Insurance-Policy.pdf', 'page': 42}, page_content='of: \\n \\n- $10,000; or  \\n- the Member Life Insurance benefit in force on the date of termination, less any Accelerated Benefit payment as described in PART IV, Section A, Article 7 and less the amount for which the Member becomes eligible under any group policy within 31 days.  \\n(3) If termination is as described in b. (3) above, the maximum amount will be the \\nCoverage During Disability benefit in force on the date Total Disability ceases, less any individual policy am ount purchased earlier under this Article 1, and less any \\nAccelerated Benefit payment as described in PART IV, Section A, Article 7.  \\n(4) If termination is as described in b. (4) above, the maximum amount will be the \\nMember Life Insurance benefit in force o n the date the Member ceases Active Work, \\nless any individual policy amount purchased earlier under this Article 1, and less any \\nAccelerated Benefit payment as described in PART IV, Section A, Article 7.  \\n  \\nArticle 2 - Dependent Life Insurance'),\n",
              " Document(metadata={'source': '/content/drive/MyDrive/Colab_Notebooks/Semantic_Spotter_Project/Principal-Sample-Life-Insurance-Policy.pdf', 'page': 42}, page_content=\"Article 2 - Dependent Life Insurance  \\n \\na. Individua l Policy  \\n \\nIf a Dependent qualifies and makes timely application, he or she may purchase an individual policy of life insurance under these terms:  \\n \\n(1) The Dependent will not be required to submit Proof of Good Health. \\n(2) The policy will be for life insurance only.  No disability or other benefits will be \\nincluded. \\n(3) The policy will be on one of the forms, other than term insurance, then issued by The \\nPrincipal to persons in the risk class to which the Dependent belongs on the individual policy's effective date.\"),\n",
              " Document(metadata={'source': '/content/drive/MyDrive/Colab_Notebooks/Semantic_Spotter_Project/Principal-Sample-Life-Insurance-Policy.pdf', 'page': 43}, page_content=\"This policy has been updated effective  January 1, 2014  \\n \\nPART III - INDIVIDUAL REQUIREMENTS AND RIGHTS  \\nGC 6011  Section F - Individual Purchase Rights, Page 3  \\n (4) Premium will be based on the Dependent's age and the standard rate of The Principal \\nfor the policy form to be issued. \\n \\nb. Purchase Qualification  \\n \\nA Dependent will qualify for individual purchase if:  \\n \\n(1) Depend ent Life Insurance, or any portion of it, terminates because he or she ceases to \\nbe a Dependent as defined in PART I; or because the Member dies, ends Active \\nWork, or ceases to be in a class eligible for such insurance; or  \\n(2) the Dependent spouse's Dependent Life Insurance terminates as described in PART \\nIII, Section C; or  \\n(3) the Dependent spouse's or Civil Union Partner's Dependent Life Insurance terminates \\nbecause of divorce or separation or termination of a Civil Union partnership from the Member; or\"),\n",
              " Document(metadata={'source': '/content/drive/MyDrive/Colab_Notebooks/Semantic_Spotter_Project/Principal-Sample-Life-Insurance-Policy.pdf', 'page': 43}, page_content=\"because of divorce or separation or termination of a Civil Union partnership from the Member; or  \\n(4) after the Dependent has been continuously insured for Dependent Life Insurance for \\nat least five years, such insurance terminates because the Group Policy terminates, or \\nis amended to eliminate Dependent Life Insurance, or the Member's insurance class; \\nor \\n(5) the Dependent's Life Insurance terminates because the Member's Coverage During \\nDisability as described in PART IV, Section A, ceases because Total Disability ends and the Member does not return to Active Work within 31 days ; or  \\n(6) the Dependent's Life Insurance terminates because the Member's Accelerated \\nBenefits Premium Waiver Period as described in PART IV, Section A, ceases and the Member does not qualify for Coverage During Disability.  \\n \\nc. Application/Effective Date\"),\n",
              " Document(metadata={'source': '/content/drive/MyDrive/Colab_Notebooks/Semantic_Spotter_Project/Principal-Sample-Life-Insurance-Policy.pdf', 'page': 43}, page_content='c. Application/Effective Date  \\n \\nNotice of the individual purchase right must be given to the Member by the Policyholder before insurance under this Group Policy terminates, or as soon as reasonably possible thereafter.  \\n \\nA Dependent must apply for individual purchase and the first premium for the individual policy must be paid to The Principal within 31 days after the date Dependent Life \\nInsurance for the Dependent terminates under this Group Policy.  \\n \\nAny individual policy issued will then be in force on the 32nd day after such termination date.  \\n \\nd. Individual Polic y Amount  \\n \\nThe amount of insurance that a Dependent may purchase may vary:'),\n",
              " Document(metadata={'source': '/content/drive/MyDrive/Colab_Notebooks/Semantic_Spotter_Project/Principal-Sample-Life-Insurance-Policy.pdf', 'page': 44}, page_content='This policy has been updated effective  January 1, 2014  \\n \\nPART III - INDIVIDUAL REQUIREMENTS AND RIGHTS  \\nGC 6011  Section F - Individual Purchase Rights, Page 4  \\n (1) If termination is as described in b. (1) above, the maximum amount will be the \\nDependent Life Insurance benefit in force for the Dependent on the date of \\ntermination or the portion of Dependent Life Insurance that has terminated, less any individual policy amount purchased earlier under this Article 2. \\n(2) If termination is as described in b. (2), b. (3) or b. (5) or b. (6) above, the maximum \\namount will be the Dependent Life  Insurance benefit in force for the Dependent on \\nthe date of termination, less any individual policy amount purchased earlier under this Article 2.  \\n(3) If termination is as described in b. (4) above, the maximum amount will be the lesser \\nof: \\n \\n- $10,000; or  \\n- the Dependent Life Insurance benefit in force for the Dependent on the date of'),\n",
              " Document(metadata={'source': '/content/drive/MyDrive/Colab_Notebooks/Semantic_Spotter_Project/Principal-Sample-Life-Insurance-Policy.pdf', 'page': 44}, page_content='- $10,000; or  \\n- the Dependent Life Insurance benefit in force for the Dependent on the date of \\ntermination, less the amount for which the Dependent becomes eligible under any group policy within 31 days.'),\n",
              " Document(metadata={'source': '/content/drive/MyDrive/Colab_Notebooks/Semantic_Spotter_Project/Principal-Sample-Life-Insurance-Policy.pdf', 'page': 45}, page_content='This policy has been updated effective  January 1, 2014  \\n \\n \\nPART IV - BENEFITS  \\nGC 6013  Section A - Member Life Insurance, Page 1  \\n PART IV -  BENEFITS  \\n \\n \\nSection A -  Member Life Insurance \\n  Article 1 - Schedule of Insurance  \\n \\nSubject to the Effective Date provisions of PART III, Section B, and the qualifying provisions of \\nthis Section A, the Scheduled Benefit for an insured Member will be based on his or her class:  \\n \\nClass  *Scheduled Benefit  \\n  \\nALL MEMBERS  $10,000  \\n \\n However, if a Memb er has received any payments under the Accelerated Benefits provision as \\ndescribed in Section A, Article 7, the Scheduled Benefit will be reduced by the amount of such \\npayment.'),\n",
              " Document(metadata={'source': '/content/drive/MyDrive/Colab_Notebooks/Semantic_Spotter_Project/Principal-Sample-Life-Insurance-Policy.pdf', 'page': 45}, page_content=\"payment. \\n *The Scheduled Benefit is subject to the Proof of Good Health requirements as shown in PART III, Section B, Article 1.  Because of the Proof of Good Health requirements, the amount of insurance approved by The Principal may be different than the Scheduled Benefit.  If the approved amount of insurance is different than the Scheduled Benefit, the approved amount will apply.  \\n \\nFor the age(s) shown below, the amount of a Member's insurance will be the percentage of the \\nScheduled Benefit (or approved amount, if applicable) as shown below.  \\n \\n \\n Age % of Scheduled Benefit (or approved  \\namount,  whichever applies)  \\n Age 70 but less than age 75  65% \\n Age 75 and over  45% \\n   \\nArticle 2 - Death Benefits Payable  \\n \\nIf a Member dies while insured for Member Life Insurance under this Group Policy, The \\nPrincipal will pay his or her beneficiary the Scheduled Benefit (or approved amount, if\"),\n",
              " Document(metadata={'source': '/content/drive/MyDrive/Colab_Notebooks/Semantic_Spotter_Project/Principal-Sample-Life-Insurance-Policy.pdf', 'page': 45}, page_content='Principal will pay his or her beneficiary the Scheduled Benefit (or approved amount, if \\napplicable) in force on the date of death, less any Accelerated Benefit payment as described in PART IV, Section A, Article 7.  However, if a beneficiary is suspected or charged with the'),\n",
              " Document(metadata={'source': '/content/drive/MyDrive/Colab_Notebooks/Semantic_Spotter_Project/Principal-Sample-Life-Insurance-Policy.pdf', 'page': 46}, page_content=\"This policy has been updated effective  January 1, 2014  \\n \\n \\nPART IV - BENEFITS  \\nGC 6013  Section A - Member Life Insurance, Page 2  \\n Member's death, the Death B enefits Payable may be withheld until additional information has \\nbeen received or the trial has been held.  \\n \\nIf a Member who was insured dies within the 31- day individual purchase period described in \\nPART III, Section F, The Principal will pay his or her be neficiary the individual policy amount, \\nif any, the Member had the right to purchase.  \\n No payment will be made before The Principal receives Written proof of the Member's death.  \\n  \\nArticle 3 - Beneficiary  \\n \\nA beneficiary should be named at the time a Member applies or enrolls under this Group Policy.\"),\n",
              " Document(metadata={'source': '/content/drive/MyDrive/Colab_Notebooks/Semantic_Spotter_Project/Principal-Sample-Life-Insurance-Policy.pdf', 'page': 46}, page_content=\"A beneficiary should be named at the time a Member applies or enrolls under this Group Policy.  \\nA Member may name or later change a named beneficiary by sending a Written request to The Principal.  A change will not be effective until recorded by The Principal.  Once recorded, the change will apply as of t he date the request was Signed.  If The Principal properly pays any \\nbenefit before a change request is received, that payment may not be contested.  Further:  \\n a. The naming of a new beneficiary in an application for individual purchase under PART III, Section F, Article 1, will be treated as a beneficiary change request under this Group \\nPolicy.  \\n b. If a Member's terminated insurance is reinstated, his or her beneficiary will be as recorded on the date of termination. \\n \\nIf a Member is insured under this Group Policy on its Date of Issue and this insurance replaces\"),\n",
              " Document(metadata={'source': '/content/drive/MyDrive/Colab_Notebooks/Semantic_Spotter_Project/Principal-Sample-Life-Insurance-Policy.pdf', 'page': 46}, page_content=\"If a Member is insured under this Group Policy on its Date of Issue and this insurance replaces \\ninsurance in force on the day immediately before the Date of Issue, the beneficiary named in such replaced insurance and recorded by the Policyholder or The Principal will be the beneficiary under this Group Policy until a new beneficiary is named.  \\n  \\nArticle 4 - Facility of Payment  \\n \\nIf any of the below occur, benefits will be paid as stated.  All such payments will discharge The \\nPrincipal to the full extent of those payments.  \\n a. If a beneficiary is found guilty of the Member's death, such beneficiary may be disqualified from receiving any benefit due.  Payment may then be made to any contingent beneficiary or to the executor or administrator of the Member's estate.  \\n b. Any benefit due a beneficiary w ho dies before the Member's death will be paid in equal \\nshares to the Member's surviving beneficiaries.\"),\n",
              " Document(metadata={'source': '/content/drive/MyDrive/Colab_Notebooks/Semantic_Spotter_Project/Principal-Sample-Life-Insurance-Policy.pdf', 'page': 47}, page_content=\"This policy has been updated effective  January 1, 2014  \\n \\n \\nPART IV - BENEFITS  \\nGC 6013  Section A - Member Life Insurance, Page 3  \\n c. If a beneficiary dies at the same time or within 15 days after the Member dies, but before \\nThe Principal receives Written proof of the Member's deat h, payment will be made as if the \\nMember survived the beneficiary.  \\n d. If no beneficiary survives the Member or if the Member has not named a beneficiary, payment will be made in the following order of precedence as numbered:  \\n \\n(1) to the Member's spouse;  \\n(2) to the Member's children born to or legally adopted by the Member;  \\n(3) to the Member's parents;  \\n(4) to the Member's brothers and sisters; or  \\n(5) if none of the above, to the executor or administrator of the Member's estate. \\n e. If The Principal believes  a person is not legally able to give a valid receipt, as determined\"),\n",
              " Document(metadata={'source': '/content/drive/MyDrive/Colab_Notebooks/Semantic_Spotter_Project/Principal-Sample-Life-Insurance-Policy.pdf', 'page': 47}, page_content=\"e. If The Principal believes  a person is not legally able to give a valid receipt, as determined \\nby The Principal, for a payment, and no guardian has been appointed, The Principal may pay whoever has assumed the care and support of the person.  \\n \\n \\nArticle 5 - Settlement of Proceeds  \\n \\nWhen The Principal receives Written proof of the Member's death, the Scheduled Benefit (or \\napproved amount, if applicable) in force for the Member, less any Accelerated Benefit payment as described in PART IV, Section A, Article 7 will be placed in an inte rest-bearing draft account \\nat an interest rate determined by The Principal, unless a lump sum or other settlement option has been elected.  With the interest -bearing draft account, the balance will be available to the \\nbeneficiary at any time, in total or in part, subject to the following terms:  \\n a. withdrawals must be made by draft furnished by The Principal; and\"),\n",
              " Document(metadata={'source': '/content/drive/MyDrive/Colab_Notebooks/Semantic_Spotter_Project/Principal-Sample-Life-Insurance-Policy.pdf', 'page': 47}, page_content='a. withdrawals must be made by draft furnished by The Principal; and  \\n b. the draft amount must be at least $500 or more and may not exceed the account balance; and \\n c. if the account balance falls below $500, the ba lance will be paid to the beneficiary in a \\nlump sum and the account closed; and \\n d. the account cannot be assigned or used as collateral.  \\n The Interest Draft Account will not be available if the Scheduled Benefit amount payable is $5,000 or less; or if the  beneficiary is anything other than a natural person.  In these instances, a \\nlump sum payment will be made.  \\n In the event the Interest Draft Account is not available or otherwise does not apply, The Principal reserves the right to make payment of proceeds according to other settlement options if agreed \\nto, in Writing, by The Principal.'),\n",
              " Document(metadata={'source': '/content/drive/MyDrive/Colab_Notebooks/Semantic_Spotter_Project/Principal-Sample-Life-Insurance-Policy.pdf', 'page': 48}, page_content=\"This policy has been updated effective  January 1, 2014  \\n \\n \\nPART IV - BENEFITS  \\nGC 6013  Section A - Member Life Insurance, Page 4  \\n  \\nPayment of benefits will be subject to the Beneficiary and Facility of Payment provisions of this PART IV, Section A.  \\n  \\nArticle 6 - Member Life Insurance -  Coverage During Disability  \\n \\nA Member may be eligible to continue his or her Member Life and Member Accidental Death \\nand Dismemberment Insurance and Dependent Life Insurance coverage during the Member's ADL Disability or  Total Disability.  \\n \\na. Coverage Qualification  \\n \\nTo be qualified for Coverage During Disability, a Member must:  \\n \\n(1) become ADL Disabled or Totally Disabled while insured for Member Life Insurance; \\nand \\n(2) become ADL Disabled or Totally Disabled prior to the  attainment of age 60; and  \\n(3) remain ADL Disabled or Totally Disabled continuously; and  \\n(4) be under the regular care and attendance of a Physician; and\"),\n",
              " Document(metadata={'source': '/content/drive/MyDrive/Colab_Notebooks/Semantic_Spotter_Project/Principal-Sample-Life-Insurance-Policy.pdf', 'page': 48}, page_content='(4) be under the regular care and attendance of a Physician; and  \\n(5) send proof of ADL Disability or Total Disability to The Principal when required; and  \\n(6) submit to  Medical Examinations or Evaluations when required; and  \\n(7) return to The Principal, without claim, any individual policy issued under his or her \\nIndividual Purchase Rights as described in PART III, Section F, Article 1.  Upon \\nreturn of such policy, The Pr incipal will refund premiums paid, less dividends and \\nless any outstanding policy loan balance.  \\n \\nb. Proof of ADL Disability or Total Disability  \\n \\nWritten proof of ADL Disability or Total Disability must be sent to The Principal within \\none year of the date ADL Disability or Total Disability begins.  Further proof that ADL'),\n",
              " Document(metadata={'source': '/content/drive/MyDrive/Colab_Notebooks/Semantic_Spotter_Project/Principal-Sample-Life-Insurance-Policy.pdf', 'page': 48}, page_content='one year of the date ADL Disability or Total Disability begins.  Further proof that ADL \\nDisability or Total Disability  has not ended must be sent when The Principal requires.  After ADL Disability or Total Disability  has continued for two years from the date the first proof is received, The Principal may not ask for further proof more than once each year.  \\n \\nIf the Member dies while ADL Disabled or Totally Disabled, final proof that ADL Disability or Total Disability continued to the date of death must be sent to The Principal.   \\nIf death occurs within one year of the start of ADL Disability or Total Disability, but before The Principal has received first proof, then final proof must be sent within one year of the date ADL Disability or Total Disability began.  \\n \\nc. Medical Examina tions and Evaluations'),\n",
              " Document(metadata={'source': '/content/drive/MyDrive/Colab_Notebooks/Semantic_Spotter_Project/Principal-Sample-Life-Insurance-Policy.pdf', 'page': 49}, page_content=\"This policy has been updated effective  January 1, 2014  \\n \\n \\nPART IV - BENEFITS  \\nGC 6013  Section A - Member Life Insurance, Page 5  \\n The Principal may require that a ADL Disabled or Totally Disabled Member be examined \\nby a Physician or undergo an evaluation, at reasonable intervals, during the course of a claim.  After ADL Disability or Total Disability has continued two years from the date first proof of ADL Disability or Total Disability is received, examinations or evaluations may not be required more than once each year.  \\n \\nThe Principal will pay for these examinations and evaluations and will choose the Physician or evaluator to perform them.  Failure to attend a medical examination or \\ncooperate with the Physician may be cause for denial of the Member's benefits.  Failure to attend an evaluation or to cooperate with the evaluator may also be cause for denia l of the\"),\n",
              " Document(metadata={'source': '/content/drive/MyDrive/Colab_Notebooks/Semantic_Spotter_Project/Principal-Sample-Life-Insurance-Policy.pdf', 'page': 49}, page_content=\"Member's benefits.  If the Member fails to attend an examination or an evaluation, any charges incurred for not attending an appointment as scheduled may be his or her responsibility.  \\n \\nd. Effective Dates and Premium Waiver  \\n \\nCoverage During Disabil ity will be effective for a qualified Member on the earliest of:  \\n \\n(1) the date nine months after the date the Member becomes Totally Disabled; or  \\n(2) the date one month after the date the Member becomes ADL Disabled; or  \\n(3) the date the Member dies.  \\n \\nPremium will not be charged for Member Life and Member Accidental Death and \\nDismemberment Insurance and Dependent Life Insurance while the Member's Coverage During Disability is in force.  \\n \\ne. Benefits Payable  \\n \\nIf death occurs while Coverage During Disabili ty is in force, The Principal will pay the\"),\n",
              " Document(metadata={'source': '/content/drive/MyDrive/Colab_Notebooks/Semantic_Spotter_Project/Principal-Sample-Life-Insurance-Policy.pdf', 'page': 49}, page_content=\"If death occurs while Coverage During Disabili ty is in force, The Principal will pay the \\nMember's beneficiary the Member Life Insurance benefit amount that would have been paid had the Member remained insured under the Schedule of Insurance in force on the date Total Disability began.  \\n \\nSuch benefit shall be subject to any reduction provided under the Schedule of Insurance.  \\n \\nHowever, NO BENEFIT WILL BE PAID if Written proof of ADL Disability or Total Disability is not sent to The Principal within one year of the date ADL Disability or Total Disability b egan. Failure to give Written proof within the time specified will not invalidate \\nor reduce any claim if Written proof is given as soon as reasonably possible. Further, if a death benefit is paid under this section of the Group Policy, it will be in place of all other Member Life Insurance benefits provided under this Group Policy.  \\n \\nf. Termination (Premium Waiver)\"),\n",
              " Document(metadata={'source': '/content/drive/MyDrive/Colab_Notebooks/Semantic_Spotter_Project/Principal-Sample-Life-Insurance-Policy.pdf', 'page': 50}, page_content=\"This policy has been updated effective  January 1, 2014  \\n \\n \\nPART IV - BENEFITS  \\nGC 6013  Section A - Member Life Insurance, Page 6  \\n Coverage During Disability will cease on the earliest of: \\n \\n(1) the date the Member's Total Disability ends; or  \\n(2) the date the Member fails to  send The Principal any required proof of ADL Disability \\nor Total Disability; or  \\n(3) the date the Member ceases to be under the regular care and attendance of a \\nPhysician; or  \\n(4) the date the Member fails to submit to a required Medical Examination or Eval uation; \\nor \\n(5) the date the Member attains age 70.  \\n \\ng. Limitations  \\n \\nNo benefits will be paid for any disability that:  \\n \\n(1) results from willful self -injury or self -destruction, while sane or insane; or  \\n(2) results from war or act of war; or  \\n(3) results fro m voluntary participation in an assault, felony, criminal activity, \\ninsurrection, or riot.  \\n \\n \\nArticle 7 - Accelerated Benefits\"),\n",
              " Document(metadata={'source': '/content/drive/MyDrive/Colab_Notebooks/Semantic_Spotter_Project/Principal-Sample-Life-Insurance-Policy.pdf', 'page': 50}, page_content=\"insurrection, or riot.  \\n \\n \\nArticle 7 - Accelerated Benefits  \\n \\na. Accelerated Benefits Qualification  \\n \\nTo be qualified for an Accelerated Benefit payment, a Member must:  \\n \\n(1) be Terminally Ill and insured for a Member Life Insurance benefit of at least $10,000; \\nand \\n(2) send a request for Accelerated Benefit payment to The Principal; and  \\n(3) provide proof satisfactory to The Principal that he or she is Terminally Ill.  \\n \\nb. Proof of Terminal Illn ess  \\n \\nProof that a Member is Terminally Ill will consist of: \\n \\n(1) a statement from the Member's Physician; and  \\n(2) any other medical information that The Principal believes necessary to confirm the \\nMember's status.  \\n c. Benefit Payable  \\n \\nThe Principal will pay a Member who is qualified for Accelerated Benefits whatever \\namount he or she requests; except that:\"),\n",
              " Document(metadata={'source': '/content/drive/MyDrive/Colab_Notebooks/Semantic_Spotter_Project/Principal-Sample-Life-Insurance-Policy.pdf', 'page': 51}, page_content=\"This policy has been updated effective  January 1, 2014  \\n \\n \\nPART IV - BENEFITS  \\nGC 6013  Section A - Member Life Insurance, Page 7  \\n  \\n(1) only one Accelerated Benefit payment will be made during the Member's lifetime; \\nand \\n(2) the amount requested must be at least $5,000; and  \\n(3) in no event will payment exceed the lesser of:  \\n \\n- 75% of the Member Life Insurance benefit in force on the date of the request; or  \\n- $250,000. \\n \\nThe Accelerated Benefit payment will be made in a lump sum.  \\n \\nd. Effect on Member Life Insurance Benefits  \\n \\nIf an Accelerated Benefit is paid, the Member Life Insurance Benefit otherwise payable \\nupon the Member's death will be reduced by any Accelerated Benefit payment.  \\n e. Premium Waiver Period  \\n \\nA premium waiver period will be established on the date The Principal p ays an Accelerated \\nBenefit to a Member.  This period will end on the earlier of the Member's death or the date\"),\n",
              " Document(metadata={'source': '/content/drive/MyDrive/Colab_Notebooks/Semantic_Spotter_Project/Principal-Sample-Life-Insurance-Policy.pdf', 'page': 51}, page_content=\"Benefit to a Member.  This period will end on the earlier of the Member's death or the date \\ntwo years after the date of the Accelerated Benefit.  \\n \\nDuring a premium waiver period:  \\n \\n(1) there will be no Member Life and Member Accidental Death and Dismemberment \\nInsurance and Dependent Life Insurance premium charge for the Member; and  \\n(2) Member Life Insurance will not be terminated if the Member ceases Active Work \\nbecause of his or her Terminal Illness.\"),\n",
              " Document(metadata={'source': '/content/drive/MyDrive/Colab_Notebooks/Semantic_Spotter_Project/Principal-Sample-Life-Insurance-Policy.pdf', 'page': 52}, page_content='This policy has been updated effective  January 1, 2014  \\n \\n      PART IV - BENEFITS  \\nGC 6015  Section B - Member Accidental Death and \\nDismemberment Insurance, Page 1  \\n Section B -  Member Accidental Death and Dismemberment Insurance  \\n \\n Article 1 - Schedule of Insurance  \\n \\nSubject to the Effective Date provisions of PART III, Section B, and the qualifying provisions of \\nthis Section B, the Scheduled Benefit for an insured Member will be based on his or her class:  \\n \\nClass  *Scheduled Benefit  \\n  \\nALL MEMBERS  $10,000  \\n  *The Scheduled Benefit is subject to the Proof of Good Health requirements as shown in PART III, Section B, Article 1.  Because of the Proof of Good Health requirements, the amount of insurance approved by The Principal may be different than the Scheduled Benefit.  If the approved amount of insurance is different than the Scheduled Benefit, the approved amount will \\napply.'),\n",
              " Document(metadata={'source': '/content/drive/MyDrive/Colab_Notebooks/Semantic_Spotter_Project/Principal-Sample-Life-Insurance-Policy.pdf', 'page': 52}, page_content=\"apply.  \\n \\nFor the age(s) shown below, the amount of a Member's insurance will be the percentage of the Scheduled Benefit (or approved amount, if a pplicable) as shown below.  \\n \\n \\n Age % of Scheduled Benefit (or approved  \\namount, whichever applies)  \\n Age 70 but less than age 75  65% \\n Age 75 and over  45% \\n   \\nArticle 2 - Benefit Qualification  \\n \\nTo qualify for benefit payment, all of the following must occur:  \\n \\na. the Member must be injured while insured for Member Accidental Death and Dismemberment Insurance under this Group Policy; and  \\n b. the injury must be through external, violent, and accidental means; and  \\n c. the injury must be the direct and sole cause of a loss listed in this Section B, Article 3; and  \\n d. the loss must occur within 365 days of the injury; and \\n e. the limitations listed in this Section B, Article 9, must not apply; and\"),\n",
              " Document(metadata={'source': '/content/drive/MyDrive/Colab_Notebooks/Semantic_Spotter_Project/Principal-Sample-Life-Insurance-Policy.pdf', 'page': 53}, page_content='This policy has been updated effective  January 1, 2014  \\n \\n      PART IV - BENEFITS  \\nGC 6015  Section B - Member Accidental Death and \\nDismemberment Insurance, Page 2  \\n f. claim requirements listed in PART IV, Section D, must be sa tisfied; and  \\n \\ng. all medical evidence must be satisfactory to The Principal.  \\n  \\nArticle 3 - Benefits Payable \\n \\nIf all of the benefit qualifications are met, The Principal will pay:  \\n \\na. 100% of the Scheduled Benefit (or approved amount, if applicable) in forc e for loss of life; \\nor \\n b. 50% of the Scheduled Benefit (or approved amount, if applicable) in force if one hand is severed at or above the wrist; or  \\n c. 25% of the Scheduled Benefit (or approved amount, if applicable) in force for loss of thumb and index finger on the same hand; or  \\n d. 50% of the Scheduled Benefit (or approved amount, if applicable) in force if one foot is severed at or above the ankle; or'),\n",
              " Document(metadata={'source': '/content/drive/MyDrive/Colab_Notebooks/Semantic_Spotter_Project/Principal-Sample-Life-Insurance-Policy.pdf', 'page': 53}, page_content='e. 50% of the Scheduled Benefit (or approved amount, if applicable) in force if the sight of one eye  is permanently lost (For this purpose, vision not correctable to better than 20/200 \\nwill be considered loss of sight.); or  \\n \\nf. 100% of the Scheduled Benefit (or approved amount, if applicable) in force for more than one of the losses listed in b., d., or e. above.  \\n Total payment for all losses under this Article 3 that result from the same accident will not exceed the Scheduled Benefit (or approved amount, if applicable).  Payment for loss of life will be to the beneficiary named for Member Life Insurance.   Payment will be subject to the \\nBeneficiary, Facility of Payment and Settlement of Proceeds provisions of PART IV, Section A.  Payment for all other losses will be to the Member.  \\n \\nDisappearance \\n \\nIt will be presumed that a Member has lost his or her life if:'),\n",
              " Document(metadata={'source': '/content/drive/MyDrive/Colab_Notebooks/Semantic_Spotter_Project/Principal-Sample-Life-Insurance-Policy.pdf', 'page': 53}, page_content=\"Disappearance \\n \\nIt will be presumed that a Member has lost his or her life if:  \\n \\na. the Member's body has not been found within 365 days after the disappearance of a conveyance in which the Member was an occupant at the time of disappearance; and  \\n b. the disappearance of the conveyance was due to its accidental wrecking or sinking;  and \\n c. this Group Policy would have covered the injury resulting from the accident.\"),\n",
              " Document(metadata={'source': '/content/drive/MyDrive/Colab_Notebooks/Semantic_Spotter_Project/Principal-Sample-Life-Insurance-Policy.pdf', 'page': 54}, page_content='This policy has been updated effective  January 1, 2014  \\n \\n      PART IV - BENEFITS  \\nGC 6015  Section B - Member Accidental Death and \\nDismemberment Insurance, Page 3  \\n  \\nExposure  \\n \\nExposure to the elements will be presumed to be an injury if:  \\n \\na. such exposure is due to an accidental bodily injury; and  \\n b. within 365 days after the injury, the Member incurs a loss that is the result of the exposure; and \\n c. this Group Policy would have covered the injury resulting from the accident. \\n  \\nArticle 4 - Seat Belt/Airbag Benefit   \\n \\nIf the Member loses his or her life as a result of an acciden tal injury sustained while driving or \\nriding in an Automobile, an additional benefit of $10,000 will be paid to the beneficiary named \\nfor Member Life Insurance, provided all Benefit Qualifications as described in Article 2 are met \\nand: \\n a. the Automobile i s equipped with factory -installed Seat Belts; and'),\n",
              " Document(metadata={'source': '/content/drive/MyDrive/Colab_Notebooks/Semantic_Spotter_Project/Principal-Sample-Life-Insurance-Policy.pdf', 'page': 54}, page_content='and: \\n a. the Automobile i s equipped with factory -installed Seat Belts; and  \\n b. the Seat Belt was in actual use by the Member and properly fastened at the time of the accident; and  \\n \\nc. the position of the Seat Belt is certified in the official report of the accident or by the inves tigating officer.  \\n This additional benefit payment will also apply if the Member was driving an Automobile equipped with a properly functioning driver -side air bag or riding as a passenger in an \\nAutomobile equipped with a properly functioning passenger -side air bag, although the Member\\'s \\nSeat Belt may not have been fastened at the time of the accident.  The properly functioning and/or deployment of the air bag must be certified in the official report of the accident or by the investigating officer.  \\n For the purpose of this benefit, \"Automobile\" means a four -wheel passenger vehicle, station \\nwagon, pick- up truck, or van- type vehicle, but excludes recreational -type vehicles such as a'),\n",
              " Document(metadata={'source': '/content/drive/MyDrive/Colab_Notebooks/Semantic_Spotter_Project/Principal-Sample-Life-Insurance-Policy.pdf', 'page': 54}, page_content='wagon, pick- up truck, or van- type vehicle, but excludes recreational -type vehicles such as a \\n\"dune -buggy\" or an \"all -terrain\" vehicle.  \\n The term \"Seat Belt\" m eans a factory -installed device that forms an occupant restraint and injury \\navoidance system.  \\n  \\nArticle 5 - Loss of Use or Paralysis Benefit'),\n",
              " Document(metadata={'source': '/content/drive/MyDrive/Colab_Notebooks/Semantic_Spotter_Project/Principal-Sample-Life-Insurance-Policy.pdf', 'page': 55}, page_content=\"This policy has been updated effective  January 1, 2014  \\n \\n      PART IV - BENEFITS  \\nGC 6015  Section B - Member Accidental Death and \\nDismemberment Insurance, Page 4  \\n  \\nIf a Member sustains an injury, and as a result of such injury, one or more of the covered losses \\nlisted below are  incurred, The Principal will pay the following percentages of the Member's \\nScheduled Benefit (or approved amount, if applicable) in force, provided all Benefit Qualifications as described in Article 2 are met.  \\n \\n \\n  % of Scheduled  \\n Covered Loss  Benefit  \\n   \\nLoss of Use or Paralysis    \\n Quadriplegia  100%  \\n   \\n Paraplegia  50% \\n   \\n Hemiplegia  50% \\n   \\n Both Hands or Both Feet  50% \\n   \\n One Hand and One Foot  50% \\n   \\n One Arm or One Leg  25% \\n   \\n One Hand or One Foot  25% \\n The Principal does not pay an Accidental Death and Dismemberment benefit for any paralysis caused by a stroke.\"),\n",
              " Document(metadata={'source': '/content/drive/MyDrive/Colab_Notebooks/Semantic_Spotter_Project/Principal-Sample-Life-Insurance-Policy.pdf', 'page': 55}, page_content='Paralysis must be determined by a Physician to be permanent, complete, and irreversible.   \\n Total payment for all losses that result from the same accident will not exceed th e Scheduled \\nBenefit (or approved amount, if applicable).  Payment for Loss will be to the Member.  \\n For this benefit, the term \"Loss of Use\" means a total and irrevocable loss of voluntary movement, which has continued for 12 consecutive months.  The term \" Quadriplegia\" means \\ntotal paralysis of all four limbs.  The term \"Paraplegia\" means total paralysis of both lower limbs.  The term \"Hemiplegia\" means paralysis of one arm and one leg on the same side of the body.  \\n  \\nArticle 6 - Loss of Speech and/or Hearing  Benefit  \\n \\nIf a Member sustains an injury, and as a result of such injury, one or more of the covered losses \\nlisted below are incurred, The Principal will pay the following percentages of the Member\\'s Scheduled Benefit (or approved amount, if applicable) in force, provided all Benefit'),\n",
              " Document(metadata={'source': '/content/drive/MyDrive/Colab_Notebooks/Semantic_Spotter_Project/Principal-Sample-Life-Insurance-Policy.pdf', 'page': 55}, page_content='Qualifications as described in Article 2 are met.'),\n",
              " Document(metadata={'source': '/content/drive/MyDrive/Colab_Notebooks/Semantic_Spotter_Project/Principal-Sample-Life-Insurance-Policy.pdf', 'page': 56}, page_content='This policy has been updated effective  January 1, 2014  \\n \\n      PART IV - BENEFITS  \\nGC 6015  Section B - Member Accidental Death and \\nDismemberment Insurance, Page 5  \\n  \\n \\n  % of Scheduled  \\n Covered Loss  Benefit  \\n   \\nLoss of Speech and/or Hearing    \\n Speech and Hearing  100%  \\n   \\n Speech or Hearing  50% \\n   \\n Hearing in One Ear  25% \\n \\nLoss must be determined by a Physician to be permanent, complete, and irreversible.   \\n Total payment for all losses that result from the same accident will not exceed the Scheduled Benefit (or approved amount, if applicable).  Payment for Loss will be to t he Member.  \\n For this benefit, the term \"Loss\" means a total and irrevocable Loss of speech or hearing, which has continued for 12 consecutive months. \\n \\n \\nArticle 7 - Repatriation Benefit  \\n \\nIf a benefit is paid under this Section B for loss of the Member\\'s lif e and death occurred at least'),\n",
              " Document(metadata={'source': '/content/drive/MyDrive/Colab_Notebooks/Semantic_Spotter_Project/Principal-Sample-Life-Insurance-Policy.pdf', 'page': 56}, page_content='100 miles away from the Member\\'s permanent place of residence, all customary and reasonable \\nexpenses incurred for preparation of the body and its transportation to the place of burial or \\ncremation will be paid up to a maximum benefit payment of $2,000.  \\n \\n \\nArticle 8 - Educational Benefit  \\n \\nIf a benefit is paid under this Section B for loss of the Member\\'s life, an extra benefit of $3,000 \\nwill be paid annually for a maximum of four years to each Qualified Student.  This annual \\nbenefit will be paid consecutively, while the Qualified Student continues his or her education as \\na Full -Time Student at an accredited post -secondary school.  \\n \\nFor the purpose of this benefit, \"Qualified Student\" means a Dependent Child who is, at the time \\nof the Member\\'s death, a Full -Time Student at an accredited post -secondary school.  A 12th \\ngrade student will become a Qualified Student if he or she enrolls in an accredited post -\\nsecondary school within 12 months of the Member\\'s death.'),\n",
              " Document(metadata={'source': '/content/drive/MyDrive/Colab_Notebooks/Semantic_Spotter_Project/Principal-Sample-Life-Insurance-Policy.pdf', 'page': 56}, page_content=\"secondary school within 12 months of the Member's death.  \\n  \\nArticle 9 - Limit ations  \\n \\nPayment will not be made for any loss to which a contributing cause is:\"),\n",
              " Document(metadata={'source': '/content/drive/MyDrive/Colab_Notebooks/Semantic_Spotter_Project/Principal-Sample-Life-Insurance-Policy.pdf', 'page': 57}, page_content=\"This policy has been updated effective  January 1, 2014  \\n \\n      PART IV - BENEFITS  \\nGC 6015  Section B - Member Accidental Death and \\nDismemberment Insurance, Page 6  \\n  \\na. willful self -injury or self -destruction, while sane or insane; or  \\n b. disease, medical or surgical treatment of disease, or complications following the surgical treatment o f disease; or  \\n c. voluntary participation in an assault, felony, criminal activity, insurrection, or riot; or  \\n d. participation in flying, ballooning, parachuting, parasailing, bungee jumping or other aeronautic activities, except as a passenger on a commercial aircraft or as a passenger in a Policyholder -owned or leased aircraft on company business; or  \\n e. duty as a member of a military organization; or  \\n f. war or act of war; or  \\n g. the use of alcohol if, at the time of the injury, the Member's alcohol concentration exceeds \\nthe legal limit allowed by the jurisdiction where the injury occurs; or\"),\n",
              " Document(metadata={'source': '/content/drive/MyDrive/Colab_Notebooks/Semantic_Spotter_Project/Principal-Sample-Life-Insurance-Policy.pdf', 'page': 57}, page_content=\"the legal limit allowed by the jurisdiction where the injury occurs; or  \\n \\nh. the operation by the Member of a motor vehicle or motor boat if, at the time of the injury, the Member's alcohol concentration exceeds the legal limit allowed  by the jurisdiction \\nwhere the injury occurs; or  \\n i. the use of any drug, narcotic, or hallucinogen not prescribed for the Member by a licensed Physician; or  \\n j. injury arising from or during employment for wage or profit.\"),\n",
              " Document(metadata={'source': '/content/drive/MyDrive/Colab_Notebooks/Semantic_Spotter_Project/Principal-Sample-Life-Insurance-Policy.pdf', 'page': 58}, page_content='This policy has been updated effective  January 1, 2014  \\n \\n \\nPART IV - BENEFITS  \\nGC 6016       Section C - Dependent Life Insurance, Page 1  \\n Section C -  Dependent Life Insurance  \\n \\n Article 1 - Schedule of  Insurance  \\n \\nSubject to the Effective Date provisions of PART III, Section B, the Scheduled Benefit for an \\ninsured Dependent will be based on the status of the Dependent:  \\n \\nClass  \\n \\nALL MEMBERS  \\n \\n Dependent  \\n *Scheduled Benefit  \\n Spouse  $5,000  \\n   \\n   \\n Children  (age at death)   \\n 0 days old but less than 6 months  $1,000  \\n 6 months and older  $2,000  \\n  *The Scheduled Benefit is subject to the Proof of Good Health requirements as shown in PART III, Section B, Article 1.  Because of the Proof of Good Health requirements, the amount of insurance approved by The Principal may be different than the Scheduled Benefit.  If the approved amount of insurance is different than the Scheduled Benefit, the approved amount will apply.'),\n",
              " Document(metadata={'source': '/content/drive/MyDrive/Colab_Notebooks/Semantic_Spotter_Project/Principal-Sample-Life-Insurance-Policy.pdf', 'page': 58}, page_content=\"In no event will a Dependent's Scheduled Benefit be more than 50% of the Member's Scheduled Benefit amount.  If a Member elects a Depend ent Life benefit in excess of 50% of the Member's \\nScheduled Benefit amount, the Dependent will be given the highest amount available, not to exceed 50%.  \\n  \\nArticle 2 - Death Benefits Payable  \\n \\nIf a Dependent dies while insured for Dependent Life Insurance under this Group Policy, The \\nPrincipal will pay the Scheduled Benefit (or approved amount, if applicable) in force for that Dependent on the date of death.\"),\n",
              " Document(metadata={'source': '/content/drive/MyDrive/Colab_Notebooks/Semantic_Spotter_Project/Principal-Sample-Life-Insurance-Policy.pdf', 'page': 59}, page_content=\"This policy has been updated effective  January 1, 2014  \\n \\n \\nPART IV - BENEFITS  \\nGC 6016       Section C - Dependent Life Insurance, Page 2  \\n If a Dependent who was insured dies during the 31- day individual purchase period described in \\nPART II I, Section F, Article 2, The Principal will pay the individual policy amount, if any, the \\nDependent had the right to purchase.  \\n \\nUnless a Beneficiary has been designated, payment will be to the Member if he or she survives the Dependent.  If the Member does  not survive the Dependent and a beneficiary for Dependent \\nLife has not been named, payment will be to the person named as beneficiary for Member Life Insurance.  However, if the Member is suspected or charged with the Dependent's death, the Death Benefits  Payable may be withheld until additional information has been received or the\"),\n",
              " Document(metadata={'source': '/content/drive/MyDrive/Colab_Notebooks/Semantic_Spotter_Project/Principal-Sample-Life-Insurance-Policy.pdf', 'page': 59}, page_content=\"trial has been held.  If the Member is found guilty of the Dependent's death, he or she may be disqualified from receiving any benefit due.  Payment may then be made to the executor or administrator of the Dependent's estate.  Payment will be subject to the Beneficiary provisions in Article 3 and the Facility of Payment and Settlement of Proceeds provisions of PART IV, Section A.  \\n No payment will be made before The Principal receives Written proof of the Dependent's death.  \\n \\n \\nArticle 3 - Beneficiary  \\n \\nA Member may name or later change a named beneficiary by sending a Written request to The \\nPrincipal.  A change will not be effective until recorded by The Principal.  Once recorded, the change will apply as of the date the request was Signed.  If The Principal properly pays any benefit before a change request is received, that payment may not be contested.\"),\n",
              " Document(metadata={'source': '/content/drive/MyDrive/Colab_Notebooks/Semantic_Spotter_Project/Principal-Sample-Life-Insurance-Policy.pdf', 'page': 60}, page_content='This policy has been updated effective  January 1, 2014  \\n \\n \\nPART IV - BENEFITS  \\nGC 6018  Section D - Claim Procedures, Page 1  \\n Section D -  Claim Procedures  \\n \\n Article 1 - Notice of Claim  \\n \\nWritten notice must be sent to The Principal by or for a Member or Dependent who wishes to file \\nclaim for benefits under this Group Policy.  This notice must be sent within 20 days after the date of the loss for which claim is being made.  Failure to give notice within the time specified will not invalidate or reduce any claim if notice is given as soon as reasonably possible.   \\nArticle 2 - Claim Forms  \\n \\nThe Principal, when it receives notice of claim, will provide appropriate claim forms for filing \\nproof of  loss.  If the forms are not provided within 15 days after The Principal receives notice,'),\n",
              " Document(metadata={'source': '/content/drive/MyDrive/Colab_Notebooks/Semantic_Spotter_Project/Principal-Sample-Life-Insurance-Policy.pdf', 'page': 60}, page_content='proof of  loss.  If the forms are not provided within 15 days after The Principal receives notice, \\nthe person will be considered to have complied with the requirements of this Group Policy upon submitting, within the time specified below for filing proof of loss, W ritten proof covering the \\noccurrence, character, and extent of the loss.  \\n  \\nArticle 3 - Proof of Loss  \\n \\nWritten proof of loss must be sent to The Principal within 90 days after the date of the loss.  \\nProof required includes the date, nature, and extent of the loss.  The Principal may request additional information to substantiate loss or require a Signed unaltered authorization to obtain that information from the provider.  Failure to comply with the request of The Principal could \\nresult in declination of t he claim.  For purposes of satisfying the claims processing timing'),\n",
              " Document(metadata={'source': '/content/drive/MyDrive/Colab_Notebooks/Semantic_Spotter_Project/Principal-Sample-Life-Insurance-Policy.pdf', 'page': 60}, page_content='result in declination of t he claim.  For purposes of satisfying the claims processing timing \\nrequirements of the Employee Retirement Income Security Act (ERISA), receipt of claim will be considered to be met when the appropriate claim form is received by The Principal.   \\nArticle 4 - Payment, Denial, and Review  \\n \\nERISA permits up to 45 days from receipt of claim for processing the claim.  If a claim cannot \\nbe processed due to incomplete information, The Principal will send a Written explanation prior to the expiration of the 45 days.  The claimant is then allowed up to 45 days to provide all \\nadditional information requested.  The Principal is permitted two 30 -day extensions for \\nprocessing an incomplete claim.  Written notification will be sent to the claimant regarding the extension.'),\n",
              " Document(metadata={'source': '/content/drive/MyDrive/Colab_Notebooks/Semantic_Spotter_Project/Principal-Sample-Life-Insurance-Policy.pdf', 'page': 60}, page_content='In actual practice, benefits under this Group Policy will be payable sooner, provided The Principal receives complete and proper proof of loss.  Further, if a claim is not payable or cannot be processed, The Principal will submit a detailed explanation of the basis for its denial.'),\n",
              " Document(metadata={'source': '/content/drive/MyDrive/Colab_Notebooks/Semantic_Spotter_Project/Principal-Sample-Life-Insurance-Policy.pdf', 'page': 61}, page_content='This policy has been updated effective  January 1, 2014  \\n \\n \\nPART IV - BENEFITS  \\nGC 6018  Section D - Claim Procedures, Page 2  \\n A claimant may request an appeal of a claim denial by Written request to The Principal within \\n180 days of receipt of notice of the denial.  The Principal will make a full and fair review of the claim.  The Principal may require a dditional information to make the review.  The Principal will \\nnotify the claimant in Writing of the appeal decision within 45 days after receipt of the appeal request.  If the appeal cannot be processed within the 45- day period because The Principal did \\nnot receive the requested additional information, The Principal is permitted a 45- day extension'),\n",
              " Document(metadata={'source': '/content/drive/MyDrive/Colab_Notebooks/Semantic_Spotter_Project/Principal-Sample-Life-Insurance-Policy.pdf', 'page': 61}, page_content='not receive the requested additional information, The Principal is permitted a 45- day extension \\nfor the review.  Written notification will be sent to the claimant regarding the extension.  After exhaustion of the formal appeal process, the claimant may request an additional appeal.  However, this appeal is voluntary and does not need to be filed before asserting rights to legal action.  \\n For purposes of this section, \"claimant\" means Member, Dependent, or Beneficiary.  \\n  \\nArticle 5 - Medical Examinations  \\n \\nThe Pr incipal may have the Member or Dependent whose loss is the basis for claim, be \\nexamined by a Physician during the course of a claim.  The Principal will pay for these \\nexaminations and will choose the Physician to perform them.  \\n  \\nArticle 6 - Autopsy  \\n \\nIf payment for loss of life is claimed, The Principal may require an autopsy.  The Principal will \\npay for any such autopsy. \\n \\n \\nArticle 7 - Legal Action'),\n",
              " Document(metadata={'source': '/content/drive/MyDrive/Colab_Notebooks/Semantic_Spotter_Project/Principal-Sample-Life-Insurance-Policy.pdf', 'page': 61}, page_content='pay for any such autopsy. \\n \\n \\nArticle 7 - Legal Action  \\n \\nLegal action to recover benefits under this Group Policy may not be started earlier than 90 days \\nafter requ ired proof of loss has been filed and before the appeal procedures have been exhausted.  \\nFurther, no legal action may be started later than three years after that proof is required to be filed.  \\n  \\nArticle 8 - Time Limits  \\n \\nAny time limits in this section will be adjusted as required by law.'),\n",
              " Document(metadata={'source': '/content/drive/MyDrive/Colab_Notebooks/Semantic_Spotter_Project/Principal-Sample-Life-Insurance-Policy.pdf', 'page': 62}, page_content='This page left blank intentionally'),\n",
              " Document(metadata={'source': '/content/drive/MyDrive/Colab_Notebooks/Semantic_Spotter_Project/Principal-Sample-Life-Insurance-Policy.pdf', 'page': 63}, page_content='Principal Life Insurance Company  \\nDes Moines, Iowa 50392 -0002')]"
            ]
          },
          "metadata": {},
          "execution_count": 10
        }
      ],
      "source": [
        "texts"
      ]
    },
    {
      "cell_type": "markdown",
      "metadata": {
        "id": "oygx9b2VzqIX"
      },
      "source": [
        "## 3. Generate and Store Embeddings using OpenAI and ChromaDB\n",
        "\n",
        "In this section, we will embed the pages in the dataframe through OpenAI's `text-embedding-ada-002` model, and store them in a ChromaDB collection."
      ]
    },
    {
      "cell_type": "code",
      "source": [
        "# Set up OpenAI embeddings\n",
        "embedding_model = OpenAIEmbeddings(model=\"text-embedding-ada-002\", openai_api_key=openai_api_key)"
      ],
      "metadata": {
        "colab": {
          "base_uri": "https://localhost:8080/"
        },
        "id": "l-d2-HL4qWZJ",
        "outputId": "63a9b805-5653-451b-da63-a0882c06e1ce"
      },
      "execution_count": 11,
      "outputs": [
        {
          "output_type": "stream",
          "name": "stderr",
          "text": [
            "<ipython-input-11-13946b8a9bdc>:2: LangChainDeprecationWarning: The class `OpenAIEmbeddings` was deprecated in LangChain 0.0.9 and will be removed in 1.0. An updated version of the class exists in the :class:`~langchain-openai package and should be used instead. To use it run `pip install -U :class:`~langchain-openai` and import as `from :class:`~langchain_openai import OpenAIEmbeddings``.\n",
            "  embedding_model = OpenAIEmbeddings(model=\"text-embedding-ada-002\", openai_api_key=openai_api_key)\n"
          ]
        }
      ]
    },
    {
      "cell_type": "code",
      "source": [
        "# Initialize Chroma for vector storage with persistent storage path\n",
        "chroma_persist_path = \"/content/drive/MyDrive/Colab_Notebooks/Semantic_Spotter_Project/ChromaDB_Data\"\n",
        "vector_store = Chroma.from_documents(texts, embedding_model, persist_directory=chroma_persist_path)"
      ],
      "metadata": {
        "id": "IJkciqJ8qWh_"
      },
      "execution_count": 12,
      "outputs": []
    },
    {
      "cell_type": "code",
      "source": [
        "# Save the vector store for future use\n",
        "vector_store.persist()"
      ],
      "metadata": {
        "colab": {
          "base_uri": "https://localhost:8080/"
        },
        "id": "jGxFzvKfqWlY",
        "outputId": "25269a7d-ab8a-48d4-f21c-e6d166edf216"
      },
      "execution_count": 13,
      "outputs": [
        {
          "output_type": "stream",
          "name": "stderr",
          "text": [
            "<ipython-input-13-0b60a2cb076c>:2: LangChainDeprecationWarning: Since Chroma 0.4.x the manual persistence method is no longer supported as docs are automatically persisted.\n",
            "  vector_store.persist()\n"
          ]
        }
      ]
    },
    {
      "cell_type": "code",
      "source": [
        "# Implement caching using LangChain's VectorStore\n",
        "cache_store = Chroma(persist_directory=chroma_persist_path, embedding_function=embedding_model)"
      ],
      "metadata": {
        "colab": {
          "base_uri": "https://localhost:8080/"
        },
        "id": "29Z2_0ndq_Hn",
        "outputId": "dda172f3-7138-4ad2-d481-cd636843de2a"
      },
      "execution_count": 14,
      "outputs": [
        {
          "output_type": "stream",
          "name": "stderr",
          "text": [
            "<ipython-input-14-04e0ee63cd64>:2: LangChainDeprecationWarning: The class `Chroma` was deprecated in LangChain 0.2.9 and will be removed in 1.0. An updated version of the class exists in the :class:`~langchain-chroma package and should be used instead. To use it run `pip install -U :class:`~langchain-chroma` and import as `from :class:`~langchain_chroma import Chroma``.\n",
            "  cache_store = Chroma(persist_directory=chroma_persist_path, embedding_function=embedding_model)\n"
          ]
        }
      ]
    },
    {
      "cell_type": "markdown",
      "metadata": {
        "id": "VSPM3aJ7lZd2"
      },
      "source": [
        "## 4. Semantic Search with Cache\n",
        "\n",
        "In this section, we will perform a semantic search of a query in the collections embeddings to get several top semantically similar results."
      ]
    },
    {
      "cell_type": "code",
      "source": [
        "# Define a retrieval-based question-answering chain with LangChain\n",
        "retriever = vector_store.as_retriever(search_type=\"similarity\", search_kwargs={\"k\": 10})"
      ],
      "metadata": {
        "id": "YN9GrxlWq-48"
      },
      "execution_count": 15,
      "outputs": []
    },
    {
      "cell_type": "code",
      "source": [
        "# Define query handling with caching\n",
        "def get_results_with_cache(query: str):\n",
        "    # Search in cache first\n",
        "    cache_results = cache_store.similarity_search(query, k=1)\n",
        "\n",
        "    # Check if cache_results is not empty and if the first element has 'score' before accessing it\n",
        "    if cache_results and hasattr(cache_results[0], 'score') and cache_results[0].score < 0.2:  # Check if 'score' attribute exists\n",
        "        print(\"Found in cache!\")\n",
        "        return cache_results\n",
        "    else:\n",
        "        print(\"Not found in cache. Searching main collection...\")\n",
        "        results = retriever.get_relevant_documents(query)\n",
        "        cache_store.add_texts([query], metadatas=[{\"query\": query}])\n",
        "        return results"
      ],
      "metadata": {
        "id": "gKcZuaV_rSzq"
      },
      "execution_count": 16,
      "outputs": []
    },
    {
      "cell_type": "code",
      "source": [
        "# Define a prompt template for LangChain\n",
        "prompt_template = \"\"\"\n",
        "You are a helpful assistant specializing in insurance policies. Answer the user's query accurately using the provided documents.\n",
        "Query: {query}\n",
        "Documents: {context}\n",
        "\n",
        "Respond clearly and concisely, citing relevant policy names and page numbers where appropriate.\n",
        "\"\"\"\n",
        "\n",
        "prompt = PromptTemplate(input_variables=[\"query\", \"context\"], template=prompt_template)"
      ],
      "metadata": {
        "id": "72eNkD6GrS20"
      },
      "execution_count": 17,
      "outputs": []
    },
    {
      "cell_type": "code",
      "source": [
        "# Perform a sample query\n",
        "query = \"What are the policy benefits for accidental death?\""
      ],
      "metadata": {
        "id": "ZJtVkUt0rS6b"
      },
      "execution_count": 18,
      "outputs": []
    },
    {
      "cell_type": "code",
      "execution_count": 19,
      "metadata": {
        "id": "7w_JdePjjNoA"
      },
      "outputs": [],
      "source": [
        "# Read the user query\n",
        "\n",
        "#query = input()"
      ]
    },
    {
      "cell_type": "code",
      "source": [
        "# Get relevant documents (with caching support)\n",
        "results = get_results_with_cache(query)"
      ],
      "metadata": {
        "colab": {
          "base_uri": "https://localhost:8080/"
        },
        "id": "jfBuvjDY4uEL",
        "outputId": "7d380626-566a-4373-fdac-dc6d11694b9e"
      },
      "execution_count": 20,
      "outputs": [
        {
          "output_type": "stream",
          "name": "stdout",
          "text": [
            "Not found in cache. Searching main collection...\n"
          ]
        },
        {
          "output_type": "stream",
          "name": "stderr",
          "text": [
            "<ipython-input-16-a28314e26050>:12: LangChainDeprecationWarning: The method `BaseRetriever.get_relevant_documents` was deprecated in langchain-core 0.1.46 and will be removed in 1.0. Use :meth:`~invoke` instead.\n",
            "  results = retriever.get_relevant_documents(query)\n"
          ]
        }
      ]
    },
    {
      "cell_type": "code",
      "source": [
        "results"
      ],
      "metadata": {
        "colab": {
          "base_uri": "https://localhost:8080/"
        },
        "id": "0ohA6wic7HzT",
        "outputId": "8cd36a18-52f5-4ca9-95b1-ce20e7d32e62"
      },
      "execution_count": 21,
      "outputs": [
        {
          "output_type": "execute_result",
          "data": {
            "text/plain": [
              "[Document(metadata={'page': 54, 'source': '/content/drive/MyDrive/Colab_Notebooks/Semantic_Spotter_Project/Principal-Sample-Life-Insurance-Policy.pdf'}, page_content='This policy has been updated effective  January 1, 2014  \\n \\n      PART IV - BENEFITS  \\nGC 6015  Section B - Member Accidental Death and \\nDismemberment Insurance, Page 3  \\n  \\nExposure  \\n \\nExposure to the elements will be presumed to be an injury if:  \\n \\na. such exposure is due to an accidental bodily injury; and  \\n b. within 365 days after the injury, the Member incurs a loss that is the result of the exposure; and \\n c. this Group Policy would have covered the injury resulting from the accident. \\n  \\nArticle 4 - Seat Belt/Airbag Benefit   \\n \\nIf the Member loses his or her life as a result of an acciden tal injury sustained while driving or \\nriding in an Automobile, an additional benefit of $10,000 will be paid to the beneficiary named \\nfor Member Life Insurance, provided all Benefit Qualifications as described in Article 2 are met \\nand: \\n a. the Automobile i s equipped with factory -installed Seat Belts; and'),\n",
              " Document(metadata={'page': 53, 'source': '/content/drive/MyDrive/Colab_Notebooks/Semantic_Spotter_Project/Principal-Sample-Life-Insurance-Policy.pdf'}, page_content='This policy has been updated effective  January 1, 2014  \\n \\n      PART IV - BENEFITS  \\nGC 6015  Section B - Member Accidental Death and \\nDismemberment Insurance, Page 2  \\n f. claim requirements listed in PART IV, Section D, must be sa tisfied; and  \\n \\ng. all medical evidence must be satisfactory to The Principal.  \\n  \\nArticle 3 - Benefits Payable \\n \\nIf all of the benefit qualifications are met, The Principal will pay:  \\n \\na. 100% of the Scheduled Benefit (or approved amount, if applicable) in forc e for loss of life; \\nor \\n b. 50% of the Scheduled Benefit (or approved amount, if applicable) in force if one hand is severed at or above the wrist; or  \\n c. 25% of the Scheduled Benefit (or approved amount, if applicable) in force for loss of thumb and index finger on the same hand; or  \\n d. 50% of the Scheduled Benefit (or approved amount, if applicable) in force if one foot is severed at or above the ankle; or'),\n",
              " Document(metadata={'page': 52, 'source': '/content/drive/MyDrive/Colab_Notebooks/Semantic_Spotter_Project/Principal-Sample-Life-Insurance-Policy.pdf'}, page_content='This policy has been updated effective  January 1, 2014  \\n \\n      PART IV - BENEFITS  \\nGC 6015  Section B - Member Accidental Death and \\nDismemberment Insurance, Page 1  \\n Section B -  Member Accidental Death and Dismemberment Insurance  \\n \\n Article 1 - Schedule of Insurance  \\n \\nSubject to the Effective Date provisions of PART III, Section B, and the qualifying provisions of \\nthis Section B, the Scheduled Benefit for an insured Member will be based on his or her class:  \\n \\nClass  *Scheduled Benefit  \\n  \\nALL MEMBERS  $10,000  \\n  *The Scheduled Benefit is subject to the Proof of Good Health requirements as shown in PART III, Section B, Article 1.  Because of the Proof of Good Health requirements, the amount of insurance approved by The Principal may be different than the Scheduled Benefit.  If the approved amount of insurance is different than the Scheduled Benefit, the approved amount will \\napply.'),\n",
              " Document(metadata={'page': 55, 'source': '/content/drive/MyDrive/Colab_Notebooks/Semantic_Spotter_Project/Principal-Sample-Life-Insurance-Policy.pdf'}, page_content=\"This policy has been updated effective  January 1, 2014  \\n \\n      PART IV - BENEFITS  \\nGC 6015  Section B - Member Accidental Death and \\nDismemberment Insurance, Page 4  \\n  \\nIf a Member sustains an injury, and as a result of such injury, one or more of the covered losses \\nlisted below are  incurred, The Principal will pay the following percentages of the Member's \\nScheduled Benefit (or approved amount, if applicable) in force, provided all Benefit Qualifications as described in Article 2 are met.  \\n \\n \\n  % of Scheduled  \\n Covered Loss  Benefit  \\n   \\nLoss of Use or Paralysis    \\n Quadriplegia  100%  \\n   \\n Paraplegia  50% \\n   \\n Hemiplegia  50% \\n   \\n Both Hands or Both Feet  50% \\n   \\n One Hand and One Foot  50% \\n   \\n One Arm or One Leg  25% \\n   \\n One Hand or One Foot  25% \\n The Principal does not pay an Accidental Death and Dismemberment benefit for any paralysis caused by a stroke.\"),\n",
              " Document(metadata={'page': 46, 'source': '/content/drive/MyDrive/Colab_Notebooks/Semantic_Spotter_Project/Principal-Sample-Life-Insurance-Policy.pdf'}, page_content=\"This policy has been updated effective  January 1, 2014  \\n \\n \\nPART IV - BENEFITS  \\nGC 6013  Section A - Member Life Insurance, Page 2  \\n Member's death, the Death B enefits Payable may be withheld until additional information has \\nbeen received or the trial has been held.  \\n \\nIf a Member who was insured dies within the 31- day individual purchase period described in \\nPART III, Section F, The Principal will pay his or her be neficiary the individual policy amount, \\nif any, the Member had the right to purchase.  \\n No payment will be made before The Principal receives Written proof of the Member's death.  \\n  \\nArticle 3 - Beneficiary  \\n \\nA beneficiary should be named at the time a Member applies or enrolls under this Group Policy.\"),\n",
              " Document(metadata={'page': 34, 'source': '/content/drive/MyDrive/Colab_Notebooks/Semantic_Spotter_Project/Principal-Sample-Life-Insurance-Policy.pdf'}, page_content=\"A Member's Accidental Death and Dismemberment Insurance under this Group Policy will \\nterminate on the earliest of:  a. the date his or her Member Life Insurance ceases; or  \\n b. the date Member Accidental Death and Dismemberment Insurance is removed from this Group Policy; or  \\n c. the date the last premium is paid for the Member's Accidental Death and Dismemberment Insurance; or  \\n d.  any date desired, if requested by the Member before that date; or  \\n e. the date the Member ceases to be in a clas s for which Member Accidental Death and \\nDismemberment Insurance is provided.  \\n  \\nArticle 3 - Dependent Life Insurance\"),\n",
              " Document(metadata={'page': 7, 'source': '/content/drive/MyDrive/Colab_Notebooks/Semantic_Spotter_Project/Principal-Sample-Life-Insurance-Policy.pdf'}, page_content='This policy has been updated effective January 1, 2014  \\n \\n \\n \\nGC 6001  TABLE OF CONTENTS, PAGE 3  \\n  \\n \\n Section A - Member Life Insurance  \\n \\n \\n Schedule of Insurance  Article 1  \\n Death Benefits Payable  Article 2  \\n Beneficiary  Article 3  \\n Facility of Payment  Article 4  \\n Settlement of Proceeds  Article 5  \\n Member Life Insurance - Coverage During Disability  Article 6  \\n \\n Accelerated Benefits  Article 7  \\n \\n \\n Section B - Member Accidental Death and Dismemberment Insurance  \\n \\n \\n Schedule of Insurance  Article 1  \\n Benefit Qualification  Article 2  \\n Benefits Payable  Article 3  \\n \\n Seat Belt Benefit  Article 4  \\n Loss of Use or Paralysis Benefit  Article 5  \\n Loss of Speech and/or Hearing Benefit  Article 6  \\n Repatriation Benefit  Article 7  \\n Educational Benefit  Article 8  \\n \\n Limitations  Article 9  \\n \\n \\n Section C - Dependent Life  Insurance  \\n \\n \\n Schedule of Insurance  Article 1  \\n Death Benefits Payable  Article 2  \\n Beneficiary  Article 3'),\n",
              " Document(metadata={'page': 57, 'source': '/content/drive/MyDrive/Colab_Notebooks/Semantic_Spotter_Project/Principal-Sample-Life-Insurance-Policy.pdf'}, page_content=\"This policy has been updated effective  January 1, 2014  \\n \\n      PART IV - BENEFITS  \\nGC 6015  Section B - Member Accidental Death and \\nDismemberment Insurance, Page 6  \\n  \\na. willful self -injury or self -destruction, while sane or insane; or  \\n b. disease, medical or surgical treatment of disease, or complications following the surgical treatment o f disease; or  \\n c. voluntary participation in an assault, felony, criminal activity, insurrection, or riot; or  \\n d. participation in flying, ballooning, parachuting, parasailing, bungee jumping or other aeronautic activities, except as a passenger on a commercial aircraft or as a passenger in a Policyholder -owned or leased aircraft on company business; or  \\n e. duty as a member of a military organization; or  \\n f. war or act of war; or  \\n g. the use of alcohol if, at the time of the injury, the Member's alcohol concentration exceeds \\nthe legal limit allowed by the jurisdiction where the injury occurs; or\"),\n",
              " Document(metadata={'page': 56, 'source': '/content/drive/MyDrive/Colab_Notebooks/Semantic_Spotter_Project/Principal-Sample-Life-Insurance-Policy.pdf'}, page_content='This policy has been updated effective  January 1, 2014  \\n \\n      PART IV - BENEFITS  \\nGC 6015  Section B - Member Accidental Death and \\nDismemberment Insurance, Page 5  \\n  \\n \\n  % of Scheduled  \\n Covered Loss  Benefit  \\n   \\nLoss of Speech and/or Hearing    \\n Speech and Hearing  100%  \\n   \\n Speech or Hearing  50% \\n   \\n Hearing in One Ear  25% \\n \\nLoss must be determined by a Physician to be permanent, complete, and irreversible.   \\n Total payment for all losses that result from the same accident will not exceed the Scheduled Benefit (or approved amount, if applicable).  Payment for Loss will be to t he Member.  \\n For this benefit, the term \"Loss\" means a total and irrevocable Loss of speech or hearing, which has continued for 12 consecutive months. \\n \\n \\nArticle 7 - Repatriation Benefit  \\n \\nIf a benefit is paid under this Section B for loss of the Member\\'s lif e and death occurred at least'),\n",
              " Document(metadata={'page': 56, 'source': '/content/drive/MyDrive/Colab_Notebooks/Semantic_Spotter_Project/Principal-Sample-Life-Insurance-Policy.pdf'}, page_content='100 miles away from the Member\\'s permanent place of residence, all customary and reasonable \\nexpenses incurred for preparation of the body and its transportation to the place of burial or \\ncremation will be paid up to a maximum benefit payment of $2,000.  \\n \\n \\nArticle 8 - Educational Benefit  \\n \\nIf a benefit is paid under this Section B for loss of the Member\\'s life, an extra benefit of $3,000 \\nwill be paid annually for a maximum of four years to each Qualified Student.  This annual \\nbenefit will be paid consecutively, while the Qualified Student continues his or her education as \\na Full -Time Student at an accredited post -secondary school.  \\n \\nFor the purpose of this benefit, \"Qualified Student\" means a Dependent Child who is, at the time \\nof the Member\\'s death, a Full -Time Student at an accredited post -secondary school.  A 12th \\ngrade student will become a Qualified Student if he or she enrolls in an accredited post -\\nsecondary school within 12 months of the Member\\'s death.')]"
            ]
          },
          "metadata": {},
          "execution_count": 21
        }
      ]
    },
    {
      "cell_type": "code",
      "source": [
        "# Format the retrieved documents into a context string\n",
        "context = \"\\n\\n\".join([doc.page_content for doc in results])"
      ],
      "metadata": {
        "id": "-vuDJmmP4uHm"
      },
      "execution_count": 22,
      "outputs": []
    },
    {
      "cell_type": "markdown",
      "source": [
        "## 4. Generation LLM output using the GPT-3.5-turbo Model\n",
        "\n",
        "In this section, we will generate the output using langchain chains"
      ],
      "metadata": {
        "id": "Y3NpbYVK9nrw"
      }
    },
    {
      "cell_type": "code",
      "source": [
        "# Initialize the OpenAI chat model\n",
        "llm = ChatOpenAI(model=\"gpt-3.5-turbo\", openai_api_key=openai_api_key)"
      ],
      "metadata": {
        "colab": {
          "base_uri": "https://localhost:8080/"
        },
        "id": "aszQ1Oxl-kEo",
        "outputId": "dfcfc9f4-9a75-4ee0-b61d-aaf28678549c"
      },
      "execution_count": 23,
      "outputs": [
        {
          "output_type": "stream",
          "name": "stderr",
          "text": [
            "<ipython-input-23-8f3501ee7209>:2: LangChainDeprecationWarning: The class `ChatOpenAI` was deprecated in LangChain 0.0.10 and will be removed in 1.0. An updated version of the class exists in the :class:`~langchain-openai package and should be used instead. To use it run `pip install -U :class:`~langchain-openai` and import as `from :class:`~langchain_openai import ChatOpenAI``.\n",
            "  llm = ChatOpenAI(model=\"gpt-3.5-turbo\", openai_api_key=openai_api_key)\n"
          ]
        }
      ]
    },
    {
      "cell_type": "code",
      "source": [
        "# Define an LLMChain to structure the interaction between the LLM and the prompt\n",
        "llm_chain = LLMChain(prompt=prompt, llm=llm)"
      ],
      "metadata": {
        "colab": {
          "base_uri": "https://localhost:8080/"
        },
        "id": "WkP-HaqZ-jtJ",
        "outputId": "2b903916-6f30-47d8-fac0-b022fbae83f6"
      },
      "execution_count": 24,
      "outputs": [
        {
          "output_type": "stream",
          "name": "stderr",
          "text": [
            "<ipython-input-24-100b8634839a>:2: LangChainDeprecationWarning: The class `LLMChain` was deprecated in LangChain 0.1.17 and will be removed in 1.0. Use :meth:`~RunnableSequence, e.g., `prompt | llm`` instead.\n",
            "  llm_chain = LLMChain(prompt=prompt, llm=llm)\n"
          ]
        }
      ]
    },
    {
      "cell_type": "code",
      "source": [
        "# Prepare the inputs for the LLMChain\n",
        "inputs = {\"query\": query, \"context\": context}"
      ],
      "metadata": {
        "id": "Yc6HW4Pb4uKS"
      },
      "execution_count": 25,
      "outputs": []
    },
    {
      "cell_type": "code",
      "source": [
        "# Generate the final response using the LLMChain\n",
        "response = llm_chain.run(inputs)"
      ],
      "metadata": {
        "colab": {
          "base_uri": "https://localhost:8080/"
        },
        "id": "r305Enq-45WU",
        "outputId": "780bdbb5-1de0-4f7f-9504-adcb55783120"
      },
      "execution_count": 26,
      "outputs": [
        {
          "output_type": "stream",
          "name": "stderr",
          "text": [
            "<ipython-input-26-89e7d16e28ca>:2: LangChainDeprecationWarning: The method `Chain.run` was deprecated in langchain 0.1.0 and will be removed in 1.0. Use :meth:`~invoke` instead.\n",
            "  response = llm_chain.run(inputs)\n"
          ]
        }
      ]
    },
    {
      "source": [
        "import textwrap\n",
        "\n",
        "# wraping response to a width of 150 characters\n",
        "wrapped_response = textwrap.fill(response, width=150)\n",
        "print(wrapped_response)"
      ],
      "cell_type": "code",
      "metadata": {
        "colab": {
          "base_uri": "https://localhost:8080/"
        },
        "id": "cWMWYUB57-Bb",
        "outputId": "bf8afffb-cf3d-455c-e117-81029cafe9a8"
      },
      "execution_count": 27,
      "outputs": [
        {
          "output_type": "stream",
          "name": "stdout",
          "text": [
            "The policy benefits for accidental death under Section B - Member Accidental Death and Dismemberment Insurance include the following:  - Scheduled\n",
            "Benefit of $10,000 for loss of life (Section B, Page 1) - Additional $10,000 benefit for loss of life in Automobile accidents with seat belt and\n",
            "airbag (Article 4) - Various percentages of the Scheduled Benefit for specific losses like paralysis, loss of limbs, speech, and hearing (Page 4, Page\n",
            "5) - Repatriation Benefit of up to $2,000 for transportation of the body (Article 7) - Educational Benefit of $3,000 annually for a maximum of four\n",
            "years for a Qualified Student (Article 8)  Please refer to Section B of the policy document, specifically Pages 1, 4, and 5 for detailed information\n",
            "on benefits payable for accidental death.\n"
          ]
        }
      ]
    }
  ],
  "metadata": {
    "accelerator": "GPU",
    "colab": {
      "gpuType": "T4",
      "provenance": [],
      "toc_visible": true
    },
    "kernelspec": {
      "display_name": "Python 3",
      "name": "python3"
    },
    "language_info": {
      "codemirror_mode": {
        "name": "ipython",
        "version": 3
      },
      "file_extension": ".py",
      "mimetype": "text/x-python",
      "name": "python",
      "nbconvert_exporter": "python",
      "pygments_lexer": "ipython3",
      "version": "3.11.5"
    }
  },
  "nbformat": 4,
  "nbformat_minor": 0
}